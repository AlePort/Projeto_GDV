{
 "cells": [
  {
   "cell_type": "markdown",
   "metadata": {
    "cell_style": "center",
    "id": "ce58rWM2QtJV"
   },
   "source": [
    "# **Modelagem**\n"
   ]
  },
  {
   "cell_type": "markdown",
   "metadata": {
    "hide_input": true,
    "id": "CgsDMREUumCV"
   },
   "source": [
    "![img](https://media.discordapp.net/attachments/748012097589215325/816803156112441374/unknown.png?width=576&height=676)"
   ]
  },
  {
   "cell_type": "markdown",
   "metadata": {
    "heading_collapsed": true,
    "id": "qiiJ6Yv5Oe6D"
   },
   "source": [
    "## **Instalação e importação**"
   ]
  },
  {
   "cell_type": "code",
   "execution_count": 49,
   "metadata": {
    "hidden": true,
    "id": "h07Gv4Yfeb4a"
   },
   "outputs": [],
   "source": [
    "%reset -f"
   ]
  },
  {
   "cell_type": "code",
   "execution_count": 50,
   "metadata": {
    "cell_style": "center",
    "code_folding": [],
    "colab": {
     "base_uri": "https://localhost:8080/"
    },
    "hidden": true,
    "hide_input": false,
    "id": "6OGdwlfuXImN",
    "outputId": "d0e6977f-6a3a-426f-cace-05004df8d707"
   },
   "outputs": [
    {
     "data": {
      "text/plain": [
       "'\\nfrom IPython.core.display import HTML\\nHTML(\"\"\"\\n<style>\\n.output_png {\\n    display: table-cell;\\n    text-align: center;\\n    vertical-align: middle;\\n}\\n</style>\\n\"\"\")\\n'"
      ]
     },
     "execution_count": 50,
     "metadata": {},
     "output_type": "execute_result"
    }
   ],
   "source": [
    "#Instalar e importar bibliotecas:\n",
    "\n",
    "try:\n",
    "  import CoolProp\n",
    "except ImportError:\n",
    "  !pip install CoolProp\n",
    "\n",
    "import matplotlib.pyplot as plt\n",
    "from matplotlib.ticker import AutoMinorLocator\n",
    "import CoolProp.CoolProp as cp\n",
    "from CoolProp.CoolProp import PropsSI as ps\n",
    "from CoolProp.CoolProp import State as st\n",
    "from tabulate import tabulate as tab\n",
    "import numpy as np\n",
    "from sympy import *\n",
    "import pandas as pd\n",
    "\n",
    "'''\n",
    "from IPython.core.display import HTML\n",
    "HTML(\"\"\"\n",
    "<style>\n",
    ".output_png {\n",
    "    display: table-cell;\n",
    "    text-align: center;\n",
    "    vertical-align: middle;\n",
    "}\n",
    "</style>\n",
    "\"\"\")\n",
    "'''"
   ]
  },
  {
   "cell_type": "markdown",
   "metadata": {
    "heading_collapsed": true,
    "id": "d64Tp25bzf4R"
   },
   "source": [
    "## **Unidade de medida**"
   ]
  },
  {
   "cell_type": "code",
   "execution_count": 51,
   "metadata": {
    "code_folding": [],
    "colab": {
     "base_uri": "https://localhost:8080/"
    },
    "hidden": true,
    "hide_input": false,
    "id": "DwEOOfQBs7Et",
    "outputId": "127fabe3-5d42-4f1d-cca0-bd96f732244d"
   },
   "outputs": [],
   "source": [
    "# Selecionar escala de temperatura:\n",
    "Temperatura = 'c' #input('Temperatura em °C ou em K? (Digite c ou k): ')"
   ]
  },
  {
   "cell_type": "markdown",
   "metadata": {
    "heading_collapsed": true,
    "id": "ooclRVh5xral"
   },
   "source": [
    "## **Declaração de variáveis**"
   ]
  },
  {
   "cell_type": "code",
   "execution_count": 52,
   "metadata": {
    "code_folding": [],
    "hidden": true,
    "id": "FvQEFmKpnzSc"
   },
   "outputs": [],
   "source": [
    "# Declarar estados:\n",
    "\n",
    "n = 12\n",
    "\n",
    "fld = \"Water\"\n",
    "cp.set_reference_state(fld,'DEF')\n",
    "if Temperatura == 'k':\n",
    "  Tnn = \"Temperatura [K]\"\n",
    "else:\n",
    "  Tnn = \"Temperatura [°C]\"\n",
    "\n",
    "mnn = \"Vazão mássica [kg/s]\"\n",
    "hnn = \"Entalpia [kJ/kg]\"\n",
    "rhonn = \"Massa específica [m³/kg]\"\n",
    "Pnn = \"Pressão [kPa]\"\n",
    "snn = \"Entropia [kJ/kg*K]\"\n",
    "Xnn = \"Título\"\n",
    "\n",
    "estado = np.arange(1, n+1, 1)\n",
    "\n",
    "T = np.linspace(0,0,n)\n",
    "m = np.linspace(0,0,n)\n",
    "h = np.linspace(0,0,n)\n",
    "rho = np.linspace(0,0,n)\n",
    "P = np.linspace(0,0,n)\n",
    "s = np.linspace(0,0,n)\n",
    "X = np.linspace(0,0,n)"
   ]
  },
  {
   "cell_type": "markdown",
   "metadata": {},
   "source": [
    "## **Caldeira**"
   ]
  },
  {
   "cell_type": "code",
   "execution_count": 53,
   "metadata": {},
   "outputs": [],
   "source": [
    "# Combustível:\n",
    "\n",
    "CH4 = np.array([1,4,0,0])\n",
    "C2H6 = np.array([2,6,0,0])\n",
    "C3H8 = np.array([3,8,0,0])\n",
    "C4H10 = np.array([4,10,0,0])\n",
    "CO2 = np.array([1,0,2,0])\n",
    "N2 = np.array([0,0,0,2])\n",
    "O2 = np.array([0,0,2,0])\n",
    "H2O = np.array([0,2,1,0])\n",
    "\n",
    "P_CH4 = 0.8897\n",
    "P_C2H6 = 0.0592\n",
    "P_C3H8 = 0.0191\n",
    "P_C4H10 = 0.0109\n",
    "P_C02 = 0.0121\n",
    "P_N2 = 0.0089\n",
    "P_O2 = 0.0001\n",
    "P_N2_Ar = 0.79\n",
    "P_O2_Ar = 0.21"
   ]
  },
  {
   "cell_type": "code",
   "execution_count": 54,
   "metadata": {
    "scrolled": false
   },
   "outputs": [
    {
     "data": {
      "text/plain": [
       "16.14939716388906"
      ]
     },
     "execution_count": 54,
     "metadata": {},
     "output_type": "execute_result"
    }
   ],
   "source": [
    "#Cálculos:\n",
    "\n",
    "MM = np.array([12.011,1.008,15.999,14.007])\n",
    "P_GN = [P_CH4,P_C2H6,P_C3H8,P_C4H10,P_C02,P_N2,P_O2]\n",
    "\n",
    "M_CH4 = np.sum(CH4*MM)\n",
    "M_C2H6 = np.sum(C2H6*MM)\n",
    "M_C3H8 = np.sum(C3H8*MM)\n",
    "M_C4H10 = np.sum(C4H10*MM)\n",
    "M_CO2 = np.sum(CO2*MM)\n",
    "M_N2 = np.sum(N2*MM)\n",
    "M_O2 = np.sum(O2*MM)\n",
    "M_H2O = np.sum(H2O*MM)\n",
    "M_Air = M_N2*P_N2_Ar+M_O2*P_O2_Ar\n",
    "\n",
    "M = [M_CH4,M_C2H6,M_C3H8,M_C4H10,M_CO2,M_N2,M_O2,M_N2,M_H2O]\n",
    "\n",
    "F_M = []\n",
    "for i in range(0,4):\n",
    "    F_M.append(P_GN)\n",
    "\n",
    "np.array(F_M)\n",
    "quant_atomos_comb = np.array([CH4,C2H6,C3H8,C4H10,CO2,N2,O2])\n",
    "m_comp_comb = np.sum(F_M*quant_atomos_comb.T,axis=1)\n",
    "m_comp_comb[2] = m_comp_comb[2]*(-1)\n",
    "\n",
    "P_GN.append(P_N2_Ar/P_O2_Ar) #acrecentar partes de O2\n",
    "P_GN.append(P_O2_Ar/P_O2_Ar) ##acrecentar partes de N2\n",
    "\n",
    "b = m_comp_comb[0]\n",
    "c = m_comp_comb[1]/2\n",
    "a = (m_comp_comb[2] + 2*b + c)/(2*P_GN[8])\n",
    "d = (m_comp_comb[3] + 2*a*P_GN[7])/2\n",
    "\n",
    "BLNC = [1,1,1,1,1,1,1,a,a]\n",
    "\n",
    "resposta = np.zeros((9,4))\n",
    "quant_atomos_molecula = np.array([CH4,C2H6,C3H8,C4H10,CO2,N2,O2,N2,O2])\n",
    "\n",
    "for i in range(0,9):\n",
    "    for j in range(0,4):\n",
    "        resposta[i,j] = quant_atomos_molecula[i,j] * MM[j] * P_GN[i] * BLNC[i]\n",
    "  \n",
    "fuel = resposta[0:7,0:4]\n",
    "air = resposta[7:9,0:4]\n",
    "soma = np.sum(resposta)\n",
    "M_fuel = np.sum(fuel) #Massa total de combustível\n",
    "soma_air = np.sum(air) #Massa total de ar\n",
    "total_elem = np.sum(fuel, axis=0,keepdims=True) #C_tot, H_tot, O_tot, N_tot\n",
    "\n",
    "F_tot = total_elem/M_fuel\n",
    "\n",
    "PCS = 33900*F_tot[0,0] + 141800*(F_tot[0,1] - (F_tot[0,2]/8))\n",
    "\n",
    "w = PCS/2440 - 9*F_tot[0,1]\n",
    "F_w = w/M_fuel\n",
    "\n",
    "PCI = PCS - 2440*(9*F_tot[0,1] - F_w)\n",
    "\n",
    "ȦḞ = a*(1+79/21)\n",
    "AF = ȦḞ*(M_Air/M_fuel)\n",
    "\n",
    "AF"
   ]
  },
  {
   "cell_type": "markdown",
   "metadata": {
    "heading_collapsed": true
   },
   "source": [
    "## **Estados**"
   ]
  },
  {
   "cell_type": "code",
   "execution_count": 55,
   "metadata": {
    "code_folding": [],
    "hidden": true,
    "hide_input": false,
    "id": "CXkMbWWey_uZ"
   },
   "outputs": [],
   "source": [
    "# Estado 1 - Entrada da turbina:\n",
    "\n",
    "m[0] = 27.9        #kg/s\n",
    "P[0] = 6495        #kPa\n",
    "T[0] = 485 + 273.15       #K\n",
    "st1 = st(fld, {'P':P[0],'T':T[0]})\n",
    "h[0] = st1.h         #entalpia\n",
    "s[0] = st1.s         #entropia\n",
    "X[0] = st1.Q\n",
    "rho[0] = st1.rho"
   ]
  },
  {
   "cell_type": "code",
   "execution_count": 56,
   "metadata": {
    "code_folding": [],
    "hidden": true,
    "hide_input": false,
    "id": "p-REZCpTzF__"
   },
   "outputs": [],
   "source": [
    "# Estado 2 - Primeira extração da turbina:\n",
    "\n",
    "P[1] = 900      #kPa\n",
    "st_isen2 = st(fld,{'P':P[1],'S':s[0]})     #turbina/bomba isentrópica ideal\n",
    "h_isen2 = st_isen2.h\n",
    "η_turb = 0.85       #eficiência da turbina\n",
    "h[1] = h[0] - (h[0] - h_isen2) * η_turb\n",
    "st2 = st(fld,{'P':P[1],'H':h[1]})\n",
    "s[1] = st2.s\n",
    "T[1] = st2.T\n",
    "X[1] = st2.Q\n",
    "rho[1] = st2.rho"
   ]
  },
  {
   "cell_type": "code",
   "execution_count": 57,
   "metadata": {
    "code_folding": [],
    "hidden": true,
    "hide_input": false,
    "id": "ddaMWZfozGJr"
   },
   "outputs": [],
   "source": [
    "# Estado 3 - Segunda extração da turbina:\n",
    "\n",
    "P[2] = 250     #kPa\n",
    "st_isen3 = st(fld,{'P':P[2],'S':s[1]})\n",
    "h_isen3 = st_isen3.h\n",
    "h[2] = h[1] - (h[1] - h_isen3) * η_turb\n",
    "st3 = st(fld,{'P':P[2],'H':h[2]})\n",
    "s[2] = st3.s\n",
    "rho[2] = st3.rho\n",
    "T[2] = st3.T\n",
    "X[2] = st3.Q"
   ]
  },
  {
   "cell_type": "code",
   "execution_count": 58,
   "metadata": {
    "code_folding": [],
    "hidden": true,
    "hide_input": false,
    "id": "Sz8Ao-OrzGQR"
   },
   "outputs": [],
   "source": [
    "# Estado 4 - Saída final da turbina / entrada do condensador:\n",
    "\n",
    "T[3] = 51 + 273.15 #K\n",
    "#P[3] = psi('P','T',T[3],'Q', 1, fld)/1000  #divide por 1000 pra sair em kPa\n",
    "st4 = st(fld, {'T': T[3], 'Q': 1})\n",
    "P[3] = st4.p\n",
    "st_isen4 = st(fld,{'P':P[3],'S':s[2]})\n",
    "h_isen4 = st_isen4.h\n",
    "h[3] = h[2] - (h[2] - h_isen4) * η_turb\n",
    "st4 = st(fld,{'P':P[3],'H':h[3]})\n",
    "X[3] = st4.Q      #título\n",
    "s[3]=st4.s\n",
    "rho[3] = st4.rho"
   ]
  },
  {
   "cell_type": "code",
   "execution_count": 59,
   "metadata": {
    "code_folding": [],
    "hidden": true,
    "id": "LEJHsowizGV4"
   },
   "outputs": [],
   "source": [
    "# Estado 5 - Saída do condensador / entrada da bomba:\n",
    "\n",
    "X[4] = 0\n",
    "P[4] = P[3]\n",
    "st5 = st(fld, {'P': P[4], 'Q': 0})\n",
    "h[4] = st5.h\n",
    "s[4] = st5.s\n",
    "T[4] = st5.T\n",
    "rho[4] = st5.rho"
   ]
  },
  {
   "cell_type": "code",
   "execution_count": 60,
   "metadata": {
    "code_folding": [],
    "hidden": true,
    "id": "L2DhkLiMzGal"
   },
   "outputs": [],
   "source": [
    "# Estado 6 - Entrada do desaerador / saída da bomba:\n",
    "\n",
    "P[5] = P[2]\n",
    "st_isen6 = st(fld, {'P': P[5], 'S': s[4]})\n",
    "h_isen6 = st_isen6.h\n",
    "η_pump = 0.85       #eficiência das bombas\n",
    "h[5] = (h_isen6 - h[4]) / η_pump + h[4]\n",
    "st6 = st(fld, {'P':P[5], 'H': h[5]})\n",
    "s[5] = st6.s\n",
    "T[5] = st6.T\n",
    "X[5] = st6.Q\n",
    "rho[5] = st6.rho"
   ]
  },
  {
   "cell_type": "code",
   "execution_count": 61,
   "metadata": {
    "code_folding": [],
    "hidden": true,
    "id": "WFpU6ULXzGed"
   },
   "outputs": [],
   "source": [
    "# Estado 7 - Saída do desaerador:\n",
    "\n",
    "P[6] = P[2]\n",
    "T[6] = 110 + 273.15\n",
    "st7 = st(fld, {'P': P[6], 'T': T[6]})\n",
    "h[6] = st7.h\n",
    "s[6] = st7.s\n",
    "X[6] = st7.Q\n",
    "rho[6] = st7.rho"
   ]
  },
  {
   "cell_type": "code",
   "execution_count": 62,
   "metadata": {
    "code_folding": [],
    "hidden": true,
    "id": "wPy5KvGizGiW"
   },
   "outputs": [],
   "source": [
    "# Estado 8 - Entrada da caldeira:\n",
    "\n",
    "P[7] = P[0]\n",
    "st_isen8 = st(fld, {'P': P[7], 'S': s[6]})\n",
    "h_isen8 = st_isen8.h\n",
    "h[7] = (h_isen8 - h[6]) / η_pump + h[6]\n",
    "st8 = st(fld, {'P': P[7], 'H': h[7]})\n",
    "T[7] = st8.T - 273.15\n",
    "s[7] = st8.s\n",
    "X[7] = st8.Q\n",
    "rho[7] = st8.rho"
   ]
  },
  {
   "cell_type": "code",
   "execution_count": 63,
   "metadata": {
    "code_folding": [],
    "hidden": true,
    "id": "KJ1aywD9zGmb"
   },
   "outputs": [],
   "source": [
    "# Estado 9 - Entrada da bomba:\n",
    "\n",
    "st9 = st7\n",
    "h[8] = st9.h\n",
    "s[8] = st9.s\n",
    "P[8] = st9.p\n",
    "T[8] = st9.T\n",
    "X[8] = st9.Q\n",
    "rho[8] = st9.rho"
   ]
  },
  {
   "cell_type": "code",
   "execution_count": 64,
   "metadata": {
    "code_folding": [],
    "hidden": true,
    "id": "yuCvmJP9zXpm"
   },
   "outputs": [],
   "source": [
    "# Estado 10 - Saída da bomba / entrada do trocador de calor:\n",
    "\n",
    "P[9] = P[1]\n",
    "st_isen10 = st(fld, {'P': P[9], 'S': s[8]})\n",
    "h_isen10 = st_isen10.h\n",
    "h[9] = (h_isen10 - h[8]) / η_pump + h[8]\n",
    "st10 = st(fld, {'P': P[9], 'H': h[9]})\n",
    "s[9] = st10.s\n",
    "T[9] = st10.T\n",
    "X[9] = st10.Q\n",
    "rho[9] = st10.rho"
   ]
  },
  {
   "cell_type": "code",
   "execution_count": 65,
   "metadata": {
    "code_folding": [],
    "hidden": true,
    "id": "2u8OvkBHzXxa"
   },
   "outputs": [],
   "source": [
    "# Estado 11 - Entrada do processo industrial vizinho:\n",
    "\n",
    "X[10] = 1\n",
    "P[10] = P[9]\n",
    "st11 = st(fld, {'P': P[10], 'Q': X[10]})\n",
    "h[10] = st11.h\n",
    "s[10] = st11.s\n",
    "T[10] = st11.T\n",
    "rho[10] = st11.rho"
   ]
  },
  {
   "cell_type": "code",
   "execution_count": 66,
   "metadata": {
    "code_folding": [],
    "hidden": true,
    "id": "csat_4x8zX8I"
   },
   "outputs": [],
   "source": [
    "# Estado 12 - Saída do processo industrial vizinho:\n",
    "\n",
    "X[11] = 0\n",
    "P[11] = P[9]\n",
    "st12 = st(fld, {'P':P[11], 'Q': X[11]})\n",
    "h[11] = st12.h\n",
    "s[11] = st12.s\n",
    "T[11] = st12.T\n",
    "rho[11] = st12.rho"
   ]
  },
  {
   "cell_type": "markdown",
   "metadata": {
    "id": "xUVh6vQoxkaO"
   },
   "source": [
    "## **Tabela - Estados**"
   ]
  },
  {
   "cell_type": "code",
   "execution_count": 67,
   "metadata": {
    "code_folding": [],
    "colab": {
     "base_uri": "https://localhost:8080/"
    },
    "hide_input": true,
    "id": "Xgtb-Op_bd4T",
    "outputId": "e2df6142-84d6-4189-b5a2-85bd249b476d",
    "scrolled": false
   },
   "outputs": [
    {
     "name": "stdout",
     "output_type": "stream",
     "text": [
      "========  ==================  ===============  ========  ==================  ====================  ==========================\n",
      "Estado    Temperatura [°C]    Pressão [kPa]    Título    Entalpia [kJ/kg]    Entropia [kJ/kg*K]    Massa específica [m³/kg]\n",
      "========  ==================  ===============  ========  ==================  ====================  ==========================\n",
      "1         485                 6495             -1        3381.2              6.7932                19.65\n",
      "2         243.27              900              -1        2932.08             6.9522                3.91\n",
      "3         127.41              250              1         2714.68             7.0479                1.39\n",
      "4         51                  12.98            0.89      2333.12             7.2557                0.1\n",
      "5         51                  12.98            0         213.52              0.7167                987.54\n",
      "6         51.02               250              -1        213.81              0.7169                987.64\n",
      "7         110                 250              -1        461.49              1.4187                951\n",
      "8         -162.4              6495             -1        469.21              1.4218                953.43\n",
      "9         110                 250              -1        461.49              1.4187                951\n",
      "10        110.08              900              -1        462.3               1.4191                951.25\n",
      "11        175.35              900              1         2773.03             6.6213                4.65\n",
      "12        175.35              900              0         742.56              2.094                 891.92\n",
      "========  ==================  ===============  ========  ==================  ====================  ==========================\n",
      "\n",
      "OBS: Tomar título \"-1\" como líquido sub-resfriado\n"
     ]
    }
   ],
   "source": [
    "# Tabela 1:\n",
    "headers=[\"Estado\", Tnn, Pnn, Xnn, hnn, snn, rhonn]\n",
    "table = list(range(n))\n",
    "\n",
    "for i in table:\n",
    "  if Temperatura == 'k':\n",
    "    T[i] = round(float(T[i]),2)\n",
    "  else:\n",
    "    T[i] = round(float(T[i]-273.15),2)\n",
    "  P[i] = round(float(P[i]),2)\n",
    "  X[i] = round(float(X[i]),2)\n",
    "  h[i] = round(float(h[i]),2)\n",
    "  s[i] = round(float(s[i]),4)\n",
    "  rho[i] = round(float(rho[i]),2)\n",
    "  table[i] = [estado[i], T[i], P[i], X[i], h[i], s[i], rho[i]]\n",
    "\n",
    "table = np.array(list(table))\n",
    "\n",
    "print(tab(table, headers, tablefmt=\"rst\", stralign=\"center\", numalign=\"left\"))\n",
    "print('\\nOBS: Tomar título \"-1\" como líquido sub-resfriado')\n",
    "\n",
    "for i in range(0, n):\n",
    "  if Temperatura == 'k':\n",
    "    T[i] = round(float(T[i]),2)\n",
    "  else:\n",
    "    T[i] = round(float(T[i]+273.15),2)\n",
    "\n",
    "st_antes = [st1, st2, st3, st4, st5, st6, st7, st8, st9, st10, st11, st12]"
   ]
  },
  {
   "cell_type": "markdown",
   "metadata": {
    "id": "-_WTU23Cql2h"
   },
   "source": [
    "## **Cálculos**"
   ]
  },
  {
   "cell_type": "code",
   "execution_count": 68,
   "metadata": {
    "code_folding": [],
    "hide_input": false,
    "id": "1Vr5HLlnk8K8"
   },
   "outputs": [],
   "source": [
    "# Cálculos:\n",
    "m1 = m[0]\n",
    "h1 = h[0]\n",
    "h2 = h[1]\n",
    "h3 = h[2]\n",
    "h4 = h[3]\n",
    "h5 = h[4]\n",
    "h6 = h[5]\n",
    "h7 = h[6]\n",
    "h8 = h[7]\n",
    "h9 = h[8]\n",
    "h10 = h[9]\n",
    "h11 = h[10]\n",
    "h12 = h[11]\n",
    " \n",
    "# Quantidade de iterações:\n",
    "quant = 10\n",
    " \n",
    "variacao = np.zeros(quant + 1, dtype = float)\n",
    "resultados = np.zeros((n+1)*(quant + 1), dtype = float).reshape((n+1, quant + 1))\n",
    " \n",
    "T_hout_cond = []\n",
    "η_sys = []\n",
    "W_liq =[]\n",
    "\n",
    "STT_T = []\n",
    "STT_P = []\n",
    "STT_X = []\n",
    "STT_h = []\n",
    "STT_s = []\n",
    "STT_v = []\n",
    "Ti = np.linspace(0,0,n)\n",
    "\n",
    "# Vazões mássicas:\n",
    "for i in range(quant + 1):\n",
    "  processo = i/10  \n",
    "  \n",
    "  m2, m3, m4, m5, m6, m7, m8, m9, m10, m11, m12 = var('m2, m3, m4, m5, m6, m7, m8, m9, m10, m11, m12')\n",
    "  EqMassa = [m8-m1, m4-m5, m5-m6, m9-m10, m11-m12, m2+m10-m11, m2+m3+m4-m1, m12+m3+m6-m7, m2*h2+m10*h10-m11*h11, m12*h12+m3*h3+m6*h6-m7*h7, m12-6.94*processo]\n",
    "  massa = linsolve(EqMassa, m2, m3, m4, m5, m6, m7, m8, m9, m10, m11, m12)\n",
    "  (m2, m3, m4, m5, m6, m7, m8, m9, m10, m11, m12) =  next(iter(massa))\n",
    " \n",
    "  massa = np.array(list(massa))\n",
    " \n",
    "  for j in range(quant + 1):\n",
    "    massa[0,j] = round(float(massa[0,j]),2)\n",
    " \n",
    "  variacao[i] = i*10\n",
    "  resultados[0, i] = variacao[i]\n",
    "  resultados[1, i] = m[0]\n",
    "  resultados[2:(n+1), i] = massa\n",
    " \n",
    "  # Saídas de energia:\n",
    "  W_p1 = -m5*(h5 - h6) #(Perde energia \"-\")\n",
    "  W_p2 = -m8*(h7 - h8) #(Perde energia \"-\")\n",
    "  W_p3 = -m9*(h9 - h10) #(Perde energia \"-\")\n",
    "  W_pump = W_p1 + W_p2 + W_p3 #(Somatório dos trabalhos da bombas)\n",
    " \n",
    "  # Eficiência da caldeira:\n",
    "  η_cald = 0.85\n",
    "  #PCI = 10000 # kJ/kg\n",
    " \n",
    "  # Encontra o trabalho gerado pela turbina e a vazão de combustível para a demanda:\n",
    "  W_t = m1*h1 - m2*h2 - m3*h3 - m4*h4\n",
    "  m_fuel = m1*(h1-h8)/(PCI*η_cald) #η_cald = m1*(h1-h8)/(m_fuel*PCI)\n",
    " \n",
    "  # Entrada de energia:\n",
    "  Q_in = m_fuel * PCI #(Ganha energia \"+\")\n",
    " \n",
    "  η_sys.append(round((W_t - W_pump)/Q_in, 4))\n",
    "  \n",
    "  W_liq.append(round(η_sys[i]*Q_in,2))\n",
    "\n",
    "  # Condensador:\n",
    "  T_cout = 39.5 \n",
    "  T_cin = 29\n",
    "  T_hin = T[3] - 273.15\n",
    " \n",
    "  ϵ = (T_cout - T_cin)/(T_hin - T_cin)\n",
    "  NUT = -ln(1 - ϵ)\n",
    "  \n",
    "  CT_in = st(fld, {'P': 101.325, 'T': T_cin + 273.15})\n",
    "  CT_out = st(fld, {'P': 101.325, 'T': T_cout + 273.15})\n",
    " \n",
    "  C_min = 4500/3600*(CT_in.rho + CT_out.rho)/2*(CT_in.cp + CT_out.cp)/2\n",
    "  \n",
    "  UA = NUT * C_min # Coeficiente global de tranferência de calor * Área\n",
    "  \n",
    "  # Sistema não-linear:\n",
    "  ΔT_0, ΔT_L, T_hout, ΔT_ml, Q_out = var('ΔT_0, ΔT_L, T_hout, ΔT_ml, Q_out')\n",
    "  EqCond = [ΔT_0-(T_hout-T_cin), ΔT_L-(T_hout-T_cout), ΔT_ml-(ΔT_0-ΔT_L)/ln(ΔT_0/ΔT_L), Q_out-UA*ΔT_ml, Q_out-m4*(h4-h5)]\n",
    "  EqCond_solve = nonlinsolve(EqCond, ΔT_0, ΔT_L, T_hout, ΔT_ml, Q_out) \n",
    "  (ΔT_0, ΔT_L, T_hout, ΔT_ml, Q_out) = next(iter(EqCond_solve))\n",
    "  \n",
    "  # Redefinindo estados:\n",
    "  T[3] = T_hout + 273.15 #K\n",
    "  #P[3] = psi('P','T',T[3],'Q', 1, fld)/1000  #divide por 1000 pra sair em kPa\n",
    "  st4 = st(fld, {'T': T[3], 'Q': 1})\n",
    "  P[3] = st4.p\n",
    "  st_isen4 = st(fld,{'P':P[3],'S':s[2]})\n",
    "  h_isen4 = st_isen4.h\n",
    "  h[3] = h[2] - (h[2] - h_isen4) * η_turb\n",
    "  st4 = st(fld,{'P':P[3],'H':h[3]})\n",
    "  X[3] = st4.Q      #título\n",
    "  s[3]=st4.s\n",
    "  rho[3] = st4.rho\n",
    "\n",
    "  X[4] = 0\n",
    "  P[4] = P[3]\n",
    "  st5 = st(fld, {'P': P[4], 'Q': X[4]})\n",
    "  h[4] = st5.h\n",
    "  s[4] = st5.s\n",
    "  T[4] = st5.T\n",
    "  rho[4] = st5.rho\n",
    "\n",
    "  P[5] = P[2]\n",
    "  st_isen6 = st(fld, {'P': P[5], 'S': s[4]})\n",
    "  h_isen6 = st_isen6.h\n",
    "  η_pump = 0.85       #eficiência das bombas\n",
    "  h[5] = (h_isen6 - h[4]) / η_pump + h[4]\n",
    "  st6 = st(fld, {'P':P[5], 'H': h[5]})\n",
    "  s[5] = st6.s\n",
    "  T[5] = st6.T\n",
    "  X[5] = st6.Q\n",
    "  rho[5] = st6.rho\n",
    "\n",
    "  P[6] = P[2]\n",
    "  T[6] = 110 + 273.15\n",
    "  st7 = st(fld, {'P': P[6], 'T': T[6]})\n",
    "  h[6] = st7.h\n",
    "  s[6] = st7.s\n",
    "  X[6] = st7.Q\n",
    "  rho[6] = st7.rho\n",
    "\n",
    "  P[7] = P[0]\n",
    "  st_isen8 = st(fld, {'P': P[7], 'S': s[6]})\n",
    "  h_isen8 = st_isen8.h\n",
    "  h[7] = (h_isen8 - h[6]) / η_pump + h[6]\n",
    "  st8 = st(fld, {'P': P[7], 'H': h[7]})\n",
    "  T[7] = st8.T - 273.15\n",
    "  s[7] = st8.s\n",
    "  X[7] = st8.Q\n",
    "  rho[7] = st8.rho\n",
    "\n",
    "  st9 = st7\n",
    "  h[8] = st9.h\n",
    "  s[8] = st9.s\n",
    "  P[8] = st9.p\n",
    "  T[8] = st9.T\n",
    "  X[8] = st9.Q\n",
    "  rho[8] = st9.rho\n",
    "\n",
    "  P[9] = P[1]\n",
    "  st_isen10 = st(fld, {'P': P[9], 'S': s[8]})\n",
    "  h_isen10 = st_isen10.h\n",
    "  h[9] = (h_isen10 - h[8]) / η_pump + h[8]\n",
    "  st10 = st(fld, {'P': P[9], 'H': h[9]})\n",
    "  s[9] = st10.s\n",
    "  T[9] = st10.T\n",
    "  X[9] = st10.Q\n",
    "  rho[9] = st10.rho\n",
    "\n",
    "  X[10] = 1\n",
    "  P[10] = P[9]\n",
    "  st11 = st(fld, {'P': P[10], 'Q': X[10]})\n",
    "  h[10] = st11.h\n",
    "  s[10] = st11.s\n",
    "  T[10] = st11.T\n",
    "  rho[10] = st11.rho\n",
    "\n",
    "  X[11] = 0\n",
    "  P[11] = P[9]\n",
    "  st12 = st(fld, {'P':P[11], 'Q': X[11]})\n",
    "  h[11] = st12.h\n",
    "  s[11] = st12.s\n",
    "  T[11] = st12.T\n",
    "  rho[11] = st12.rho\n",
    "  \n",
    "  for i in range(0,n):\n",
    "    if Temperatura == 'k':\n",
    "      Ti[i] = round(T[i],2)\n",
    "    else:\n",
    "      Ti[i] = round(T[i]-273.15,2)\n",
    "    P[i] = round(P[i],2)\n",
    "    X[i] = round(X[i],2)\n",
    "    h[i] = round(h[i],2)\n",
    "    s[i] = round(s[i],2)\n",
    "    rho[i] = round(rho[i],2)\n",
    "\n",
    "  STT_T.append([Tnn,processo*100,Ti[0],Ti[1],Ti[2],Ti[3],Ti[4],Ti[5],Ti[6],Ti[7],Ti[8],Ti[9],Ti[10],Ti[11]])\n",
    "  STT_P.append([Pnn,processo*100,P[0],P[1],P[2],P[3],P[4],P[5],P[6],P[7],P[8],P[9],P[10],P[11]])\n",
    "  STT_X.append([Xnn,processo*100,X[0],X[1],X[2],X[3],X[4],X[5],X[6],X[7],X[8],X[9],X[10],X[11]])\n",
    "  STT_h.append([hnn,processo*100,h[0],h[1],h[2],h[3],h[4],h[5],h[6],h[7],h[8],h[9],h[10],h[11]])\n",
    "  STT_s.append([snn,processo*100,s[0],s[1],s[2],s[3],s[4],s[5],s[6],s[7],s[8],s[9],s[10],s[11]])\n",
    "  STT_v.append([rhonn,processo*100,rho[0],rho[1],rho[2],rho[3],rho[4],rho[5],rho[6],rho[7],rho[8],rho[9],rho[10],rho[11]])\n",
    "\n",
    "  T_hout = round(T_hout, 2)    \n",
    "  T_hout_cond.append(T_hout)\n",
    "  \n",
    "# Adiciona linhas vazias entre as propriedades na tabela:\n",
    "STT_T.append([\"\",\"\",\"\",\"\",\"\",\"\",\"\",\"\",\"\",\"\",\"\",\"\",\"\",\"\"])\n",
    "STT_P.append([\"\",\"\",\"\",\"\",\"\",\"\",\"\",\"\",\"\",\"\",\"\",\"\",\"\",\"\"])\n",
    "STT_X.append([\"\",\"\",\"\",\"\",\"\",\"\",\"\",\"\",\"\",\"\",\"\",\"\",\"\",\"\"])\n",
    "STT_h.append([\"\",\"\",\"\",\"\",\"\",\"\",\"\",\"\",\"\",\"\",\"\",\"\",\"\",\"\"])\n",
    "STT_s.append([\"\",\"\",\"\",\"\",\"\",\"\",\"\",\"\",\"\",\"\",\"\",\"\",\"\",\"\"])\n",
    "STT_v.append([\"\",\"\",\"\",\"\",\"\",\"\",\"\",\"\",\"\",\"\",\"\",\"\",\"\",\"\"])\n",
    "\n",
    "# Incluir na tabela e gráfico:  \n",
    "np.reshape(variacao, (1,n-1))\n",
    "np.reshape(η_sys, (1,n-1))\n",
    "np.reshape(T_hout_cond, (1,n-1))\n",
    "np.reshape(W_liq, (1,n-1))\n",
    "\n",
    "for i in range(0, n):\n",
    "    T[i] = round(T[i],2)\n",
    "    P[i] = round(P[i],2)\n",
    "    X[i] = round(X[i],2)\n",
    "    h[i] = round(h[i],2)\n",
    "    s[i] = round(s[i],2)\n",
    "    rho[i] = round(rho[i],2)\n",
    "\n",
    "x = []\n",
    "y = []\n",
    "z = []\n",
    "w = []\n",
    "\n",
    "for i in range(0, quant+1):\n",
    "  x.append(variacao[i])\n",
    "  y.append(T_hout_cond[i])\n",
    "  z.append(η_sys[i])\n",
    "  w.append(W_liq[i])\n",
    "\n",
    "table2 = resultados.T\n",
    " \n",
    "resultados2 = np.zeros((n+4)*(quant + 1), dtype = float).reshape((n+4, quant + 1))\n",
    " \n",
    "for i in range(0, quant+1):\n",
    "  variacao[i] = i*10\n",
    "  resultados2[0, i] = resultados[0, i]\n",
    "  resultados2[1, i] = resultados[1, i]\n",
    "  resultados2[2:(n+1), i] = resultados[2:(n+1), i]\n",
    "  resultados2[n+2,i] = round(float(w[i]),2)\n",
    "  resultados2[n+3,i] = round(float(z[i]),4)\n",
    "table2 = resultados2.T\n",
    "\n",
    "st_depois = [st1, st2, st3, st4, st5, st6, st7, st8, st9, st10, st11, st12]"
   ]
  },
  {
   "cell_type": "code",
   "execution_count": 69,
   "metadata": {},
   "outputs": [
    {
     "ename": "SyntaxError",
     "evalue": "cannot assign to operator (<ipython-input-69-0275adcf492b>, line 65)",
     "output_type": "error",
     "traceback": [
      "\u001b[1;36m  File \u001b[1;32m\"<ipython-input-69-0275adcf492b>\"\u001b[1;36m, line \u001b[1;32m65\u001b[0m\n\u001b[1;33m    m19*CP_gas19amb*(T19-T_amb) + m8*h8 = h13*m13 + m20*CP_gas20amb*(T20-T_amb)\u001b[0m\n\u001b[1;37m    ^\u001b[0m\n\u001b[1;31mSyntaxError\u001b[0m\u001b[1;31m:\u001b[0m cannot assign to operator\n"
     ]
    }
   ],
   "source": [
    "'''# Balanço de energia da caldeira:\n",
    "\n",
    "m_air = AF*m_fuel\n",
    "m_gas = m_air + m_fuel\n",
    "m13 = m8\n",
    "m14 = m_fuel\n",
    "m15 = 0.1*m_air\n",
    "m16 = 0.9*m_air\n",
    "m17 = m16\n",
    "m18 = m_gas\n",
    "m19 = m18\n",
    "m20 = m19\n",
    "\n",
    "fld2 = 'Air'\n",
    "\n",
    "T_amb = 20 + 273.15 #K\n",
    "P_amb = 101.325 #kPa\n",
    "\n",
    "T15 = T_amb \n",
    "T16 = T_amb\n",
    "T8 = T[7]\n",
    "T20 = 200 + 273.15 #\n",
    "P20 = P_amb\n",
    "\n",
    "\n",
    "#Economizador:\n",
    "st13 = st(fld, {'P': P[7], 'Q': 0})\n",
    "T13 = st13.T - 30\n",
    "\n",
    "st13_2 = st(fld, {'P': P[7], 'T': T13})\n",
    "h13 = st13_2.h\n",
    "\n",
    "q13 = m13*(h13-h8)\n",
    "\n",
    "st20_1 = st('Water', {'P':P_amb, 'T':T20})\n",
    "st20_2 = st('CO2', {'P':P_amb, 'T':T20})\n",
    "st20_3 = st('Nitrogen', {'P':P_amb, 'T':T20})\n",
    "\n",
    "ΔT19 = q13/(m_gas*(0.0997*st20_1.cp+0.1771*st20_2.cp+0.7232*st20_3.cp))\n",
    "\n",
    "#Pré-Ar:\n",
    "T19 = T20 + ΔT19\n",
    "T17 = T16 + 200\n",
    "\n",
    "st16 = st(fld2, {'P':P_amb, 'T':T_amb})\n",
    "st17 = st(fld2, {'P':P_amb, 'T':T17})\n",
    "h16 = st16.h\n",
    "h17 = st17.h\n",
    "\n",
    "q17 = m17*(h17-h16)\n",
    "\n",
    "st19_1 = st('Water', {'P':P_amb, 'T':T19})\n",
    "st19_2 = st('CO2', {'P':P_amb, 'T':T19})\n",
    "st19_3 = st('Nitrogen', {'P':P_amb, 'T':T19})\n",
    "\n",
    "ΔT18 = q17/(m_gas*(0.0997*st19_1.cp+0.1771*st19_2.cp+0.7232*st19_3.cp))\n",
    "\n",
    "T18 = T19 + ΔT18\n",
    "\n",
    "#st17 = st(fld2, {'P':P16, 'T':T17})\n",
    "\n",
    "#Fornalha:\n",
    "\n",
    "\n",
    "m19*CP_gas19amb*(T19-T_amb) + m8*h8 = h13*m13 + m20*CP_gas20amb*(T20-T_amb)\n",
    "m18*CP_gas18amb*(T18-T_amb) = m17*cp_ar17amb*(T17-T_amb) + m19*CP_gas19amb*(T19-T_amb)\n",
    "m_fuel*PCI + m17*cp_ar17amb*(T17-T_amb)  + h13*m13 = m1*h1 + m18*CP_gas18amb*(T18-T_amb)\n",
    "\n",
    "\n",
    "print(T18)'''"
   ]
  },
  {
   "cell_type": "code",
   "execution_count": null,
   "metadata": {},
   "outputs": [],
   "source": [
    "# Balanço de energia da caldeira:\n",
    "\n",
    "import panel as pn\n",
    "from panel.interact import interact\n",
    "pn.extension()\n",
    "\n",
    "m_air = AF*m_fuel\n",
    "m_gas = m_air + m_fuel\n",
    "m13 = m8\n",
    "m14 = m_fuel\n",
    "m15 = 0.1*m_air\n",
    "m16 = 0.9*m_air\n",
    "m17 = m16\n",
    "m18 = m_gas\n",
    "m19 = m18\n",
    "m20 = m19\n",
    "\n",
    "fld2 = 'Air'\n",
    "\n",
    "T_amb = 20 + 273.15 #K\n",
    "P_amb = 101.325 #kPa\n",
    "\n",
    "T15 = T_amb \n",
    "T16 = T_amb\n",
    "T8 = T[7]\n",
    "T20 = 200 + 273.15 #\n",
    "P20 = P_amb\n",
    "\n",
    "\n",
    "slider = pn.widgets.IntSlider(start=30, end=100, value=10, name='ΔT13')\n",
    "\n",
    "def f(ΔT13):\n",
    "\n",
    "  #Economizador:\n",
    "  st13 = st(fld, {'P': P[7], 'Q': 0})\n",
    "\n",
    "  T13 = st13.T - ΔT13   #chute\n",
    "\n",
    "  st13_2 = st(fld, {'P': P[7], 'T': T13})\n",
    "  h13 = st13_2.h\n",
    "\n",
    "  q13 = m13*(h13-h8)\n",
    "\n",
    "  st20_1 = st('Water', {'P':P_amb, 'T':T20})\n",
    "  st20_2 = st('CO2', {'P':P_amb, 'T':T20})\n",
    "  st20_3 = st('Nitrogen', {'P':P_amb, 'T':T20})\n",
    "\n",
    "  cp_20 = 0.0997*st20_1.cp+0.1771*st20_2.cp+0.7232*st20_3.cp\n",
    "\n",
    "  #cachorrada\n",
    "  cp_19 = cp_20\n",
    "  cp_18 = cp_20\n",
    "\n",
    "  T17 = T16 + 200   #chute\n",
    "\n",
    "  st16 = st(fld2, {'P':P_amb, 'T':T_amb})\n",
    "  st17 = st(fld2, {'P':P_amb, 'T':T17})\n",
    "  h16 = st16.h\n",
    "  h17 = st17.h\n",
    "\n",
    "  st17_1 = st('Water', {'P':P_amb, 'T':T17})\n",
    "  st17_2 = st('CO2', {'P':P_amb, 'T':T17})\n",
    "  st17_3 = st('Nitrogen', {'P':P_amb, 'T':T17})\n",
    "\n",
    "  cp_17 = 0.0997*st20_1.cp+0.1771*st20_2.cp+0.7232*st20_3.cp\n",
    "\n",
    "  T18, T19, T20  = var('T18, T19, T20')\n",
    "  EqTemp = [m19*cp_19*(T19-T_amb) + m8*h8 - h13*m13 - m20*cp_20*(T20-T_amb), m18*cp_18*(T18-T_amb) - m17*cp_17*(T17-T_amb) - m19*cp_19*(T19-T_amb), m_fuel*PCI + m17*cp_17*(T17-T_amb)  + h13*m13 - m1*h1 - m18*cp_18*(T18-T_amb)]\n",
    "  temp = linsolve(EqTemp, T18, T19, T20)\n",
    "  (T18, T19, T20) =  next(iter(temp))\n",
    "\n",
    "  Q_disp = m_fuel*PCI + m17*cp_17*(T17-T_amb) \n",
    "  Q_util = Q_disp - (m_gas*cp_18*(T18-T_amb))\n",
    "  η_forn = Q_util/Q_disp\n",
    "\n",
    "\n",
    "  print('A temperatura T13 é de %.2f °C \\n' %(T13-273.15))\n",
    "  print('A temperatura T17 é de %.2f °C \\n' %(T17-273.15))\n",
    "  print('A temperatura T18 é de %.2f °C \\n' %(T18-273.15))\n",
    "  print('A temperatura T19 é de %.2f °C \\n' %(T19-273.15))\n",
    "  print('A temperatura T20 é de %.2f °C \\n' %(T20-273.15))\n",
    "  print(f'A eficiência da fornalha é de {round(η_forn*100,2)} %\\n')\n",
    "\n",
    "interact(f, ΔT13=slider)"
   ]
  },
  {
   "cell_type": "markdown",
   "metadata": {
    "id": "fqN5c36LQZUQ"
   },
   "source": [
    "## **Tabela - Vazões mássicas**"
   ]
  },
  {
   "cell_type": "code",
   "execution_count": null,
   "metadata": {
    "code_folding": [],
    "colab": {
     "base_uri": "https://localhost:8080/",
     "height": 934
    },
    "hide_input": false,
    "id": "mM-cqG1tGRBR",
    "outputId": "01b62677-8789-47e3-87ec-3c7c423a66d2",
    "scrolled": false
   },
   "outputs": [],
   "source": [
    "# Tabela 2:\n",
    "for i in range(0, quant+1):\n",
    "  if Temperatura == 'k':\n",
    "    headers2 = [\"%\", \"m1 [kg/s]\", \"m2 [kg/s]\", \"m3 [kg/s]\", \"m4 [kg/s]\", \"m5 [kg/s]\", \"m6 [kg/s]\", \"m7 [kg/s]\", \"m8 [kg/s]\", \"m9 [kg/s]\", \"m10 [kg/s]\", \"m11 [kg/s]\", \"m12 [kg/s]\", \"T_hout [K]\", \"W_liq [kJ/s]\", \"η\"]\n",
    "    resultados2[n+1,i] = round(float(y[i]+273.15),2) #converter para K\n",
    "    y[i] = resultados2[n+1,i]\n",
    "  else:\n",
    "    headers2 = [\"%\", \"m1 [kg/s]\", \"m2 [kg/s]\", \"m3 [kg/s]\", \"m4 [kg/s]\", \"m5 [kg/s]\", \"m6 [kg/s]\", \"m7 [kg/s]\", \"m8 [kg/s]\", \"m9 [kg/s]\", \"m10 [kg/s]\", \"m11 [kg/s]\", \"m12 [kg/s]\", \"T_hout [°C]\", \"W_liq [kJ/s]\", \"η\"]\n",
    "    resultados2[n+1,i] = round(float(y[i]),2)\n",
    "print(tab(table2, headers2, tablefmt=\"rst\", stralign=\"center\", numalign=\"left\"))\n",
    "print('\\nA vazão mássica de combustível é de %.2f kg/s' %m_fuel)\n",
    "print('A vazão mássica de ar é de %.2f kg/s\\n' %m_air)\n",
    "\n",
    "# Gráficos:\n",
    "escala1 = 1.5\n",
    "plt.figure(dpi=100, figsize=[escala1*2*6.4, escala1*4.8])\n",
    "plt.subplot(1,2,1)\n",
    "plt.xlabel('Processo [%]', fontsize=14)\n",
    "if Temperatura == 'k':\n",
    "  plt.ylabel('Temperatura de saída do condensador [K]', fontsize=14)\n",
    "  plt.plot(x, y, color='r', marker = 'o', linestyle = 'solid')\n",
    "else:\n",
    "  plt.ylabel('Temperatura de saída do condensador [°C]', fontsize=14)\n",
    "  plt.plot(x, y, color='r', marker = 'o', linestyle = 'solid')\n",
    "plt.grid()\n",
    "plt.subplot(1,2,2)\n",
    "plt.xlabel('Processo [%]', fontsize=14)\n",
    "plt.ylabel('$η_{sistema}$', fontsize=14)\n",
    "plt.plot(x, z, color='b', marker = 'o', linestyle = 'solid')\n",
    "plt.grid()\n",
    "plt.show()"
   ]
  },
  {
   "cell_type": "markdown",
   "metadata": {
    "id": "Sco6dUf5CmA9"
   },
   "source": [
    "## **Gráfico completo Ciclo Rankine**"
   ]
  },
  {
   "cell_type": "code",
   "execution_count": null,
   "metadata": {
    "code_folding": [],
    "colab": {
     "base_uri": "https://localhost:8080/",
     "height": 811
    },
    "hide_input": false,
    "id": "QaM4WC2IVu7z",
    "outputId": "78bf3d90-d329-40d3-9b91-83ff1691c7a2",
    "scrolled": false
   },
   "outputs": [],
   "source": [
    "# Gráfico do Ciclo Rankine:\n",
    "escala2 = 1.2\n",
    "plt.figure(dpi=150, figsize=[escala2*6.4, escala2*4.8])\n",
    "y1 = 273.15\n",
    "y2 = 850\n",
    "x1 = -0.5\n",
    "x2 = 10\n",
    "plt.ylim(y1,y2)\n",
    "plt.xlim(x1,x2)\n",
    "plt.title('Ciclo Rankine',fontsize=20)\n",
    "plt.xlabel('Entropia, s[kJ/kg$\\cdot$K]')\n",
    "plt.ylabel('Temperatura, T[K]')\n",
    "\n",
    "Tmin = ps('Tmin',fld )\n",
    "Tcrit = ps('Tcrit',fld)\n",
    "Pcrit = ps('Pcrit', fld)\n",
    "\n",
    "Larg_isolines = .25\n",
    "Larg_cycle = 1.5\n",
    "Larg_scatters = 15\n",
    "\n",
    "#Linhas de entalpia:\n",
    "T = np.linspace(Tmin,Tcrit,1000)\n",
    "Q = np.arange(0.1,1,0.1)\n",
    "for i in Q:\n",
    "  s = ps('S','T',T,'Q',i,'Water')/1000\n",
    "  plt.plot(s,T,'#6ca8fa',alpha=0.7,lw=Larg_isolines)\n",
    "\n",
    "#Domo:\n",
    "T = np.linspace(Tmin,Tcrit,1000)\n",
    "s = ps('S','T',T,'Q',0,fld)/1000\n",
    "plt.plot(s,T,'black',lw=2*Larg_isolines)\n",
    "\n",
    "T = np.linspace(Tcrit,Tmin,1000)\n",
    "s = ps('S','T',T,'Q',1,fld)/1000\n",
    "plt.plot(s,T,'black',lw=2*Larg_isolines)\n",
    "\n",
    "#Linhas de pressão constante:\n",
    "T = np.linspace(Tmin,1000,1000)\n",
    "P = [st_antes[0].p,st_antes[1].p,st_antes[2].p,st_antes[3].p,st_depois[3].p] #P1, P2, P3, P4 e P4*\n",
    "for i in P:\n",
    "  s = ps('S','T',T,'P',i*1000,'Water')/1000\n",
    "  plt.plot(s,T,'#cc00ff',alpha=.7,lw=Larg_isolines)\n",
    "\n",
    "#Ciclo:\n",
    "#(antes)\n",
    "T = np.linspace(st_antes[7].T,st_antes[0].T,1000)\n",
    "s = ps('S','P',st_antes[0].p * 1000,'T',T,'Water')/1000\n",
    "plt.plot(s,T,'r',lw=Larg_cycle)\n",
    "\n",
    "T = np.linspace(st_antes[9].T,st_antes[1].T,1000)\n",
    "s = ps('S','T',T,'P',st_antes[9].p*1000,'Water')/1000\n",
    "plt.plot(s,T,'r',lw=Larg_cycle)\n",
    "plt.plot([st_antes[3].s,st_antes[4].s],[st_antes[3].T,st_antes[4].T],'r',lw=Larg_cycle)\n",
    "\n",
    "plt.plot([st_antes[0].s,st_antes[1].s],[st_antes[0].T,st_antes[1].T],color='r',linestyle='dashed',lw=Larg_cycle)\n",
    "plt.plot([st_antes[1].s,st_antes[2].s],[st_antes[1].T,st_antes[2].T],color='r',linestyle='dashed',lw=Larg_cycle)\n",
    "\n",
    "s = np.linspace(st_antes[2].s,st_antes[6].s,1000)\n",
    "T = ps('T','S',s*1000,'P',st_antes[2].p*1000,'Water')\n",
    "plt.plot(s,T,'r',lw=Larg_cycle)\n",
    "\n",
    "T = np.linspace(st_antes[5].T,st_antes[6].T,1000)\n",
    "s = ps('S','P',st_antes[5].p*1000,'T',T,'Water')/1000\n",
    "plt.plot(s,T,'r',lw=Larg_cycle)\n",
    "\n",
    "s = np.linspace(st_antes[2].s,st_antes[3].s,1000)\n",
    "plt.plot([st_antes[3].s,st_antes[2].s],[st_antes[3].T,st_antes[2].T],color='r',linestyle='dashed',lw=Larg_cycle)\n",
    "\n",
    "#(depois)\n",
    "T = np.linspace(st_depois[7].T,st_depois[0].T,1000)\n",
    "s = ps('S','P',st_depois[0].p * 1000,'T',T,'Water')/1000\n",
    "plt.plot(s,T,'lime',lw=Larg_cycle)\n",
    "\n",
    "T = np.linspace(st_depois[9].T,st_depois[1].T,1000)\n",
    "s = ps('S','T',T,'P',st_depois[9].p*1000,'Water')/1000\n",
    "plt.plot(s,T,'lime',lw=Larg_cycle)\n",
    "plt.plot([st_depois[3].s,st_depois[4].s],[st_depois[3].T,st_depois[4].T],'lime',lw=Larg_cycle)\n",
    "\n",
    "plt.plot([st_depois[0].s,st_depois[1].s],[st_depois[0].T,st_depois[1].T],color='lime',linestyle='dashed',lw=Larg_cycle)\n",
    "plt.plot([st_depois[1].s,st_depois[2].s],[st_depois[1].T,st_depois[2].T],color='lime',linestyle='dashed',lw=Larg_cycle)\n",
    "\n",
    "s = np.linspace(st_depois[2].s,st_depois[6].s,1000)\n",
    "T = ps('T','S',s*1000,'P',st_depois[2].p*1000,'Water')\n",
    "plt.plot(s,T,'lime',lw=Larg_cycle)\n",
    "\n",
    "T = np.linspace(st_depois[5].T,st_depois[6].T,1000)\n",
    "s = ps('S','P',st_depois[5].p*1000,'T',T,'Water')/1000\n",
    "plt.plot(s,T,'lime',lw=Larg_cycle)\n",
    "\n",
    "s = np.linspace(st_depois[2].s,st_depois[3].s,1000)\n",
    "plt.plot([st_depois[3].s,st_depois[2].s],[st_depois[3].T,st_depois[2].T],color='lime',linestyle='dashed',lw=Larg_cycle)\n",
    "\n",
    "#Pontuar e nomear:\n",
    "for i in range(0, n):\n",
    "  plt.scatter(st_antes[i].s,st_antes[i].T,zorder=5,color='k',s=Larg_scatters)\n",
    "  plt.scatter(st_depois[i].s,st_depois[i].T,zorder=5,color='k',s=Larg_scatters)\n",
    "\n",
    "plt.text(st_antes[0].s+.1,st_antes[0].T,'1',ha='left')\n",
    "plt.text(st_antes[1].s+.1,st_antes[1].T,'2',ha='left')\n",
    "plt.text(st_antes[2].s+.1,st_antes[2].T,'3',ha='left')\n",
    "plt.text(st_antes[3].s+.1,st_antes[3].T,'4',ha='left')\n",
    "plt.text(st_antes[4].s-.1,st_antes[4].T,'5, 6',ha='right')\n",
    "plt.text(st_antes[6].s-.1,st_antes[6].T,'7, 8, 9, 10',ha='right')\n",
    "plt.text(st_antes[10].s-.1,st_antes[10].T,'11',va='bottom',ha='right')\n",
    "plt.text(st_antes[11].s-.1,st_antes[11].T+.1,'12',ha='right')\n",
    "plt.text(st_depois[3].s+.1,st_depois[3].T,'4*',va='top',ha='left')\n",
    "plt.text(st_depois[4].s-.1,st_depois[4].T,'5*, 6*',va='top',ha='right')\n",
    "\n",
    "#plt.grid(lw=Larg_isolines)\n",
    "plt.twinx()\n",
    "plt.ylim(y1-273.15,y2-273.15)\n",
    "plt.ylabel('Temperatura, T[°C]')\n",
    "#plt.grid(lw=Larg_isolines)\n",
    "\n",
    "plt.savefig('Diagrama T-s.png')\n",
    "#files.download('Diagrama T-s.png')\n",
    "\n"
   ]
  },
  {
   "cell_type": "markdown",
   "metadata": {
    "hide_input": true,
    "id": "L207JH1_CQdk"
   },
   "source": [
    "## **Tabela relatório completo Ciclo Rankine**"
   ]
  },
  {
   "cell_type": "code",
   "execution_count": null,
   "metadata": {
    "cellView": "code",
    "code_folding": [],
    "colab": {
     "base_uri": "https://localhost:8080/"
    },
    "hide_input": false,
    "id": "GY2tqM_TCH9V",
    "outputId": "e0620762-9021-479d-fa39-66cb46502acc",
    "scrolled": false
   },
   "outputs": [],
   "source": [
    "# Tabela 3:\n",
    "table3 = STT_T + STT_P + STT_X + STT_h + STT_s + STT_v\n",
    "headers3=[\"Propriedade\", \"%\", \"Estado 1\", \"Estado 2\", \"Estado 3\", \"Estado 4\", \"Estado 5\", \"Estado 6\", \"Estado 7\", \"Estado 8\", \"Estado 9\", \"Estado 10\", \"Estado 11\", \"Estado 12\"]\n",
    "\n",
    "print(tab(table3, headers3, tablefmt=\"rst\", stralign=\"center\", numalign=\"center\"))"
   ]
  }
 ],
 "metadata": {
  "colab": {
   "collapsed_sections": [
    "qiiJ6Yv5Oe6D",
    "ooclRVh5xral",
    "3P5SSFRlxKTB",
    "-_WTU23Cql2h"
   ],
   "name": "Trabalho.ipynb",
   "provenance": []
  },
  "hide_input": false,
  "kernelspec": {
   "display_name": "Python 3",
   "language": "python",
   "name": "python3"
  },
  "language_info": {
   "codemirror_mode": {
    "name": "ipython",
    "version": 3
   },
   "file_extension": ".py",
   "mimetype": "text/x-python",
   "name": "python",
   "nbconvert_exporter": "python",
   "pygments_lexer": "ipython3",
   "version": "3.8.5"
  },
  "latex_envs": {
   "LaTeX_envs_menu_present": true,
   "autoclose": false,
   "autocomplete": true,
   "bibliofile": "biblio.bib",
   "cite_by": "apalike",
   "current_citInitial": 1,
   "eqLabelWithNumbers": true,
   "eqNumInitial": 1,
   "hotkeys": {
    "equation": "Ctrl-E",
    "itemize": "Ctrl-I"
   },
   "labels_anchors": false,
   "latex_user_defs": false,
   "report_style_numbering": false,
   "user_envs_cfg": false
  },
  "toc": {
   "base_numbering": 1,
   "nav_menu": {},
   "number_sections": true,
   "sideBar": true,
   "skip_h1_title": false,
   "title_cell": "Table of Contents",
   "title_sidebar": "Contents",
   "toc_cell": false,
   "toc_position": {},
   "toc_section_display": true,
   "toc_window_display": false
  },
  "varInspector": {
   "cols": {
    "lenName": 16,
    "lenType": 16,
    "lenVar": 40
   },
   "kernels_config": {
    "python": {
     "delete_cmd_postfix": "",
     "delete_cmd_prefix": "del ",
     "library": "var_list.py",
     "varRefreshCmd": "print(var_dic_list())"
    },
    "r": {
     "delete_cmd_postfix": ") ",
     "delete_cmd_prefix": "rm(",
     "library": "var_list.r",
     "varRefreshCmd": "cat(var_dic_list()) "
    }
   },
   "position": {
    "height": "805px",
    "left": "1502px",
    "right": "20px",
    "top": "120px",
    "width": "359px"
   },
   "types_to_exclude": [
    "module",
    "function",
    "builtin_function_or_method",
    "instance",
    "_Feature"
   ],
   "window_display": false
  }
 },
 "nbformat": 4,
 "nbformat_minor": 1
}
