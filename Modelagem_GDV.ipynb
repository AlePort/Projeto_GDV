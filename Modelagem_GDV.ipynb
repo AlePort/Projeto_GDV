{
 "cells": [
  {
   "cell_type": "markdown",
   "metadata": {
    "cell_style": "center",
    "id": "ce58rWM2QtJV"
   },
   "source": [
    "# **Modelagem**\n"
   ]
  },
  {
   "cell_type": "markdown",
   "metadata": {
    "id": "CgsDMREUumCV"
   },
   "source": [
    "![img](https://media.discordapp.net/attachments/748012097589215325/816803156112441374/unknown.png?width=576&height=676)"
   ]
  },
  {
   "cell_type": "markdown",
   "metadata": {
    "heading_collapsed": true,
    "id": "qiiJ6Yv5Oe6D"
   },
   "source": [
    "## **Instalação e importação**"
   ]
  },
  {
   "cell_type": "code",
   "execution_count": 98,
   "metadata": {
    "hidden": true,
    "id": "h07Gv4Yfeb4a"
   },
   "outputs": [],
   "source": [
    "%reset -f"
   ]
  },
  {
   "cell_type": "code",
   "execution_count": 99,
   "metadata": {
    "cell_style": "center",
    "code_folding": [],
    "colab": {
     "base_uri": "https://localhost:8080/"
    },
    "hidden": true,
    "hide_input": false,
    "id": "6OGdwlfuXImN",
    "outputId": "d0e6977f-6a3a-426f-cace-05004df8d707"
   },
   "outputs": [
    {
     "data": {
      "text/plain": [
       "'\\nfrom IPython.core.display import HTML\\nHTML(\"\"\"\\n<style>\\n.output_png {\\n    display: table-cell;\\n    text-align: center;\\n    vertical-align: middle;\\n}\\n</style>\\n\"\"\")\\n'"
      ]
     },
     "execution_count": 99,
     "metadata": {},
     "output_type": "execute_result"
    }
   ],
   "source": [
    "#Instalar e importar bibliotecas:\n",
    "\n",
    "try:\n",
    "  import CoolProp\n",
    "except ImportError:\n",
    "  !pip install CoolProp\n",
    "\n",
    "import matplotlib.pyplot as plt\n",
    "from matplotlib.ticker import AutoMinorLocator\n",
    "import CoolProp.CoolProp as cp\n",
    "from CoolProp.CoolProp import PropsSI as ps\n",
    "from CoolProp.CoolProp import State as st\n",
    "from tabulate import tabulate as tab\n",
    "import numpy as np\n",
    "from sympy import *\n",
    "import pandas as pd\n",
    "\n",
    "'''\n",
    "from IPython.core.display import HTML\n",
    "HTML(\"\"\"\n",
    "<style>\n",
    ".output_png {\n",
    "    display: table-cell;\n",
    "    text-align: center;\n",
    "    vertical-align: middle;\n",
    "}\n",
    "</style>\n",
    "\"\"\")\n",
    "'''"
   ]
  },
  {
   "cell_type": "markdown",
   "metadata": {
    "id": "d64Tp25bzf4R"
   },
   "source": [
    "## **Unidade de medida**"
   ]
  },
  {
   "cell_type": "code",
   "execution_count": 100,
   "metadata": {
    "code_folding": [],
    "colab": {
     "base_uri": "https://localhost:8080/"
    },
    "hide_input": true,
    "id": "DwEOOfQBs7Et",
    "outputId": "127fabe3-5d42-4f1d-cca0-bd96f732244d"
   },
   "outputs": [
    {
     "name": "stdout",
     "output_type": "stream",
     "text": [
      "Temperatura em °C ou em K? (Digite c ou k): c\n"
     ]
    }
   ],
   "source": [
    "# Selecionar escala de temperatura:\n",
    "Temperatura = input('Temperatura em °C ou em K? (Digite c ou k): ')"
   ]
  },
  {
   "cell_type": "markdown",
   "metadata": {
    "heading_collapsed": true,
    "id": "ooclRVh5xral"
   },
   "source": [
    "## **Declaração de variáveis**"
   ]
  },
  {
   "cell_type": "code",
   "execution_count": 101,
   "metadata": {
    "code_folding": [],
    "hidden": true,
    "id": "FvQEFmKpnzSc"
   },
   "outputs": [],
   "source": [
    "# Declarar estados:\n",
    "\n",
    "n = 12\n",
    "\n",
    "fld = \"Water\"\n",
    "cp.set_reference_state(fld,'DEF')\n",
    "if Temperatura == 'k':\n",
    "  Tnn = \"Temperatura [K]\"\n",
    "else:\n",
    "  Tnn = \"Temperatura [°C]\"\n",
    "\n",
    "mnn = \"Vazão mássica [kg/s]\"\n",
    "hnn = \"Entalpia [kJ/kg]\"\n",
    "rhonn = \"Massa específica [m³/kg]\"\n",
    "Pnn = \"Pressão [kPa]\"\n",
    "snn = \"Entropia [kJ/kg*K]\"\n",
    "Xnn = \"Título\"\n",
    "\n",
    "estado = np.arange(1, n+1, 1)\n",
    "\n",
    "T = np.linspace(0,0,n)\n",
    "m = np.linspace(0,0,n)\n",
    "h = np.linspace(0,0,n)\n",
    "rho = np.linspace(0,0,n)\n",
    "P = np.linspace(0,0,n)\n",
    "s = np.linspace(0,0,n)\n",
    "X = np.linspace(0,0,n)"
   ]
  },
  {
   "cell_type": "markdown",
   "metadata": {},
   "source": [
    "## **Caldeira**"
   ]
  },
  {
   "cell_type": "code",
   "execution_count": 102,
   "metadata": {
    "scrolled": false
   },
   "outputs": [
    {
     "data": {
      "text/plain": [
       "49568.3220659264"
      ]
     },
     "execution_count": 102,
     "metadata": {},
     "output_type": "execute_result"
    }
   ],
   "source": [
    "# Combustível:\n",
    "\n",
    "CH4 = np.array([1,4,0,0])\n",
    "C2H6 = np.array([2,6,0,0])\n",
    "C3H8 = np.array([3,8,0,0])\n",
    "C4H10 = np.array([4,10,0,0])\n",
    "CO2 = np.array([1,0,2,0])\n",
    "N2 = np.array([0,0,0,2])\n",
    "O2 = np.array([0,0,2,0])\n",
    "\n",
    "MM = np.array([12,1,16,14])\n",
    "P_GN = [0.73,0.14,0.03,0.02,0.01,0.07,0.79,0.21]\n",
    "BLNC = [1,1,1,1,1,1,1,17]\n",
    "\n",
    "M_CH4 = np.sum(CH4*MM)\n",
    "M_C2H6 = np.sum(C2H6*MM)\n",
    "M_C3H8 = np.sum(C3H8*MM)\n",
    "M_C4H10 = np.sum(C4H10*MM)\n",
    "M_CO2 = np.sum(CO2*MM)\n",
    "M_N2 = np.sum(N2*MM)\n",
    "M_O2 = np.sum(O2*MM)\n",
    "\n",
    "M = [M_CH4,M_C2H6,M_C3H8,M_C4H10,M_CO2,M_N2,M_N2,M_O2]\n",
    "\n",
    "quant_atomos_molecula = np.array([CH4,C2H6,C3H8,C4H10,CO2,N2,N2,O2])\n",
    "fracao_masssica_atomo = np.zeros((8,4))\n",
    "\n",
    "for i in range(0,8):\n",
    "    for j in range(0,4):\n",
    "        fracao_masssica_atomo[i,j] = quant_atomos_molecula[i,j] * MM[j] * P_GN[i] * BLNC[i]\n",
    "        \n",
    "fuel = fracao_masssica_atomo[0:6,0:4]\n",
    "air = fracao_masssica_atomo[6:8,0:4]\n",
    "soma = np.sum(fracao_masssica_atomo)\n",
    "soma_fuel = np.sum(fuel) #Massa total de combustível\n",
    "soma_air = np.sum(air)#Massa total de ar\n",
    "total_elem = np.sum(fuel, axis=0,keepdims=True) #C_tot, H_tot, O_tot, N_tot\n",
    "\n",
    "F_tot = total_elem/soma_fuel\n",
    "\n",
    "PCS = 33900*F_tot[0,0] + 141800*(F_tot[0,1] - (F_tot[0,2]/8))\n",
    "\n",
    "w = PCS/2440 - 9*F_tot[0,1]\n",
    "F_w = w/soma_fuel\n",
    "\n",
    "PCI = PCS - 2440*(9*F_tot[0,1] - F_w)\n",
    "PCI"
   ]
  },
  {
   "cell_type": "markdown",
   "metadata": {
    "heading_collapsed": true,
    "id": "3P5SSFRlxKTB"
   },
   "source": [
    "## **Estados**"
   ]
  },
  {
   "cell_type": "code",
   "execution_count": 103,
   "metadata": {
    "code_folding": [],
    "hidden": true,
    "hide_input": false,
    "id": "CXkMbWWey_uZ"
   },
   "outputs": [],
   "source": [
    "# Estado 1 - Entrada da turbina:\n",
    "\n",
    "m[0] = 27.9        #kg/s\n",
    "P[0] = 6495        #kPa\n",
    "T[0] = 485 + 273.15       #K\n",
    "st1 = st(fld, {'P':P[0],'T':T[0]})\n",
    "h[0] = st1.h         #entalpia\n",
    "s[0] = st1.s         #entropia\n",
    "X[0] = st1.Q\n",
    "rho[0] = st1.rho"
   ]
  },
  {
   "cell_type": "code",
   "execution_count": 104,
   "metadata": {
    "code_folding": [],
    "hidden": true,
    "hide_input": false,
    "id": "p-REZCpTzF__"
   },
   "outputs": [],
   "source": [
    "# Estado 2 - Primeira extração da turbina:\n",
    "\n",
    "P[1] = 900      #kPa\n",
    "st_isen2 = st(fld,{'P':P[1],'S':s[0]})     #turbina/bomba isentrópica ideal\n",
    "h_isen2 = st_isen2.h\n",
    "η_turb = 0.85       #eficiência da turbina\n",
    "h[1] = h[0] - (h[0] - h_isen2) * η_turb\n",
    "st2 = st(fld,{'P':P[1],'H':h[1]})\n",
    "s[1] = st2.s\n",
    "T[1] = st2.T\n",
    "X[1] = st2.Q\n",
    "rho[1] = st2.rho"
   ]
  },
  {
   "cell_type": "code",
   "execution_count": 105,
   "metadata": {
    "code_folding": [],
    "hidden": true,
    "hide_input": false,
    "id": "ddaMWZfozGJr"
   },
   "outputs": [],
   "source": [
    "# Estado 3 - Segunda extração da turbina:\n",
    "\n",
    "P[2] = 250     #kPa\n",
    "st_isen3 = st(fld,{'P':P[2],'S':s[1]})\n",
    "h_isen3 = st_isen3.h\n",
    "h[2] = h[1] - (h[1] - h_isen3) * η_turb\n",
    "st3 = st(fld,{'P':P[2],'H':h[2]})\n",
    "s[2] = st3.s\n",
    "rho[2] = st3.rho\n",
    "T[2] = st3.T\n",
    "X[2] = st3.Q"
   ]
  },
  {
   "cell_type": "code",
   "execution_count": 106,
   "metadata": {
    "code_folding": [],
    "hidden": true,
    "hide_input": false,
    "id": "Sz8Ao-OrzGQR"
   },
   "outputs": [],
   "source": [
    "# Estado 4 - Saída final da turbina / entrada do condensador:\n",
    "\n",
    "T[3] = 51 + 273.15 #K\n",
    "#P[3] = psi('P','T',T[3],'Q', 1, fld)/1000  #divide por 1000 pra sair em kPa\n",
    "st4 = st(fld, {'T': T[3], 'Q': 1})\n",
    "P[3] = st4.p\n",
    "st_isen4 = st(fld,{'P':P[3],'S':s[2]})\n",
    "h_isen4 = st_isen4.h\n",
    "h[3] = h[2] - (h[2] - h_isen4) * η_turb\n",
    "st4 = st(fld,{'P':P[3],'H':h[3]})\n",
    "X[3] = st4.Q      #título\n",
    "s[3]=st4.s\n",
    "rho[3] = st4.rho"
   ]
  },
  {
   "cell_type": "code",
   "execution_count": 107,
   "metadata": {
    "code_folding": [],
    "hidden": true,
    "id": "LEJHsowizGV4"
   },
   "outputs": [],
   "source": [
    "# Estado 5 - Saída do condensador / entrada da bomba:\n",
    "\n",
    "X[4] = 0\n",
    "P[4] = P[3]\n",
    "st5 = st(fld, {'P': P[4], 'Q': 0})\n",
    "h[4] = st5.h\n",
    "s[4] = st5.s\n",
    "T[4] = st5.T\n",
    "rho[4] = st5.rho"
   ]
  },
  {
   "cell_type": "code",
   "execution_count": 108,
   "metadata": {
    "code_folding": [],
    "hidden": true,
    "id": "L2DhkLiMzGal"
   },
   "outputs": [],
   "source": [
    "# Estado 6 - Entrada do desaerador / saída da bomba:\n",
    "\n",
    "P[5] = P[2]\n",
    "st_isen6 = st(fld, {'P': P[5], 'S': s[4]})\n",
    "h_isen6 = st_isen6.h\n",
    "η_pump = 0.85       #eficiência das bombas\n",
    "h[5] = (h_isen6 - h[4]) / η_pump + h[4]\n",
    "st6 = st(fld, {'P':P[5], 'H': h[5]})\n",
    "s[5] = st6.s\n",
    "T[5] = st6.T\n",
    "X[5] = st6.Q\n",
    "rho[5] = st6.rho"
   ]
  },
  {
   "cell_type": "code",
   "execution_count": 109,
   "metadata": {
    "code_folding": [],
    "hidden": true,
    "id": "WFpU6ULXzGed"
   },
   "outputs": [],
   "source": [
    "# Estado 7 - Saída do desaerador:\n",
    "\n",
    "P[6] = P[2]\n",
    "T[6] = 110 + 273.15\n",
    "st7 = st(fld, {'P': P[6], 'T': T[6]})\n",
    "h[6] = st7.h\n",
    "s[6] = st7.s\n",
    "X[6] = st7.Q\n",
    "rho[6] = st7.rho"
   ]
  },
  {
   "cell_type": "code",
   "execution_count": 110,
   "metadata": {
    "code_folding": [],
    "hidden": true,
    "id": "wPy5KvGizGiW"
   },
   "outputs": [],
   "source": [
    "# Estado 8 - Entrada da caldeira:\n",
    "\n",
    "P[7] = P[0]\n",
    "st_isen8 = st(fld, {'P': P[7], 'S': s[6]})\n",
    "h_isen8 = st_isen8.h\n",
    "h[7] = (h_isen8 - h[6]) / η_pump + h[6]\n",
    "st8 = st(fld, {'P': P[7], 'H': h[7]})\n",
    "T[7] = st8.T - 273.15\n",
    "s[7] = st8.s\n",
    "X[7] = st8.Q\n",
    "rho[7] = st8.rho"
   ]
  },
  {
   "cell_type": "code",
   "execution_count": 111,
   "metadata": {
    "code_folding": [],
    "hidden": true,
    "id": "KJ1aywD9zGmb"
   },
   "outputs": [],
   "source": [
    "# Estado 9 - Entrada da bomba:\n",
    "\n",
    "st9 = st7\n",
    "h[8] = st9.h\n",
    "s[8] = st9.s\n",
    "P[8] = st9.p\n",
    "T[8] = st9.T\n",
    "X[8] = st9.Q\n",
    "rho[8] = st9.rho"
   ]
  },
  {
   "cell_type": "code",
   "execution_count": 112,
   "metadata": {
    "code_folding": [],
    "hidden": true,
    "id": "yuCvmJP9zXpm"
   },
   "outputs": [],
   "source": [
    "# Estado 10 - Saída da bomba / entrada do trocador de calor:\n",
    "\n",
    "P[9] = P[1]\n",
    "st_isen10 = st(fld, {'P': P[9], 'S': s[8]})\n",
    "h_isen10 = st_isen10.h\n",
    "h[9] = (h_isen10 - h[8]) / η_pump + h[8]\n",
    "st10 = st(fld, {'P': P[9], 'H': h[9]})\n",
    "s[9] = st10.s\n",
    "T[9] = st10.T\n",
    "X[9] = st10.Q\n",
    "rho[9] = st10.rho"
   ]
  },
  {
   "cell_type": "code",
   "execution_count": 113,
   "metadata": {
    "code_folding": [],
    "hidden": true,
    "id": "2u8OvkBHzXxa"
   },
   "outputs": [],
   "source": [
    "# Estado 11 - Entrada do processo industrial vizinho:\n",
    "\n",
    "X[10] = 1\n",
    "P[10] = P[9]\n",
    "st11 = st(fld, {'P': P[10], 'Q': X[10]})\n",
    "h[10] = st11.h\n",
    "s[10] = st11.s\n",
    "T[10] = st11.T\n",
    "rho[10] = st11.rho"
   ]
  },
  {
   "cell_type": "code",
   "execution_count": 114,
   "metadata": {
    "code_folding": [],
    "hidden": true,
    "id": "csat_4x8zX8I"
   },
   "outputs": [],
   "source": [
    "# Estado 12 - Saída do processo industrial vizinho:\n",
    "\n",
    "X[11] = 0\n",
    "P[11] = P[9]\n",
    "st12 = st(fld, {'P':P[11], 'Q': X[11]})\n",
    "h[11] = st12.h\n",
    "s[11] = st12.s\n",
    "T[11] = st12.T\n",
    "rho[11] = st12.rho"
   ]
  },
  {
   "cell_type": "markdown",
   "metadata": {
    "id": "xUVh6vQoxkaO"
   },
   "source": [
    "## **Tabela - Estados**"
   ]
  },
  {
   "cell_type": "code",
   "execution_count": 115,
   "metadata": {
    "code_folding": [],
    "colab": {
     "base_uri": "https://localhost:8080/"
    },
    "hide_input": true,
    "id": "Xgtb-Op_bd4T",
    "outputId": "e2df6142-84d6-4189-b5a2-85bd249b476d",
    "scrolled": false
   },
   "outputs": [
    {
     "name": "stdout",
     "output_type": "stream",
     "text": [
      "========  ==================  ===============  ========  ==================  ====================  ==========================\n",
      "Estado    Temperatura [°C]    Pressão [kPa]    Título    Entalpia [kJ/kg]    Entropia [kJ/kg*K]    Massa específica [m³/kg]\n",
      "========  ==================  ===============  ========  ==================  ====================  ==========================\n",
      "1         485                 6495             -1        3381.2              6.7932                19.65\n",
      "2         243.27              900              -1        2932.08             6.9522                3.91\n",
      "3         127.41              250              1         2714.68             7.0479                1.39\n",
      "4         51                  12.98            0.89      2333.12             7.2557                0.1\n",
      "5         51                  12.98            0         213.52              0.7167                987.54\n",
      "6         51.02               250              -1        213.81              0.7169                987.64\n",
      "7         110                 250              -1        461.49              1.4187                951\n",
      "8         -162.4              6495             -1        469.21              1.4218                953.43\n",
      "9         110                 250              -1        461.49              1.4187                951\n",
      "10        110.08              900              -1        462.3               1.4191                951.25\n",
      "11        175.35              900              1         2773.03             6.6213                4.65\n",
      "12        175.35              900              0         742.56              2.094                 891.92\n",
      "========  ==================  ===============  ========  ==================  ====================  ==========================\n",
      "\n",
      "OBS: Tomar título \"-1\" como líquido sub-resfriado\n"
     ]
    }
   ],
   "source": [
    "# Tabela 1:\n",
    "headers=[\"Estado\", Tnn, Pnn, Xnn, hnn, snn, rhonn]\n",
    "table = list(range(n))\n",
    "\n",
    "for i in table:\n",
    "  if Temperatura == 'k':\n",
    "    T[i] = round(float(T[i]),2)\n",
    "  else:\n",
    "    T[i] = round(float(T[i]-273.15),2)\n",
    "  P[i] = round(float(P[i]),2)\n",
    "  X[i] = round(float(X[i]),2)\n",
    "  h[i] = round(float(h[i]),2)\n",
    "  s[i] = round(float(s[i]),4)\n",
    "  rho[i] = round(float(rho[i]),2)\n",
    "  table[i] = [estado[i], T[i], P[i], X[i], h[i], s[i], rho[i]]\n",
    "\n",
    "table = np.array(list(table))\n",
    "\n",
    "print(tab(table, headers, tablefmt=\"rst\", stralign=\"center\", numalign=\"left\"))\n",
    "print('\\nOBS: Tomar título \"-1\" como líquido sub-resfriado')\n",
    "\n",
    "for i in range(0, n):\n",
    "  if Temperatura == 'k':\n",
    "    T[i] = round(float(T[i]),2)\n",
    "  else:\n",
    "    T[i] = round(float(T[i]+273.15),2)\n",
    "\n",
    "st_antes = [st1, st2, st3, st4, st5, st6, st7, st8, st9, st10, st11, st12]"
   ]
  },
  {
   "cell_type": "markdown",
   "metadata": {
    "heading_collapsed": true,
    "id": "-_WTU23Cql2h"
   },
   "source": [
    "## **Cálculos**"
   ]
  },
  {
   "cell_type": "code",
   "execution_count": 116,
   "metadata": {
    "code_folding": [],
    "hidden": true,
    "hide_input": false,
    "id": "1Vr5HLlnk8K8"
   },
   "outputs": [],
   "source": [
    "# Cálculos:\n",
    "m1 = m[0]\n",
    "h1 = h[0]\n",
    "h2 = h[1]\n",
    "h3 = h[2]\n",
    "h4 = h[3]\n",
    "h5 = h[4]\n",
    "h6 = h[5]\n",
    "h7 = h[6]\n",
    "h8 = h[7]\n",
    "h9 = h[8]\n",
    "h10 = h[9]\n",
    "h11 = h[10]\n",
    "h12 = h[11]\n",
    " \n",
    "# Quantidade de iterações:\n",
    "quant = 10\n",
    " \n",
    "variacao = np.zeros(quant + 1, dtype = float)\n",
    "resultados = np.zeros((n+1)*(quant + 1), dtype = float).reshape((n+1, quant + 1))\n",
    " \n",
    "T_hout_cond = []\n",
    "η_sys = []\n",
    "W_liq =[]\n",
    "\n",
    "STT_T = []\n",
    "STT_P = []\n",
    "STT_X = []\n",
    "STT_h = []\n",
    "STT_s = []\n",
    "STT_v = []\n",
    "Ti = np.linspace(0,0,n)\n",
    "\n",
    "# Vazões mássicas:\n",
    "for i in range(quant + 1):\n",
    "  processo = i/10  \n",
    "  \n",
    "  m2, m3, m4, m5, m6, m7, m8, m9, m10, m11, m12 = var('m2, m3, m4, m5, m6, m7, m8, m9, m10, m11, m12')\n",
    "  EqMassa = [m8-m1, m4-m5, m5-m6, m9-m10, m11-m12, m2+m10-m11, m2+m3+m4-m1, m12+m3+m6-m7, m2*h2+m10*h10-m11*h11, m12*h12+m3*h3+m6*h6-m7*h7, m12-6.94*processo]\n",
    "  massa = linsolve(EqMassa, m2, m3, m4, m5, m6, m7, m8, m9, m10, m11, m12)\n",
    "  (m2, m3, m4, m5, m6, m7, m8, m9, m10, m11, m12) =  next(iter(massa))\n",
    " \n",
    "  massa = np.array(list(massa))\n",
    " \n",
    "  for j in range(quant + 1):\n",
    "    massa[0,j] = round(float(massa[0,j]),2)\n",
    " \n",
    "  variacao[i] = i*10\n",
    "  resultados[0, i] = variacao[i]\n",
    "  resultados[1, i] = m[0]\n",
    "  resultados[2:(n+1), i] = massa\n",
    " \n",
    "  # Saídas de energia:\n",
    "  W_p1 = -m5*(h5 - h6) #(Perde energia \"-\")\n",
    "  W_p2 = -m8*(h7 - h8) #(Perde energia \"-\")\n",
    "  W_p3 = -m9*(h9 - h10) #(Perde energia \"-\")\n",
    "  W_pump = W_p1 + W_p2 + W_p3 #(Somatório dos trabalhos da bombas)\n",
    " \n",
    "  # Eficiência da caldeira:\n",
    "  η_cald = 0.85\n",
    "  PCI = 10000 # kJ/kg\n",
    " \n",
    "  # Encontra o trabalho gerado pela turbina e a vazão de combustível para a demanda:\n",
    "  W_t = m1*h1 - m2*h2 - m3*h3 - m4*h4\n",
    "  m_fuel = m1*(h1-h8)/(PCI*η_cald) #η_cald = m1*(h1-h8)/(m_fuel*PCI)\n",
    " \n",
    "  # Entrada de energia:\n",
    "  Q_in = m_fuel * PCI #(Ganha energia \"+\")\n",
    " \n",
    "  η_sys.append(round((W_t - W_pump)/Q_in, 4))\n",
    "  \n",
    "  W_liq.append(round(η_sys[i]*Q_in,2))\n",
    "\n",
    "  # Condensador:\n",
    "  T_cout = 39.5 \n",
    "  T_cin = 29\n",
    "  T_hin = T[3] - 273.15\n",
    " \n",
    "  ϵ = (T_cout - T_cin)/(T_hin - T_cin)\n",
    "  NUT = -ln(1 - ϵ)\n",
    "  \n",
    "  CT_in = st(fld, {'P': 101.325, 'T': T_cin + 273.15})\n",
    "  CT_out = st(fld, {'P': 101.325, 'T': T_cout + 273.15})\n",
    " \n",
    "  C_min = 4500/3600*(CT_in.rho + CT_out.rho)/2*(CT_in.cp + CT_out.cp)/2\n",
    "  \n",
    "  UA = NUT * C_min # Coeficiente global de tranferência de calor * Área\n",
    "  \n",
    "  # Sistema não-linear:\n",
    "  ΔT_0, ΔT_L, T_hout, ΔT_ml, Q_out = var('ΔT_0, ΔT_L, T_hout, ΔT_ml, Q_out')\n",
    "  EqCond = [ΔT_0-(T_hout-T_cin), ΔT_L-(T_hout-T_cout), ΔT_ml-(ΔT_0-ΔT_L)/ln(ΔT_0/ΔT_L), Q_out-UA*ΔT_ml, Q_out-m4*(h4-h5)]\n",
    "  EqCond_solve = nonlinsolve(EqCond, ΔT_0, ΔT_L, T_hout, ΔT_ml, Q_out) \n",
    "  (ΔT_0, ΔT_L, T_hout, ΔT_ml, Q_out) = next(iter(EqCond_solve))\n",
    "  \n",
    "  # Redefinindo estados:\n",
    "  T[3] = T_hout + 273.15 #K\n",
    "  #P[3] = psi('P','T',T[3],'Q', 1, fld)/1000  #divide por 1000 pra sair em kPa\n",
    "  st4 = st(fld, {'T': T[3], 'Q': 1})\n",
    "  P[3] = st4.p\n",
    "  st_isen4 = st(fld,{'P':P[3],'S':s[2]})\n",
    "  h_isen4 = st_isen4.h\n",
    "  h[3] = h[2] - (h[2] - h_isen4) * η_turb\n",
    "  st4 = st(fld,{'P':P[3],'H':h[3]})\n",
    "  X[3] = st4.Q      #título\n",
    "  s[3]=st4.s\n",
    "  rho[3] = st4.rho\n",
    "\n",
    "  X[4] = 0\n",
    "  P[4] = P[3]\n",
    "  st5 = st(fld, {'P': P[4], 'Q': X[4]})\n",
    "  h[4] = st5.h\n",
    "  s[4] = st5.s\n",
    "  T[4] = st5.T\n",
    "  rho[4] = st5.rho\n",
    "\n",
    "  P[5] = P[2]\n",
    "  st_isen6 = st(fld, {'P': P[5], 'S': s[4]})\n",
    "  h_isen6 = st_isen6.h\n",
    "  η_pump = 0.85       #eficiência das bombas\n",
    "  h[5] = (h_isen6 - h[4]) / η_pump + h[4]\n",
    "  st6 = st(fld, {'P':P[5], 'H': h[5]})\n",
    "  s[5] = st6.s\n",
    "  T[5] = st6.T\n",
    "  X[5] = st6.Q\n",
    "  rho[5] = st6.rho\n",
    "\n",
    "  P[6] = P[2]\n",
    "  T[6] = 110 + 273.15\n",
    "  st7 = st(fld, {'P': P[6], 'T': T[6]})\n",
    "  h[6] = st7.h\n",
    "  s[6] = st7.s\n",
    "  X[6] = st7.Q\n",
    "  rho[6] = st7.rho\n",
    "\n",
    "  P[7] = P[0]\n",
    "  st_isen8 = st(fld, {'P': P[7], 'S': s[6]})\n",
    "  h_isen8 = st_isen8.h\n",
    "  h[7] = (h_isen8 - h[6]) / η_pump + h[6]\n",
    "  st8 = st(fld, {'P': P[7], 'H': h[7]})\n",
    "  T[7] = st8.T - 273.15\n",
    "  s[7] = st8.s\n",
    "  X[7] = st8.Q\n",
    "  rho[7] = st8.rho\n",
    "\n",
    "  st9 = st7\n",
    "  h[8] = st9.h\n",
    "  s[8] = st9.s\n",
    "  P[8] = st9.p\n",
    "  T[8] = st9.T\n",
    "  X[8] = st9.Q\n",
    "  rho[8] = st9.rho\n",
    "\n",
    "  P[9] = P[1]\n",
    "  st_isen10 = st(fld, {'P': P[9], 'S': s[8]})\n",
    "  h_isen10 = st_isen10.h\n",
    "  h[9] = (h_isen10 - h[8]) / η_pump + h[8]\n",
    "  st10 = st(fld, {'P': P[9], 'H': h[9]})\n",
    "  s[9] = st10.s\n",
    "  T[9] = st10.T\n",
    "  X[9] = st10.Q\n",
    "  rho[9] = st10.rho\n",
    "\n",
    "  X[10] = 1\n",
    "  P[10] = P[9]\n",
    "  st11 = st(fld, {'P': P[10], 'Q': X[10]})\n",
    "  h[10] = st11.h\n",
    "  s[10] = st11.s\n",
    "  T[10] = st11.T\n",
    "  rho[10] = st11.rho\n",
    "\n",
    "  X[11] = 0\n",
    "  P[11] = P[9]\n",
    "  st12 = st(fld, {'P':P[11], 'Q': X[11]})\n",
    "  h[11] = st12.h\n",
    "  s[11] = st12.s\n",
    "  T[11] = st12.T\n",
    "  rho[11] = st12.rho\n",
    "  \n",
    "  for i in range(0,n):\n",
    "    if Temperatura == 'k':\n",
    "      Ti[i] = round(T[i],2)\n",
    "    else:\n",
    "      Ti[i] = round(T[i]-273.15,2)\n",
    "    P[i] = round(P[i],2)\n",
    "    X[i] = round(X[i],2)\n",
    "    h[i] = round(h[i],2)\n",
    "    s[i] = round(s[i],2)\n",
    "    rho[i] = round(rho[i],2)\n",
    "\n",
    "  STT_T.append([Tnn,processo*100,Ti[0],Ti[1],Ti[2],Ti[3],Ti[4],Ti[5],Ti[6],Ti[7],Ti[8],Ti[9],Ti[10],Ti[11]])\n",
    "  STT_P.append([Pnn,processo*100,P[0],P[1],P[2],P[3],P[4],P[5],P[6],P[7],P[8],P[9],P[10],P[11]])\n",
    "  STT_X.append([Xnn,processo*100,X[0],X[1],X[2],X[3],X[4],X[5],X[6],X[7],X[8],X[9],X[10],X[11]])\n",
    "  STT_h.append([hnn,processo*100,h[0],h[1],h[2],h[3],h[4],h[5],h[6],h[7],h[8],h[9],h[10],h[11]])\n",
    "  STT_s.append([snn,processo*100,s[0],s[1],s[2],s[3],s[4],s[5],s[6],s[7],s[8],s[9],s[10],s[11]])\n",
    "  STT_v.append([rhonn,processo*100,rho[0],rho[1],rho[2],rho[3],rho[4],rho[5],rho[6],rho[7],rho[8],rho[9],rho[10],rho[11]])\n",
    "\n",
    "  T_hout = round(T_hout, 2)    \n",
    "  T_hout_cond.append(T_hout)\n",
    "  \n",
    "# Adiciona linhas vazias entre as propriedades na tabela:\n",
    "STT_T.append([\"\",\"\",\"\",\"\",\"\",\"\",\"\",\"\",\"\",\"\",\"\",\"\",\"\",\"\"])\n",
    "STT_P.append([\"\",\"\",\"\",\"\",\"\",\"\",\"\",\"\",\"\",\"\",\"\",\"\",\"\",\"\"])\n",
    "STT_X.append([\"\",\"\",\"\",\"\",\"\",\"\",\"\",\"\",\"\",\"\",\"\",\"\",\"\",\"\"])\n",
    "STT_h.append([\"\",\"\",\"\",\"\",\"\",\"\",\"\",\"\",\"\",\"\",\"\",\"\",\"\",\"\"])\n",
    "STT_s.append([\"\",\"\",\"\",\"\",\"\",\"\",\"\",\"\",\"\",\"\",\"\",\"\",\"\",\"\"])\n",
    "STT_v.append([\"\",\"\",\"\",\"\",\"\",\"\",\"\",\"\",\"\",\"\",\"\",\"\",\"\",\"\"])\n",
    "\n",
    "# Incluir na tabela e gráfico:  \n",
    "np.reshape(variacao, (1,n-1))\n",
    "np.reshape(η_sys, (1,n-1))\n",
    "np.reshape(T_hout_cond, (1,n-1))\n",
    "np.reshape(W_liq, (1,n-1))\n",
    "\n",
    "for i in range(0, n):\n",
    "    T[i] = round(T[i],2)\n",
    "    P[i] = round(P[i],2)\n",
    "    X[i] = round(X[i],2)\n",
    "    h[i] = round(h[i],2)\n",
    "    s[i] = round(s[i],2)\n",
    "    rho[i] = round(rho[i],2)\n",
    "\n",
    "x = []\n",
    "y = []\n",
    "z = []\n",
    "w = []\n",
    "\n",
    "for i in range(0, quant+1):\n",
    "  x.append(variacao[i])\n",
    "  y.append(T_hout_cond[i])\n",
    "  z.append(η_sys[i])\n",
    "  w.append(W_liq[i])\n",
    "\n",
    "table2 = resultados.T\n",
    " \n",
    "resultados2 = np.zeros((n+4)*(quant + 1), dtype = float).reshape((n+4, quant + 1))\n",
    " \n",
    "for i in range(0, quant+1):\n",
    "  variacao[i] = i*10\n",
    "  resultados2[0, i] = resultados[0, i]\n",
    "  resultados2[1, i] = resultados[1, i]\n",
    "  resultados2[2:(n+1), i] = resultados[2:(n+1), i]\n",
    "  resultados2[n+2,i] = round(float(w[i]),2)\n",
    "  resultados2[n+3,i] = round(float(z[i]),4)\n",
    "table2 = resultados2.T\n",
    "\n",
    "st_depois = [st1, st2, st3, st4, st5, st6, st7, st8, st9, st10, st11, st12]"
   ]
  },
  {
   "cell_type": "markdown",
   "metadata": {
    "id": "fqN5c36LQZUQ"
   },
   "source": [
    "## **Tabela - Vazões mássicas**"
   ]
  },
  {
   "cell_type": "code",
   "execution_count": 117,
   "metadata": {
    "code_folding": [],
    "colab": {
     "base_uri": "https://localhost:8080/",
     "height": 934
    },
    "hide_input": true,
    "id": "mM-cqG1tGRBR",
    "outputId": "01b62677-8789-47e3-87ec-3c7c423a66d2",
    "scrolled": false
   },
   "outputs": [
    {
     "name": "stdout",
     "output_type": "stream",
     "text": [
      "===  ===========  ===========  ===========  ===========  ===========  ===========  ===========  ===========  ===========  ============  ============  ============  =============  ==============  ======\n",
      "%    m1 [kg/s]    m2 [kg/s]    m3 [kg/s]    m4 [kg/s]    m5 [kg/s]    m6 [kg/s]    m7 [kg/s]    m8 [kg/s]    m9 [kg/s]    m10 [kg/s]    m11 [kg/s]    m12 [kg/s]    T_hout [°C]    W_liq [kJ/s]    η\n",
      "===  ===========  ===========  ===========  ===========  ===========  ===========  ===========  ===========  ===========  ============  ============  ============  =============  ==============  ======\n",
      "0    27.9         0            2.76         25.14        25.14        25.14        27.9         27.9         0            0             0             0             50.64          27967.1         0.2926\n",
      "10   27.9         0.65         2.62         24.63        24.63        24.63        27.94        27.9         0.04         0.04          0.69          0.69          49.99          27632.8         0.2891\n",
      "20   27.9         1.3          2.48         24.12        24.12        24.12        27.99        27.9         0.09         0.09          1.39          1.39          49.08          27298           0.2856\n",
      "30   27.9         1.95         2.34         23.62        23.62        23.62        28.03        27.9         0.13         0.13          2.08          2.08          47.97          26963.7         0.2821\n",
      "40   27.9         2.6          2.19         23.11        23.11        23.11        28.08        27.9         0.18         0.18          2.78          2.78          46.72          26629           0.2786\n",
      "50   27.9         3.25         2.05         22.6         22.6         22.6         28.12        27.9         0.22         0.22          3.47          3.47          45.4           26294.6         0.2751\n",
      "60   27.9         3.9          1.91         22.09        22.09        22.09        28.17        27.9         0.27         0.27          4.16          4.16          44.09          25959.9         0.2716\n",
      "70   27.9         4.55         1.77         21.59        21.59        21.59        28.21        27.9         0.31         0.31          4.86          4.86          42.85          25625.5         0.2681\n",
      "80   27.9         5.19         1.62         21.08        21.08        21.08        28.26        27.9         0.36         0.36          5.55          5.55          41.76          25290.8         0.2646\n",
      "90   27.9         5.84         1.48         20.57        20.57        20.57        28.3         27.9         0.4          0.4           6.25          6.25          40.86          24956.5         0.2611\n",
      "100  27.9         6.49         1.34         20.07        20.07        20.07        28.35        27.9         0.45         0.45          6.94          6.94          40.2           24621.8         0.2576\n",
      "===  ===========  ===========  ===========  ===========  ===========  ===========  ===========  ===========  ===========  ============  ============  ============  =============  ==============  ======\n",
      "\n",
      "A vazão mássica de combustível é de 9.56 kg/s\n",
      "\n"
     ]
    },
    {
     "data": {
      "image/png": "[encoded data removed]",
      "text/plain": [
       "<Figure size 1920x720 with 2 Axes>"
      ]
     },
     "metadata": {
      "needs_background": "light"
     },
     "output_type": "display_data"
    }
   ],
   "source": [
    "# Tabela 2:\n",
    "for i in range(0, quant+1):\n",
    "  if Temperatura == 'k':\n",
    "    headers2 = [\"%\", \"m1 [kg/s]\", \"m2 [kg/s]\", \"m3 [kg/s]\", \"m4 [kg/s]\", \"m5 [kg/s]\", \"m6 [kg/s]\", \"m7 [kg/s]\", \"m8 [kg/s]\", \"m9 [kg/s]\", \"m10 [kg/s]\", \"m11 [kg/s]\", \"m12 [kg/s]\", \"T_hout [K]\", \"W_liq [kJ/s]\", \"η\"]\n",
    "    resultados2[n+1,i] = round(float(y[i]+273.15),2) #converter para K\n",
    "    y[i] = resultados2[n+1,i]\n",
    "  else:\n",
    "    headers2 = [\"%\", \"m1 [kg/s]\", \"m2 [kg/s]\", \"m3 [kg/s]\", \"m4 [kg/s]\", \"m5 [kg/s]\", \"m6 [kg/s]\", \"m7 [kg/s]\", \"m8 [kg/s]\", \"m9 [kg/s]\", \"m10 [kg/s]\", \"m11 [kg/s]\", \"m12 [kg/s]\", \"T_hout [°C]\", \"W_liq [kJ/s]\", \"η\"]\n",
    "    resultados2[n+1,i] = round(float(y[i]),2)\n",
    "print(tab(table2, headers2, tablefmt=\"rst\", stralign=\"center\", numalign=\"left\"))\n",
    "print('\\nA vazão mássica de combustível é de %.2f kg/s\\n' %m_fuel)\n",
    "\n",
    "# Gráficos:\n",
    "escala1 = 1.5\n",
    "plt.figure(dpi=100, figsize=[escala1*2*6.4, escala1*4.8])\n",
    "plt.subplot(1,2,1)\n",
    "plt.xlabel('Processo [%]', fontsize=14)\n",
    "if Temperatura == 'k':\n",
    "  plt.ylabel('Temperatura de saída do condensador [K]', fontsize=14)\n",
    "  plt.plot(x, y, color='r', marker = 'o', linestyle = 'solid')\n",
    "else:\n",
    "  plt.ylabel('Temperatura de saída do condensador [°C]', fontsize=14)\n",
    "  plt.plot(x, y, color='r', marker = 'o', linestyle = 'solid')\n",
    "plt.grid()\n",
    "plt.subplot(1,2,2)\n",
    "plt.xlabel('Processo [%]', fontsize=14)\n",
    "plt.ylabel('$η_{sistema}$', fontsize=14)\n",
    "plt.plot(x, z, color='b', marker = 'o', linestyle = 'solid')\n",
    "plt.grid()\n",
    "plt.show()"
   ]
  },
  {
   "cell_type": "markdown",
   "metadata": {
    "id": "Sco6dUf5CmA9"
   },
   "source": [
    "## **Gráfico completo Ciclo Rankine**"
   ]
  },
  {
   "cell_type": "code",
   "execution_count": 118,
   "metadata": {
    "code_folding": [],
    "colab": {
     "base_uri": "https://localhost:8080/",
     "height": 811
    },
    "hide_input": true,
    "id": "QaM4WC2IVu7z",
    "outputId": "78bf3d90-d329-40d3-9b91-83ff1691c7a2",
    "scrolled": false
   },
   "outputs": [
    {
     "data": {
      "image/png": "[encoded data removed]",
      "text/plain": [
       "<Figure size 1152x864 with 2 Axes>"
      ]
     },
     "metadata": {
      "needs_background": "light"
     },
     "output_type": "display_data"
    }
   ],
   "source": [
    "# Gráfico do Ciclo Rankine:\n",
    "escala2 = 1.2\n",
    "plt.figure(dpi=150, figsize=[escala2*6.4, escala2*4.8])\n",
    "y1 = 273.15\n",
    "y2 = 850\n",
    "x1 = -0.5\n",
    "x2 = 10\n",
    "plt.ylim(y1,y2)\n",
    "plt.xlim(x1,x2)\n",
    "plt.title('Ciclo Rankine',fontsize=20)\n",
    "plt.xlabel('Entropia, s[kJ/kg$\\cdot$K]')\n",
    "plt.ylabel('Temperatura, T[K]')\n",
    "\n",
    "Tmin = ps('Tmin',fld )\n",
    "Tcrit = ps('Tcrit',fld)\n",
    "Pcrit = ps('Pcrit', fld)\n",
    "\n",
    "Larg_isolines = .25\n",
    "Larg_cycle = 1.5\n",
    "Larg_scatters = 15\n",
    "\n",
    "#Linhas de entalpia:\n",
    "T = np.linspace(Tmin,Tcrit,1000)\n",
    "Q = np.arange(0.1,1,0.1)\n",
    "for i in Q:\n",
    "  s = ps('S','T',T,'Q',i,'Water')/1000\n",
    "  plt.plot(s,T,'#6ca8fa',alpha=0.7,lw=Larg_isolines)\n",
    "\n",
    "#Domo:\n",
    "T = np.linspace(Tmin,Tcrit,1000)\n",
    "s = ps('S','T',T,'Q',0,fld)/1000\n",
    "plt.plot(s,T,'black',lw=2*Larg_isolines)\n",
    "\n",
    "T = np.linspace(Tcrit,Tmin,1000)\n",
    "s = ps('S','T',T,'Q',1,fld)/1000\n",
    "plt.plot(s,T,'black',lw=2*Larg_isolines)\n",
    "\n",
    "#Linhas de pressão constante:\n",
    "T = np.linspace(Tmin,1000,1000)\n",
    "P = [st_antes[0].p,st_antes[1].p,st_antes[2].p,st_antes[3].p,st_depois[3].p] #P1, P2, P3, P4 e P4*\n",
    "for i in P:\n",
    "  s = ps('S','T',T,'P',i*1000,'Water')/1000\n",
    "  plt.plot(s,T,'#cc00ff',alpha=.7,lw=Larg_isolines)\n",
    "\n",
    "#Ciclo:\n",
    "#(antes)\n",
    "T = np.linspace(st_antes[7].T,st_antes[0].T,1000)\n",
    "s = ps('S','P',st_antes[0].p * 1000,'T',T,'Water')/1000\n",
    "plt.plot(s,T,'r',lw=Larg_cycle)\n",
    "\n",
    "T = np.linspace(st_antes[9].T,st_antes[1].T,1000)\n",
    "s = ps('S','T',T,'P',st_antes[9].p*1000,'Water')/1000\n",
    "plt.plot(s,T,'r',lw=Larg_cycle)\n",
    "plt.plot([st_antes[3].s,st_antes[4].s],[st_antes[3].T,st_antes[4].T],'r',lw=Larg_cycle)\n",
    "\n",
    "plt.plot([st_antes[0].s,st_antes[1].s],[st_antes[0].T,st_antes[1].T],color='r',linestyle='dashed',lw=Larg_cycle)\n",
    "plt.plot([st_antes[1].s,st_antes[2].s],[st_antes[1].T,st_antes[2].T],color='r',linestyle='dashed',lw=Larg_cycle)\n",
    "\n",
    "s = np.linspace(st_antes[2].s,st_antes[6].s,1000)\n",
    "T = ps('T','S',s*1000,'P',st_antes[2].p*1000,'Water')\n",
    "plt.plot(s,T,'r',lw=Larg_cycle)\n",
    "\n",
    "T = np.linspace(st_antes[5].T,st_antes[6].T,1000)\n",
    "s = ps('S','P',st_antes[5].p*1000,'T',T,'Water')/1000\n",
    "plt.plot(s,T,'r',lw=Larg_cycle)\n",
    "\n",
    "s = np.linspace(st_antes[2].s,st_antes[3].s,1000)\n",
    "plt.plot([st_antes[3].s,st_antes[2].s],[st_antes[3].T,st_antes[2].T],color='r',linestyle='dashed',lw=Larg_cycle)\n",
    "\n",
    "#(depois)\n",
    "T = np.linspace(st_depois[7].T,st_depois[0].T,1000)\n",
    "s = ps('S','P',st_depois[0].p * 1000,'T',T,'Water')/1000\n",
    "plt.plot(s,T,'lime',lw=Larg_cycle)\n",
    "\n",
    "T = np.linspace(st_depois[9].T,st_depois[1].T,1000)\n",
    "s = ps('S','T',T,'P',st_depois[9].p*1000,'Water')/1000\n",
    "plt.plot(s,T,'lime',lw=Larg_cycle)\n",
    "plt.plot([st_depois[3].s,st_depois[4].s],[st_depois[3].T,st_depois[4].T],'lime',lw=Larg_cycle)\n",
    "\n",
    "plt.plot([st_depois[0].s,st_depois[1].s],[st_depois[0].T,st_depois[1].T],color='lime',linestyle='dashed',lw=Larg_cycle)\n",
    "plt.plot([st_depois[1].s,st_depois[2].s],[st_depois[1].T,st_depois[2].T],color='lime',linestyle='dashed',lw=Larg_cycle)\n",
    "\n",
    "s = np.linspace(st_depois[2].s,st_depois[6].s,1000)\n",
    "T = ps('T','S',s*1000,'P',st_depois[2].p*1000,'Water')\n",
    "plt.plot(s,T,'lime',lw=Larg_cycle)\n",
    "\n",
    "T = np.linspace(st_depois[5].T,st_depois[6].T,1000)\n",
    "s = ps('S','P',st_depois[5].p*1000,'T',T,'Water')/1000\n",
    "plt.plot(s,T,'lime',lw=Larg_cycle)\n",
    "\n",
    "s = np.linspace(st_depois[2].s,st_depois[3].s,1000)\n",
    "plt.plot([st_depois[3].s,st_depois[2].s],[st_depois[3].T,st_depois[2].T],color='lime',linestyle='dashed',lw=Larg_cycle)\n",
    "\n",
    "#Pontuar e nomear:\n",
    "for i in range(0, n):\n",
    "  plt.scatter(st_antes[i].s,st_antes[i].T,zorder=5,color='k',s=Larg_scatters)\n",
    "  plt.scatter(st_depois[i].s,st_depois[i].T,zorder=5,color='k',s=Larg_scatters)\n",
    "\n",
    "plt.text(st_antes[0].s+.1,st_antes[0].T,'1',ha='left')\n",
    "plt.text(st_antes[1].s+.1,st_antes[1].T,'2',ha='left')\n",
    "plt.text(st_antes[2].s+.1,st_antes[2].T,'3',ha='left')\n",
    "plt.text(st_antes[3].s+.1,st_antes[3].T,'4',ha='left')\n",
    "plt.text(st_antes[4].s-.1,st_antes[4].T,'5, 6',ha='right')\n",
    "plt.text(st_antes[6].s-.1,st_antes[6].T,'7, 8, 9, 10',ha='right')\n",
    "plt.text(st_antes[10].s-.1,st_antes[10].T,'11',va='bottom',ha='right')\n",
    "plt.text(st_antes[11].s-.1,st_antes[11].T+.1,'12',ha='right')\n",
    "plt.text(st_depois[3].s+.1,st_depois[3].T,'4*',va='top',ha='left')\n",
    "plt.text(st_depois[4].s-.1,st_depois[4].T,'5*, 6*',va='top',ha='right')\n",
    "\n",
    "#plt.grid(lw=Larg_isolines)\n",
    "plt.twinx()\n",
    "plt.ylim(y1-273.15,y2-273.15)\n",
    "plt.ylabel('Temperatura, T[°C]')\n",
    "#plt.grid(lw=Larg_isolines)\n",
    "\n",
    "plt.savefig('Diagrama T-s.png')\n",
    "#files.download('Diagrama T-s.png')"
   ]
  },
  {
   "cell_type": "markdown",
   "metadata": {
    "id": "L207JH1_CQdk"
   },
   "source": [
    "## **Tabela relatório completo Ciclo Rankine**"
   ]
  },
  {
   "cell_type": "code",
   "execution_count": 119,
   "metadata": {
    "cellView": "code",
    "code_folding": [],
    "colab": {
     "base_uri": "https://localhost:8080/"
    },
    "hide_input": true,
    "id": "GY2tqM_TCH9V",
    "outputId": "e0620762-9021-479d-fa39-66cb46502acc",
    "scrolled": false
   },
   "outputs": [
    {
     "name": "stdout",
     "output_type": "stream",
     "text": [
      "========================  =====  ==========  ==========  ==========  ==========  ==========  ==========  ==========  ==========  ==========  ===========  ===========  ===========\n",
      "      Propriedade           %     Estado 1    Estado 2    Estado 3    Estado 4    Estado 5    Estado 6    Estado 7    Estado 8    Estado 9    Estado 10    Estado 11    Estado 12\n",
      "========================  =====  ==========  ==========  ==========  ==========  ==========  ==========  ==========  ==========  ==========  ===========  ===========  ===========\n",
      "    Temperatura [°C]       0.0     485.0       243.27      127.41      50.64       50.64       50.66       110.0       -162.4      110.0       110.08       175.35       175.35\n",
      "    Temperatura [°C]      10.0     485.0       243.27      127.41      49.99       49.99       50.01       110.0       -162.4      110.0       110.08       175.35       175.35\n",
      "    Temperatura [°C]      20.0     485.0       243.27      127.41      49.08       49.08        49.1       110.0       -162.4      110.0       110.08       175.35       175.35\n",
      "    Temperatura [°C]      30.0     485.0       243.27      127.41      47.97       47.97       47.99       110.0       -162.4      110.0       110.08       175.35       175.35\n",
      "    Temperatura [°C]      40.0     485.0       243.27      127.41      46.72       46.72       46.74       110.0       -162.4      110.0       110.08       175.35       175.35\n",
      "    Temperatura [°C]      50.0     485.0       243.27      127.41       45.4        45.4       45.42       110.0       -162.4      110.0       110.08       175.35       175.35\n",
      "    Temperatura [°C]      60.0     485.0       243.27      127.41      44.09       44.09       44.11       110.0       -162.4      110.0       110.08       175.35       175.35\n",
      "    Temperatura [°C]      70.0     485.0       243.27      127.41      42.85       42.85       42.87       110.0       -162.4      110.0       110.08       175.35       175.35\n",
      "    Temperatura [°C]      80.0     485.0       243.27      127.41      41.76       41.76       41.78       110.0       -162.4      110.0       110.08       175.35       175.35\n",
      "    Temperatura [°C]      90.0     485.0       243.27      127.41      40.86       40.86       40.88       110.0       -162.4      110.0       110.08       175.35       175.35\n",
      "    Temperatura [°C]      100.0    485.0       243.27      127.41       40.2        40.2       40.21       110.0       -162.4      110.0       110.08       175.35       175.35\n",
      "           ..\n",
      "     Pressão [kPa]         0.0     6495.0      900.0       250.0       12.75       12.75       250.0       250.0       6495.0      250.0        900.0        900.0        900.0\n",
      "     Pressão [kPa]        10.0     6495.0      900.0       250.0       12.34       12.34       250.0       250.0       6495.0      250.0        900.0        900.0        900.0\n",
      "     Pressão [kPa]        20.0     6495.0      900.0       250.0        11.8        11.8       250.0       250.0       6495.0      250.0        900.0        900.0        900.0\n",
      "     Pressão [kPa]        30.0     6495.0      900.0       250.0       11.16       11.16       250.0       250.0       6495.0      250.0        900.0        900.0        900.0\n",
      "     Pressão [kPa]        40.0     6495.0      900.0       250.0       10.48       10.48       250.0       250.0       6495.0      250.0        900.0        900.0        900.0\n",
      "     Pressão [kPa]        50.0     6495.0      900.0       250.0        9.8         9.8        250.0       250.0       6495.0      250.0        900.0        900.0        900.0\n",
      "     Pressão [kPa]        60.0     6495.0      900.0       250.0        9.15        9.15       250.0       250.0       6495.0      250.0        900.0        900.0        900.0\n",
      "     Pressão [kPa]        70.0     6495.0      900.0       250.0        8.58        8.58       250.0       250.0       6495.0      250.0        900.0        900.0        900.0\n",
      "     Pressão [kPa]        80.0     6495.0      900.0       250.0        8.11        8.11       250.0       250.0       6495.0      250.0        900.0        900.0        900.0\n",
      "     Pressão [kPa]        90.0     6495.0      900.0       250.0        7.73        7.73       250.0       250.0       6495.0      250.0        900.0        900.0        900.0\n",
      "     Pressão [kPa]        100.0    6495.0      900.0       250.0        7.46        7.46       250.0       250.0       6495.0      250.0        900.0        900.0        900.0\n",
      "           ..\n",
      "         Título            0.0      -1.0        -1.0        1.0         0.89        0.0         -1.0        -1.0        -1.0        -1.0        -1.0          1.0          0.0\n",
      "         Título           10.0      -1.0        -1.0        1.0         0.89        0.0         -1.0        -1.0        -1.0        -1.0        -1.0          1.0          0.0\n",
      "         Título           20.0      -1.0        -1.0        1.0         0.89        0.0         -1.0        -1.0        -1.0        -1.0        -1.0          1.0          0.0\n",
      "         Título           30.0      -1.0        -1.0        1.0         0.89        0.0         -1.0        -1.0        -1.0        -1.0        -1.0          1.0          0.0\n",
      "         Título           40.0      -1.0        -1.0        1.0         0.88        0.0         -1.0        -1.0        -1.0        -1.0        -1.0          1.0          0.0\n",
      "         Título           50.0      -1.0        -1.0        1.0         0.88        0.0         -1.0        -1.0        -1.0        -1.0        -1.0          1.0          0.0\n",
      "         Título           60.0      -1.0        -1.0        1.0         0.88        0.0         -1.0        -1.0        -1.0        -1.0        -1.0          1.0          0.0\n",
      "         Título           70.0      -1.0        -1.0        1.0         0.88        0.0         -1.0        -1.0        -1.0        -1.0        -1.0          1.0          0.0\n",
      "         Título           80.0      -1.0        -1.0        1.0         0.88        0.0         -1.0        -1.0        -1.0        -1.0        -1.0          1.0          0.0\n",
      "         Título           90.0      -1.0        -1.0        1.0         0.88        0.0         -1.0        -1.0        -1.0        -1.0        -1.0          1.0          0.0\n",
      "         Título           100.0     -1.0        -1.0        1.0         0.88        0.0         -1.0        -1.0        -1.0        -1.0        -1.0          1.0          0.0\n",
      "           ..\n",
      "    Entalpia [kJ/kg]       0.0     3381.2     2932.08     2714.68     2331.17      212.02      212.3       461.49      469.21      461.49       462.3       2773.03      742.56\n",
      "    Entalpia [kJ/kg]      10.0     3381.2     2932.08     2714.68     2328.23      209.29      209.58      461.49      469.21      461.49       462.3       2773.03      742.56\n",
      "    Entalpia [kJ/kg]      20.0     3381.2     2932.08     2714.68     2323.34      205.5       205.79      461.49      469.21      461.49       462.3       2773.03      742.56\n",
      "    Entalpia [kJ/kg]      30.0     3381.2     2932.08     2714.68     2317.33      200.86      201.14      461.49      469.21      461.49       462.3       2773.03      742.56\n",
      "    Entalpia [kJ/kg]      40.0     3381.2     2932.08     2714.68     2310.55      195.63      195.92      461.49      469.21      461.49       462.3       2773.03      742.56\n",
      "    Entalpia [kJ/kg]      50.0     3381.2     2932.08     2714.68     2303.38      190.12      190.41      461.49      469.21      461.49       462.3       2773.03      742.56\n",
      "    Entalpia [kJ/kg]      60.0     3381.2     2932.08     2714.68     2296.22      184.63      184.92      461.49      469.21      461.49       462.3       2773.03      742.56\n",
      "    Entalpia [kJ/kg]      70.0     3381.2     2932.08     2714.68     2289.46      179.46      179.75      461.49      469.21      461.49       462.3       2773.03      742.56\n",
      "    Entalpia [kJ/kg]      80.0     3381.2     2932.08     2714.68     2283.46      174.88      175.17      461.49      469.21      461.49       462.3       2773.03      742.56\n",
      "    Entalpia [kJ/kg]      90.0     3381.2     2932.08     2714.68     2278.53      171.13      171.42      461.49      469.21      461.49       462.3       2773.03      742.56\n",
      "    Entalpia [kJ/kg]      100.0    3381.2     2932.08     2714.68     2274.88      168.36      168.64      461.49      469.21      461.49       462.3       2773.03      742.56\n",
      "           ..\n",
      "   Entropia [kJ/kg*K]      0.0      6.79        6.95        7.05        7.26        0.71        0.71        1.42        1.42        1.42        1.42         6.62         2.09\n",
      "   Entropia [kJ/kg*K]     10.0      6.79        6.95        7.05        7.26        0.7         0.7         1.42        1.42        1.42        1.42         6.62         2.09\n",
      "   Entropia [kJ/kg*K]     20.0      6.79        6.95        7.05        7.26        0.69        0.69        1.42        1.42        1.42        1.42         6.62         2.09\n",
      "   Entropia [kJ/kg*K]     30.0      6.79        6.95        7.05        7.27        0.68        0.68        1.42        1.42        1.42        1.42         6.62         2.09\n",
      "   Entropia [kJ/kg*K]     40.0      6.79        6.95        7.05        7.27        0.66        0.66        1.42        1.42        1.42        1.42         6.62         2.09\n",
      "   Entropia [kJ/kg*K]     50.0      6.79        6.95        7.05        7.28        0.64        0.64        1.42        1.42        1.42        1.42         6.62         2.09\n",
      "   Entropia [kJ/kg*K]     60.0      6.79        6.95        7.05        7.28        0.63        0.63        1.42        1.42        1.42        1.42         6.62         2.09\n",
      "   Entropia [kJ/kg*K]     70.0      6.79        6.95        7.05        7.29        0.61        0.61        1.42        1.42        1.42        1.42         6.62         2.09\n",
      "   Entropia [kJ/kg*K]     80.0      6.79        6.95        7.05        7.29        0.6         0.6         1.42        1.42        1.42        1.42         6.62         2.09\n",
      "   Entropia [kJ/kg*K]     90.0      6.79        6.95        7.05        7.3         0.58        0.58        1.42        1.42        1.42        1.42         6.62         2.09\n",
      "   Entropia [kJ/kg*K]     100.0     6.79        6.95        7.05        7.3         0.58        0.58        1.42        1.42        1.42        1.42         6.62         2.09\n",
      "           ..\n",
      "Massa específica [m³/kg]   0.0     19.65        3.91        1.39        0.1        987.71      987.8       951.0       953.43      951.0       951.25        4.65        891.92\n",
      "Massa específica [m³/kg]  10.0     19.65        3.91        1.39        0.09       988.0       988.1       951.0       953.43      951.0       951.25        4.65        891.92\n",
      "Massa específica [m³/kg]  20.0     19.65        3.91        1.39        0.09       988.41      988.5       951.0       953.43      951.0       951.25        4.65        891.92\n",
      "Massa específica [m³/kg]  30.0     19.65        3.91        1.39        0.09       988.9       989.0       951.0       953.43      951.0       951.25        4.65        891.92\n",
      "Massa específica [m³/kg]  40.0     19.65        3.91        1.39        0.08       989.44      989.54      951.0       953.43      951.0       951.25        4.65        891.92\n",
      "Massa específica [m³/kg]  50.0     19.65        3.91        1.39        0.08       990.0       990.1       951.0       953.43      951.0       951.25        4.65        891.92\n",
      "Massa específica [m³/kg]  60.0     19.65        3.91        1.39        0.07       990.55      990.65      951.0       953.43      951.0       951.25        4.65        891.92\n",
      "Massa específica [m³/kg]  70.0     19.65        3.91        1.39        0.07       991.05      991.15      951.0       953.43      951.0       951.25        4.65        891.92\n",
      "Massa específica [m³/kg]  80.0     19.65        3.91        1.39        0.06       991.49      991.59      951.0       953.43      951.0       951.25        4.65        891.92\n",
      "Massa específica [m³/kg]  90.0     19.65        3.91        1.39        0.06       991.84      991.94      951.0       953.43      951.0       951.25        4.65        891.92\n",
      "Massa específica [m³/kg]  100.0    19.65        3.91        1.39        0.06       992.1       992.2       951.0       953.43      951.0       951.25        4.65        891.92\n",
      "           ..\n",
      "========================  =====  ==========  ==========  ==========  ==========  ==========  ==========  ==========  ==========  ==========  ===========  ===========  ===========\n"
     ]
    }
   ],
   "source": [
    "# Tabela 3:\n",
    "table3 = STT_T + STT_P + STT_X + STT_h + STT_s + STT_v\n",
    "headers3=[\"Propriedade\", \"%\", \"Estado 1\", \"Estado 2\", \"Estado 3\", \"Estado 4\", \"Estado 5\", \"Estado 6\", \"Estado 7\", \"Estado 8\", \"Estado 9\", \"Estado 10\", \"Estado 11\", \"Estado 12\"]\n",
    "\n",
    "print(tab(table3, headers3, tablefmt=\"rst\", stralign=\"center\", numalign=\"center\"))"
   ]
  }
 ],
 "metadata": {
  "colab": {
   "collapsed_sections": [
    "qiiJ6Yv5Oe6D",
    "ooclRVh5xral",
    "3P5SSFRlxKTB",
    "-_WTU23Cql2h"
   ],
   "name": "Trabalho.ipynb",
   "provenance": []
  },
  "hide_input": false,
  "kernelspec": {
   "display_name": "Python 3",
   "language": "python",
   "name": "python3"
  },
  "language_info": {
   "codemirror_mode": {
    "name": "ipython",
    "version": 3
   },
   "file_extension": ".py",
   "mimetype": "text/x-python",
   "name": "python",
   "nbconvert_exporter": "python",
   "pygments_lexer": "ipython3",
   "version": "3.8.5"
  },
  "toc": {
   "base_numbering": 1,
   "nav_menu": {},
   "number_sections": true,
   "sideBar": true,
   "skip_h1_title": false,
   "title_cell": "Table of Contents",
   "title_sidebar": "Contents",
   "toc_cell": false,
   "toc_position": {},
   "toc_section_display": true,
   "toc_window_display": false
  },
  "varInspector": {
   "cols": {
    "lenName": 16,
    "lenType": 16,
    "lenVar": 40
   },
   "kernels_config": {
    "python": {
     "delete_cmd_postfix": "",
     "delete_cmd_prefix": "del ",
     "library": "var_list.py",
     "varRefreshCmd": "print(var_dic_list())"
    },
    "r": {
     "delete_cmd_postfix": ") ",
     "delete_cmd_prefix": "rm(",
     "library": "var_list.r",
     "varRefreshCmd": "cat(var_dic_list()) "
    }
   },
   "types_to_exclude": [
    "module",
    "function",
    "builtin_function_or_method",
    "instance",
    "_Feature"
   ],
   "window_display": false
  }
 },
 "nbformat": 4,
 "nbformat_minor": 1
}
