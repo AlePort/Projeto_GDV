{
 "cells": [
  {
   "cell_type": "markdown",
   "metadata": {
    "cell_style": "center",
    "id": "ce58rWM2QtJV"
   },
   "source": [
    "# **Modelagem**\n"
   ]
  },
  {
   "cell_type": "markdown",
   "metadata": {
    "hide_input": true,
    "id": "CgsDMREUumCV"
   },
   "source": [
    "<img src=\"https://cdn.discordapp.com/attachments/748012097589215325/837146587481768016/unknown.png\" \n",
    "     width=\"600\" />"
   ]
  },
  {
   "cell_type": "markdown",
   "metadata": {},
   "source": [
    "<img src=\"https://cdn.discordapp.com/attachments/748012097589215325/837147111388479528/unknown.png\" \n",
    "     width=\"600\" />"
   ]
  },
  {
   "cell_type": "markdown",
   "metadata": {
    "heading_collapsed": true,
    "id": "qiiJ6Yv5Oe6D"
   },
   "source": [
    "## **Instalação e importação**"
   ]
  },
  {
   "cell_type": "code",
   "execution_count": 1,
   "metadata": {
    "hidden": true,
    "id": "h07Gv4Yfeb4a"
   },
   "outputs": [],
   "source": [
    "%reset -f"
   ]
  },
  {
   "cell_type": "code",
   "execution_count": 2,
   "metadata": {
    "cell_style": "center",
    "code_folding": [],
    "colab": {
     "base_uri": "https://localhost:8080/",
     "height": 35
    },
    "hidden": true,
    "hide_input": false,
    "id": "6OGdwlfuXImN",
    "outputId": "c5131af3-f994-4752-b726-70cea5685697"
   },
   "outputs": [
    {
     "data": {
      "text/html": [
       "\n",
       "<style>\n",
       ".output_png {\n",
       "    display: table-cell;\n",
       "    text-align: center;\n",
       "    vertical-align: middle;\n",
       "}\n",
       "</style>\n"
      ],
      "text/plain": [
       "<IPython.core.display.HTML object>"
      ]
     },
     "execution_count": 2,
     "metadata": {},
     "output_type": "execute_result"
    }
   ],
   "source": [
    "#Instalar e importar bibliotecas:\n",
    "\n",
    "try:\n",
    "    import CoolProp\n",
    "except ImportError:\n",
    "    !pip install CoolProp\n",
    "\n",
    "\n",
    "import matplotlib.pyplot as plt\n",
    "from matplotlib.ticker import AutoMinorLocator\n",
    "import CoolProp.CoolProp as cp\n",
    "from CoolProp.CoolProp import PropsSI as ps\n",
    "from CoolProp.CoolProp import State as st\n",
    "from tabulate import tabulate as tab\n",
    "import numpy as np\n",
    "from sympy import *\n",
    "import sympy as sp\n",
    "import pandas as pd\n",
    "import ipywidgets as wd\n",
    "from IPython.display import display\n",
    "\n",
    "from IPython.core.display import HTML\n",
    "HTML(\"\"\"\n",
    "<style>\n",
    ".output_png {\n",
    "    display: table-cell;\n",
    "    text-align: center;\n",
    "    vertical-align: middle;\n",
    "}\n",
    "</style>\n",
    "\"\"\")"
   ]
  },
  {
   "cell_type": "markdown",
   "metadata": {
    "id": "d64Tp25bzf4R"
   },
   "source": [
    "## **Escala de temperatura**"
   ]
  },
  {
   "cell_type": "code",
   "execution_count": 3,
   "metadata": {
    "cell_style": "center",
    "code_folding": [],
    "hide_input": true,
    "id": "DwEOOfQBs7Et"
   },
   "outputs": [
    {
     "name": "stdout",
     "output_type": "stream",
     "text": [
      "Temperatura em °C ou em K? (Digite c ou k): C\n"
     ]
    }
   ],
   "source": [
    "# Selecionar escala de temperatura:\n",
    "\n",
    "Temperatura = input('Temperatura em °C ou em K? (Digite c ou k): ')"
   ]
  },
  {
   "cell_type": "markdown",
   "metadata": {
    "heading_collapsed": true,
    "id": "ooclRVh5xral"
   },
   "source": [
    "## **Declaração de variáveis**"
   ]
  },
  {
   "cell_type": "code",
   "execution_count": 4,
   "metadata": {
    "code_folding": [],
    "hidden": true,
    "id": "FvQEFmKpnzSc"
   },
   "outputs": [],
   "source": [
    "# Declarar estados:\n",
    "\n",
    "n = 12\n",
    "\n",
    "fld = \"Water\"\n",
    "cp.set_reference_state(fld,'DEF')\n",
    "if Temperatura == 'k':\n",
    "    Tnn = \"Temperatura [K]\"\n",
    "else:\n",
    "    Tnn = \"Temperatura [°C]\"\n",
    "\n",
    "mnn = \"Vazão mássica [kg/s]\"\n",
    "hnn = \"Entalpia [kJ/kg]\"\n",
    "vnn = \"Volume específico [m³/kg]\"\n",
    "Pnn = \"Pressão [kPa]\"\n",
    "snn = \"Entropia [kJ/kg*K]\"\n",
    "Xnn = \"Título\"\n",
    "\n",
    "estado = np.arange(1, n+1, 1)\n",
    "\n",
    "T = np.linspace(0,0,n)\n",
    "m = np.linspace(0,0,n)\n",
    "h = np.linspace(0,0,n)\n",
    "v = np.linspace(0,0,n)\n",
    "P = np.linspace(0,0,n)\n",
    "s = np.linspace(0,0,n)\n",
    "X = np.linspace(0,0,n)"
   ]
  },
  {
   "cell_type": "markdown",
   "metadata": {
    "id": "0g83m6RdQLE5"
   },
   "source": [
    "## **Fornalha**"
   ]
  },
  {
   "cell_type": "code",
   "execution_count": 27,
   "metadata": {
    "id": "2jATv3dUQLE6"
   },
   "outputs": [],
   "source": [
    "# Combustível:\n",
    "\n",
    "P_CH4 = 0.8897\n",
    "P_C2H6 = 0.0592\n",
    "P_C3H8 = 0.0191\n",
    "P_C4H10 = 0.0109\n",
    "P_C02 = 0.0121\n",
    "P_N2 = 0.0089\n",
    "P_O2 = 0.0001\n",
    "P_N2_Ar = 0.79\n",
    "P_O2_Ar = 0.21\n",
    "\n",
    "# Excesso de ar:\n",
    "\n",
    "e = 1.5"
   ]
  },
  {
   "cell_type": "code",
   "execution_count": 28,
   "metadata": {
    "colab": {
     "base_uri": "https://localhost:8080/"
    },
    "hide_input": true,
    "id": "RgH0DPGDQLE9",
    "outputId": "b538e633-9961-411b-dedb-807ed2bafc67",
    "scrolled": false
   },
   "outputs": [
    {
     "name": "stdout",
     "output_type": "stream",
     "text": [
      "A razão ar-combustível é de 24.22 kg/kg\n",
      "\n",
      "A razão C-combustível é de 0.74 kg/kg\n",
      "\n",
      "A razão H-combustível é de 0.23 kg/kg\n",
      "\n",
      "A razão O-combustível é de 0.02 kg/kg\n",
      "\n",
      "A razão N-combustível é de 0.01 kg/kg\n",
      "\n",
      "Mistura com 50% de excesso de ar (e = 1.5)\n",
      "\n",
      "O PCI é de 54933.88 kJ/kg\n"
     ]
    }
   ],
   "source": [
    "#Cálculos:\n",
    "\n",
    "CH4 = np.array([1,4,0,0])\n",
    "C2H6 = np.array([2,6,0,0])\n",
    "C3H8 = np.array([3,8,0,0])\n",
    "C4H10 = np.array([4,10,0,0])\n",
    "CO2 = np.array([1,0,2,0])\n",
    "N2 = np.array([0,0,0,2])\n",
    "O2 = np.array([0,0,2,0])\n",
    "H2O = np.array([0,2,1,0])\n",
    "\n",
    "MM = np.array([12.011,1.008,15.999,14.007])\n",
    "P_GN = [P_CH4,P_C2H6,P_C3H8,P_C4H10,P_C02,P_N2,P_O2]\n",
    "\n",
    "M_CH4 = np.sum(CH4*MM)\n",
    "M_C2H6 = np.sum(C2H6*MM)\n",
    "M_C3H8 = np.sum(C3H8*MM)\n",
    "M_C4H10 = np.sum(C4H10*MM)\n",
    "M_CO2 = np.sum(CO2*MM)\n",
    "M_N2 = np.sum(N2*MM)\n",
    "M_O2 = np.sum(O2*MM)\n",
    "M_H2O = np.sum(H2O*MM)\n",
    "M_Air = M_N2*P_N2_Ar+M_O2*P_O2_Ar\n",
    "\n",
    "M = [M_CH4,M_C2H6,M_C3H8,M_C4H10,M_CO2,M_N2,M_O2,M_N2,M_H2O]\n",
    "\n",
    "F_M = []\n",
    "for i in range(0,4):\n",
    "    F_M.append(P_GN)\n",
    "\n",
    "np.array(F_M)\n",
    "quant_atomos_comb = np.array([CH4,C2H6,C3H8,C4H10,CO2,N2,O2])\n",
    "m_comp_comb = np.sum(F_M*quant_atomos_comb.T,axis=1)\n",
    "m_comp_comb[2] = m_comp_comb[2]*(-1)\n",
    "\n",
    "P_GN.append(P_N2_Ar/P_O2_Ar) #acrecentar partes de O2\n",
    "P_GN.append(P_O2_Ar/P_O2_Ar) #acrecentar partes de N2\n",
    "\n",
    "b = m_comp_comb[0]\n",
    "c = m_comp_comb[1]/2\n",
    "a = e*(m_comp_comb[2] + 2*b + c)/(2*P_GN[8])\n",
    "d = (m_comp_comb[3] + 2*a*P_GN[7])/2\n",
    "f = (2*e*(2*b+c)/(2*P_GN[8])-c-2*b)/2\n",
    "\n",
    "BLNC = [1,1,1,1,1,1,1,a,a]\n",
    "\n",
    "resposta = np.zeros((9,4))\n",
    "quant_atomos_molecula = np.array([CH4,C2H6,C3H8,C4H10,CO2,N2,O2,N2,O2])\n",
    "\n",
    "for i in range(0,9):\n",
    "    for j in range(0,4):\n",
    "        resposta[i,j] = quant_atomos_molecula[i,j] * MM[j] * P_GN[i] * BLNC[i]\n",
    "\n",
    "fuel = resposta[0:7,0:4]\n",
    "air = resposta[7:9,0:4]\n",
    "soma = np.sum(resposta)\n",
    "M_fuel = np.sum(fuel) #Massa total de combustível\n",
    "soma_air = np.sum(air) #Massa total de ar\n",
    "total_elem = np.sum(fuel, axis=0,keepdims=True) #C_tot, H_tot, O_tot, N_tot\n",
    "\n",
    "F_tot = total_elem/M_fuel\n",
    "\n",
    "PCS = 33900*F_tot[0,0] + 141800*(F_tot[0,1] - (F_tot[0,2]/8))\n",
    "\n",
    "w = PCS/2440 - 9*F_tot[0,1]\n",
    "F_w = w/M_fuel\n",
    "\n",
    "PCI = PCS - 2440*(9*F_tot[0,1] - F_w)\n",
    "\n",
    "ȦḞ = a*(1+79/21)\n",
    "AF = ȦḞ*(M_Air/M_fuel)\n",
    "\n",
    "print('A razão ar-combustível é de %.2f kg/kg\\n' %AF)\n",
    "\n",
    "elem = ['C', 'H', 'O', 'N']\n",
    "\n",
    "for i in range(0,4):\n",
    "    print(f'A razão {elem[i]}-combustível é de {round(F_tot[0,i],2)} kg/kg\\n')\n",
    "\n",
    "if e == 1:\n",
    "    print('Mistura estequiométrica (e = 1)\\n')\n",
    "else:\n",
    "    print(f'Mistura com {int((e-1)*100)}% de excesso de ar (e = {e})\\n')\n",
    "    \n",
    "print('O PCI é de %.2f kJ/kg' %PCI)"
   ]
  },
  {
   "cell_type": "markdown",
   "metadata": {},
   "source": [
    "## **Equação**"
   ]
  },
  {
   "cell_type": "markdown",
   "metadata": {
    "variables": {
     "P_GN[0]": "0.8897",
     "P_GN[1]": "0.0592",
     "P_GN[2]": "0.0191",
     "P_GN[3]": "0.0109",
     "P_GN[4]": "0.0121",
     "P_GN[5]": "0.0089",
     "P_GN[6]": "0.0001",
     "P_GN[8]": "1.0",
     "round(P_GN[7],4)": "3.7619",
     "round(a,4)": "3.2293",
     "round(b,4)": "1.1211",
     "round(c,4)": "2.0879",
     "round(d,4)": "12.1571",
     "round(f,4)": "1.0825"
    }
   },
   "source": [
    "<p style=\"font-family: times; text-align: center; font-style:bold; font-size: 14.5pt\">\n",
    "    ({{P_GN[0]}})$CH_{4}$ + ({{P_GN[1]}})$C_{2}H_{6}$ + ({{P_GN[2]}})$C_{3}H_{8}$ + ({{P_GN[3]}})$C_{4}H_{10}$ + ({{P_GN[4]}})$CO_{2}$ + ({{P_GN[5]}})$N_{2}$ + ({{P_GN[6]}})$O_{2}$ + ({{round(a,4)}})$\\cdot[$({{round(P_GN[7],4)}})$N_{2(Ar)}$ + ({{P_GN[8]}})$O_{2(Ar)}]$   $\\longrightarrow$   ({{round(b,4)}})$CO_{2}$ + ({{round(c,4)}})$H_{2}O$ + ({{round(d,4)}})$N_{2}$ + ({{round(f,4)}})$O_{2}$ \n",
    "</p>"
   ]
  },
  {
   "cell_type": "markdown",
   "metadata": {
    "heading_collapsed": true,
    "id": "Ieh5O6i0QLFA"
   },
   "source": [
    "## **Estados**"
   ]
  },
  {
   "cell_type": "code",
   "execution_count": 7,
   "metadata": {
    "code_folding": [],
    "hidden": true,
    "hide_input": false,
    "id": "CXkMbWWey_uZ"
   },
   "outputs": [],
   "source": [
    "# Estado 1 - Entrada da turbina:\n",
    "\n",
    "m[0] = 27.9 #kg/s\n",
    "P[0] = 6495 #kPa                          ---> 8000kPa (Teste); 6495kPa (Original)\n",
    "T[0] = 485 + 273.15 #K                    --->   600°C (Teste);   485°C (Original)\n",
    "st1 = st(fld, {'P':P[0],'T':T[0]})\n",
    "h[0] = st1.h         #entalpia\n",
    "s[0] = st1.s         #entropia\n",
    "X[0] = st1.Q\n",
    "v[0] = 1/st1.rho"
   ]
  },
  {
   "cell_type": "code",
   "execution_count": 8,
   "metadata": {
    "code_folding": [],
    "hidden": true,
    "hide_input": false,
    "id": "p-REZCpTzF__"
   },
   "outputs": [],
   "source": [
    "# Estado 2 - Primeira extração da turbina:\n",
    "\n",
    "P[1] = 900      #kPa\n",
    "st_isen2 = st(fld,{'P':P[1],'S':s[0]})     #turbina/bomba isentrópica ideal\n",
    "h_isen2 = st_isen2.h\n",
    "η_turb = 0.85       #eficiência da turbina\n",
    "h[1] = h[0] - (h[0] - h_isen2) * η_turb\n",
    "st2 = st(fld,{'P':P[1],'H':h[1]})\n",
    "s[1] = st2.s\n",
    "T[1] = st2.T\n",
    "X[1] = st2.Q\n",
    "v[1] = 1/st2.rho"
   ]
  },
  {
   "cell_type": "code",
   "execution_count": 9,
   "metadata": {
    "code_folding": [],
    "hidden": true,
    "hide_input": false,
    "id": "ddaMWZfozGJr"
   },
   "outputs": [],
   "source": [
    "# Estado 3 - Segunda extração da turbina:\n",
    "\n",
    "P[2] = 250     #kPa\n",
    "st_isen3 = st(fld,{'P':P[2],'S':s[1]})\n",
    "h_isen3 = st_isen3.h\n",
    "h[2] = h[1] - (h[1] - h_isen3) * η_turb\n",
    "st3 = st(fld,{'P':P[2],'H':h[2]})\n",
    "s[2] = st3.s\n",
    "v[2] = 1/st3.rho\n",
    "T[2] = st3.T\n",
    "X[2] = st3.Q"
   ]
  },
  {
   "cell_type": "code",
   "execution_count": 10,
   "metadata": {
    "code_folding": [],
    "hidden": true,
    "hide_input": false,
    "id": "Sz8Ao-OrzGQR"
   },
   "outputs": [],
   "source": [
    "# Estado 4 - Saída final da turbina / entrada do condensador:\n",
    "\n",
    "T[3] = 51 + 273.15 #K                     --->    30°C (Teste);    51°C (Original)\n",
    "st4 = st(fld, {'T': T[3], 'Q': 1})\n",
    "P[3] = st4.p\n",
    "st_isen4 = st(fld,{'P':P[3],'S':s[2]})\n",
    "h_isen4 = st_isen4.h\n",
    "h[3] = h[2] - (h[2] - h_isen4) * η_turb\n",
    "st4 = st(fld,{'P':P[3],'H':h[3]})\n",
    "X[3] = st4.Q      #título\n",
    "s[3] = st4.s\n",
    "v[3] = 1/st4.rho"
   ]
  },
  {
   "cell_type": "code",
   "execution_count": 11,
   "metadata": {
    "code_folding": [],
    "hidden": true,
    "id": "LEJHsowizGV4"
   },
   "outputs": [],
   "source": [
    "# Estado 5 - Saída do condensador / entrada da bomba:\n",
    "\n",
    "X[4] = 0\n",
    "P[4] = P[3]\n",
    "st5 = st(fld, {'P': P[4], 'Q': 0})\n",
    "h[4] = st5.h\n",
    "s[4] = st5.s\n",
    "T[4] = st5.T\n",
    "v[4] = 1/st5.rho"
   ]
  },
  {
   "cell_type": "code",
   "execution_count": 12,
   "metadata": {
    "code_folding": [],
    "hidden": true,
    "id": "L2DhkLiMzGal"
   },
   "outputs": [],
   "source": [
    "# Estado 6 - Entrada do desaerador / saída da bomba:\n",
    "\n",
    "P[5] = P[2]\n",
    "st_isen6 = st(fld, {'P': P[5], 'S': s[4]})\n",
    "h_isen6 = st_isen6.h\n",
    "η_pump = 0.85       #eficiência das bombas\n",
    "h[5] = (h_isen6 - h[4]) / η_pump + h[4]\n",
    "st6 = st(fld, {'P':P[5], 'H': h[5]})\n",
    "s[5] = st6.s\n",
    "T[5] = st6.T\n",
    "X[5] = st6.Q\n",
    "v[5] = 1/st6.rho"
   ]
  },
  {
   "cell_type": "code",
   "execution_count": 13,
   "metadata": {
    "code_folding": [],
    "hidden": true,
    "id": "WFpU6ULXzGed"
   },
   "outputs": [],
   "source": [
    "# Estado 7 - Saída do desaerador:\n",
    "\n",
    "P[6] = P[2]\n",
    "T[6] = 110 + 273.15\n",
    "st7 = st(fld, {'P': P[6], 'T': T[6]})\n",
    "h[6] = st7.h\n",
    "s[6] = st7.s\n",
    "X[6] = st7.Q\n",
    "v[6] = 1/st7.rho"
   ]
  },
  {
   "cell_type": "code",
   "execution_count": 14,
   "metadata": {
    "code_folding": [],
    "hidden": true,
    "id": "wPy5KvGizGiW"
   },
   "outputs": [],
   "source": [
    "# Estado 8 - Entrada da caldeira:\n",
    "\n",
    "P[7] = P[0]\n",
    "st_isen8 = st(fld, {'P': P[7], 'S': s[6]})\n",
    "h_isen8 = st_isen8.h\n",
    "h[7] = (h_isen8 - h[6]) / η_pump + h[6]\n",
    "st8 = st(fld, {'P': P[7], 'H': h[7]})\n",
    "T[7] = st8.T\n",
    "s[7] = st8.s\n",
    "X[7] = st8.Q\n",
    "v[7] = 1/st8.rho"
   ]
  },
  {
   "cell_type": "code",
   "execution_count": 15,
   "metadata": {
    "code_folding": [],
    "hidden": true,
    "id": "KJ1aywD9zGmb"
   },
   "outputs": [],
   "source": [
    "# Estado 9 - Entrada da bomba:\n",
    "\n",
    "st9 = st7\n",
    "h[8] = st9.h\n",
    "s[8] = st9.s\n",
    "P[8] = st9.p\n",
    "T[8] = st9.T\n",
    "X[8] = st9.Q\n",
    "v[8] = 1/st9.rho"
   ]
  },
  {
   "cell_type": "code",
   "execution_count": 16,
   "metadata": {
    "code_folding": [],
    "hidden": true,
    "id": "yuCvmJP9zXpm"
   },
   "outputs": [],
   "source": [
    "# Estado 10 - Saída da bomba / entrada do trocador de calor:\n",
    "\n",
    "P[9] = P[1]\n",
    "st_isen10 = st(fld, {'P': P[9], 'S': s[8]})\n",
    "h_isen10 = st_isen10.h\n",
    "h[9] = (h_isen10 - h[8]) / η_pump + h[8]\n",
    "st10 = st(fld, {'P': P[9], 'H': h[9]})\n",
    "s[9] = st10.s\n",
    "T[9] = st10.T\n",
    "X[9] = st10.Q\n",
    "v[9] = 1/st10.rho"
   ]
  },
  {
   "cell_type": "code",
   "execution_count": 17,
   "metadata": {
    "code_folding": [],
    "hidden": true,
    "id": "2u8OvkBHzXxa"
   },
   "outputs": [],
   "source": [
    "# Estado 11 - Entrada do processo industrial vizinho:\n",
    "\n",
    "X[10] = 1\n",
    "P[10] = P[9]\n",
    "st11 = st(fld, {'P': P[10], 'Q': X[10]})\n",
    "h[10] = st11.h\n",
    "s[10] = st11.s\n",
    "T[10] = st11.T\n",
    "v[10] = 1/st11.rho"
   ]
  },
  {
   "cell_type": "code",
   "execution_count": 18,
   "metadata": {
    "code_folding": [],
    "hidden": true,
    "id": "csat_4x8zX8I"
   },
   "outputs": [],
   "source": [
    "# Estado 12 - Saída do processo industrial vizinho:\n",
    "\n",
    "X[11] = 0\n",
    "P[11] = P[9]\n",
    "st12 = st(fld, {'P':P[11], 'Q': X[11]})\n",
    "h[11] = st12.h\n",
    "s[11] = st12.s\n",
    "T[11] = st12.T\n",
    "v[11] = 1/st12.rho"
   ]
  },
  {
   "cell_type": "markdown",
   "metadata": {
    "id": "xUVh6vQoxkaO"
   },
   "source": [
    "## **Tabela - Estados**"
   ]
  },
  {
   "cell_type": "code",
   "execution_count": 19,
   "metadata": {
    "code_folding": [],
    "colab": {
     "base_uri": "https://localhost:8080/"
    },
    "hide_input": true,
    "id": "Xgtb-Op_bd4T",
    "outputId": "06644954-ff74-4fab-f2b7-04e724b4c17a",
    "scrolled": false
   },
   "outputs": [],
   "source": [
    "# Tabela 1:\n",
    "headers=[\"Estado\", Tnn, Pnn, Xnn, hnn, snn, vnn]\n",
    "\n",
    "for i in range(0, n):\n",
    "    if Temperatura == 'k':\n",
    "        T[i] = round(float(T[i]),2)\n",
    "    else:\n",
    "        T[i] = round(float(T[i]-273.15),2)\n",
    "        P[i] = round(float(P[i]),2)\n",
    "        X[i] = round(float(X[i]),2)\n",
    "        h[i] = round(float(h[i]),2)\n",
    "        s[i] = round(float(s[i]),4)\n",
    "        v[i] = round(float(v[i]),6)\n",
    "        \n",
    "X_arrumado = []\n",
    "\n",
    "for i in range(0, n):\n",
    "    if X[i] == -1:\n",
    "        X_arrumado.append('-')\n",
    "    else:\n",
    "        X_arrumado.append(X[i])\n",
    "\n",
    "df1 = pd.DataFrame()\n",
    "tabela_estados = {Tnn: T, Pnn: P, Xnn: X_arrumado, hnn: h, snn: s, vnn: v}\n",
    "df1 = pd.DataFrame(tabela_estados, index=[\"Estado 1\", \"Estado 2\", \"Estado 3\", \"Estado 4\", \"Estado 5\", \"Estado 6\", \"Estado 7\", \"Estado 8\", \"Estado 9\", \"Estado 10\", \"Estado 11\", \"Estado 12\"])\n",
    "\n",
    "#Voltar temperatura à condição inicial:\n",
    "\n",
    "for i in range(0, n):\n",
    "    if Temperatura == 'k':\n",
    "        T[i] = round(float(T[i]),2)\n",
    "    else:\n",
    "        T[i] = round(float(T[i]+273.15),2)\n",
    "\n",
    "st_antes = [st1, st2, st3, st4, st5, st6, st7, st8, st9, st10, st11, st12]"
   ]
  },
  {
   "cell_type": "markdown",
   "metadata": {
    "hide_input": true,
    "variables": {
     "df1": "<div>\n<style scoped>\n    .dataframe tbody tr th:only-of-type {\n        vertical-align: middle;\n    }\n\n    .dataframe tbody tr th {\n        vertical-align: top;\n    }\n\n    .dataframe thead th {\n        text-align: right;\n    }\n</style>\n<table border=\"1\" class=\"dataframe\">\n  <thead>\n    <tr style=\"text-align: right;\">\n      <th></th>\n      <th>Temperatura [°C]</th>\n      <th>Pressão [kPa]</th>\n      <th>Título</th>\n      <th>Entalpia [kJ/kg]</th>\n      <th>Entropia [kJ/kg*K]</th>\n      <th>Volume específico [m³/kg]</th>\n    </tr>\n  </thead>\n  <tbody>\n    <tr>\n      <th>Estado 1</th>\n      <td>485.00</td>\n      <td>6495.00</td>\n      <td>-</td>\n      <td>3381.20</td>\n      <td>6.7932</td>\n      <td>0.050883</td>\n    </tr>\n    <tr>\n      <th>Estado 2</th>\n      <td>243.27</td>\n      <td>900.00</td>\n      <td>-</td>\n      <td>2932.08</td>\n      <td>6.9522</td>\n      <td>0.255802</td>\n    </tr>\n    <tr>\n      <th>Estado 3</th>\n      <td>127.41</td>\n      <td>250.00</td>\n      <td>1</td>\n      <td>2714.68</td>\n      <td>7.0479</td>\n      <td>0.718065</td>\n    </tr>\n    <tr>\n      <th>Estado 4</th>\n      <td>51.00</td>\n      <td>12.98</td>\n      <td>0.89</td>\n      <td>2333.12</td>\n      <td>7.2557</td>\n      <td>10.226633</td>\n    </tr>\n    <tr>\n      <th>Estado 5</th>\n      <td>51.00</td>\n      <td>12.98</td>\n      <td>0</td>\n      <td>213.52</td>\n      <td>0.7167</td>\n      <td>0.001013</td>\n    </tr>\n    <tr>\n      <th>Estado 6</th>\n      <td>51.02</td>\n      <td>250.00</td>\n      <td>-</td>\n      <td>213.81</td>\n      <td>0.7169</td>\n      <td>0.001013</td>\n    </tr>\n    <tr>\n      <th>Estado 7</th>\n      <td>110.00</td>\n      <td>250.00</td>\n      <td>-</td>\n      <td>461.49</td>\n      <td>1.4187</td>\n      <td>0.001052</td>\n    </tr>\n    <tr>\n      <th>Estado 8</th>\n      <td>110.75</td>\n      <td>6495.00</td>\n      <td>-</td>\n      <td>469.21</td>\n      <td>1.4218</td>\n      <td>0.001049</td>\n    </tr>\n    <tr>\n      <th>Estado 9</th>\n      <td>110.00</td>\n      <td>250.00</td>\n      <td>-</td>\n      <td>461.49</td>\n      <td>1.4187</td>\n      <td>0.001052</td>\n    </tr>\n    <tr>\n      <th>Estado 10</th>\n      <td>110.08</td>\n      <td>900.00</td>\n      <td>-</td>\n      <td>462.30</td>\n      <td>1.4191</td>\n      <td>0.001051</td>\n    </tr>\n    <tr>\n      <th>Estado 11</th>\n      <td>175.35</td>\n      <td>900.00</td>\n      <td>1</td>\n      <td>2773.03</td>\n      <td>6.6213</td>\n      <td>0.214887</td>\n    </tr>\n    <tr>\n      <th>Estado 12</th>\n      <td>175.35</td>\n      <td>900.00</td>\n      <td>0</td>\n      <td>742.56</td>\n      <td>2.0940</td>\n      <td>0.001121</td>\n    </tr>\n  </tbody>\n</table>\n</div>"
    }
   },
   "source": [
    "{{df1}}"
   ]
  },
  {
   "cell_type": "markdown",
   "metadata": {
    "id": "-_WTU23Cql2h"
   },
   "source": [
    "## **Cálculos**"
   ]
  },
  {
   "cell_type": "code",
   "execution_count": 20,
   "metadata": {
    "code_folding": [],
    "hide_input": true,
    "id": "1Vr5HLlnk8K8"
   },
   "outputs": [],
   "source": [
    "# Cálculos:\n",
    "m1 = m[0]\n",
    "h1 = h[0]\n",
    "h2 = h[1]\n",
    "h3 = h[2]\n",
    "h4 = h[3]\n",
    "h5 = h[4]\n",
    "h6 = h[5]\n",
    "h7 = h[6]\n",
    "h8 = h[7]\n",
    "h9 = h[8]\n",
    "h10 = h[9]\n",
    "h11 = h[10]\n",
    "h12 = h[11]\n",
    " \n",
    "# Quantidade de iterações:\n",
    "quant = 10\n",
    " \n",
    "variacao = np.zeros(quant + 1, dtype = float)\n",
    "resultados = np.zeros((n+1)*(quant + 1), dtype = float).reshape((n+1, quant + 1))\n",
    " \n",
    "T_hout_cond = []\n",
    "η_sys = []\n",
    "W_liq =[]\n",
    "\n",
    "STT_T = []\n",
    "STT_P = []\n",
    "STT_X = []\n",
    "STT_h = []\n",
    "STT_s = []\n",
    "STT_v = []\n",
    "Ti = np.linspace(0,0,n)\n",
    "Xi = list(range(0,n))\n",
    "\n",
    "# Vazões mássicas:\n",
    "for i in range(quant + 1):\n",
    "    processo = i/10\n",
    "    \n",
    "    m2, m3, m4, m5, m6, m7, m8, m9, m10, m11, m12 = var('m2, m3, m4, m5, m6, m7, m8, m9, m10, m11, m12')\n",
    "    EqMassa = [m8-m1, m4-m5, m5-m6, m9-m10, m11-m12, m2+m10-m11, m2+m3+m4-m1, m12+m3+m6-m7, m2*h2+m10*h10-m11*h11, m12*h12+m3*h3+m6*h6-m7*h7, m12-6.94*processo]\n",
    "    massa = linsolve(EqMassa, m2, m3, m4, m5, m6, m7, m8, m9, m10, m11, m12)\n",
    "    (m2, m3, m4, m5, m6, m7, m8, m9, m10, m11, m12) =  next(iter(massa))\n",
    "\n",
    "    massa = np.array(list(massa))\n",
    " \n",
    "    for j in range(quant + 1):\n",
    "        massa[0,j] = round(float(massa[0,j]),2)\n",
    " \n",
    "    variacao[i] = i*10\n",
    "    resultados[0, i] = variacao[i]\n",
    "    resultados[1, i] = m[0]\n",
    "    resultados[2:(n+1), i] = massa\n",
    "\n",
    "    # Saídas de energia:\n",
    "    W_p1 = -m5*(h5 - h6) #(Perde energia \"-\")\n",
    "    W_p2 = -m8*(h7 - h8) #(Perde energia \"-\")\n",
    "    W_p3 = -m9*(h9 - h10) #(Perde energia \"-\")\n",
    "    W_pump = W_p1 + W_p2 + W_p3 #(Somatório dos trabalhos da bombas)\n",
    "\n",
    "    # Eficiência da caldeira:\n",
    "    η_cald = 0.85\n",
    "    #PCI = 10000 # kJ/kg\n",
    "\n",
    "    # Encontra o trabalho gerado pela turbina e a vazão de combustível para a demanda:\n",
    "    W_t = m1*h1 - m2*h2 - m3*h3 - m4*h4\n",
    "    m_fuel = m1*(h1-h8)/(PCI*η_cald) #η_cald = m1*(h1-h8)/(m_fuel*PCI)\n",
    "\n",
    "    # Entrada de energia:\n",
    "    Q_in = m_fuel * PCI #(Ganha energia \"+\")\n",
    "\n",
    "    η_sys.append(round((W_t - W_pump)/Q_in, 4))\n",
    "\n",
    "    W_liq.append(round(η_sys[i]*Q_in,2))\n",
    "\n",
    "    # Condensador:\n",
    "    T_cout = 39.5 \n",
    "    T_cin = 29\n",
    "    T_hin = T[3] - 273.15\n",
    "\n",
    "    ϵ = (T_cout - T_cin)/(T_hin - T_cin)\n",
    "    NUT = -ln(1 - ϵ)\n",
    "\n",
    "    CT_in = st(fld, {'P': 101.325, 'T': T_cin + 273.15})\n",
    "    CT_out = st(fld, {'P': 101.325, 'T': T_cout + 273.15})\n",
    "\n",
    "    C_min = 4500/3600*(CT_in.rho + CT_out.rho)/2*(CT_in.cp + CT_out.cp)/2\n",
    "\n",
    "    UA = NUT * C_min # Coeficiente global de tranferência de calor * Área\n",
    "\n",
    "    # Sistema não-linear:\n",
    "    ΔT_0, ΔT_L, T_hout, ΔT_ml, Q_out = var('ΔT_0, ΔT_L, T_hout, ΔT_ml, Q_out')\n",
    "    EqCond = [ΔT_0-(T_hout-T_cin), ΔT_L-(T_hout-T_cout), ΔT_ml-(ΔT_0-ΔT_L)/ln(ΔT_0/ΔT_L), Q_out-UA*ΔT_ml, Q_out-m4*(h4-h5)]\n",
    "    EqCond_solve = nonlinsolve(EqCond, ΔT_0, ΔT_L, T_hout, ΔT_ml, Q_out) \n",
    "    (ΔT_0, ΔT_L, T_hout, ΔT_ml, Q_out) = next(iter(EqCond_solve))\n",
    "\n",
    "    # Redefinindo estados:\n",
    "    T[3] = T_hout + 273.15 #K\n",
    "    #P[3] = psi('P','T',T[3],'Q', 1, fld)/1000  #divide por 1000 pra sair em kPa\n",
    "    st4 = st(fld, {'T': T[3], 'Q': 1})\n",
    "    P[3] = st4.p\n",
    "    st_isen4 = st(fld,{'P':P[3],'S':s[2]})\n",
    "    h_isen4 = st_isen4.h\n",
    "    h[3] = h[2] - (h[2] - h_isen4) * η_turb\n",
    "    st4 = st(fld,{'P':P[3],'H':h[3]})\n",
    "    X[3] = st4.Q      #título\n",
    "    s[3]=st4.s\n",
    "    v[3] = 1/st4.rho\n",
    "\n",
    "    X[4] = 0\n",
    "    P[4] = P[3]\n",
    "    st5 = st(fld, {'P': P[4], 'Q': X[4]})\n",
    "    h[4] = st5.h\n",
    "    s[4] = st5.s\n",
    "    T[4] = st5.T\n",
    "    v[4] = 1/st5.rho\n",
    "\n",
    "    P[5] = P[2]\n",
    "    st_isen6 = st(fld, {'P': P[5], 'S': s[4]})\n",
    "    h_isen6 = st_isen6.h\n",
    "    η_pump = 0.85       #eficiência das bombas\n",
    "    h[5] = (h_isen6 - h[4]) / η_pump + h[4]\n",
    "    st6 = st(fld, {'P':P[5], 'H': h[5]})\n",
    "    s[5] = st6.s\n",
    "    T[5] = st6.T\n",
    "    X[5] = st6.Q\n",
    "    v[5] = 1/st6.rho\n",
    "\n",
    "    P[6] = P[2]\n",
    "    T[6] = 110 + 273.15\n",
    "    st7 = st(fld, {'P': P[6], 'T': T[6]})\n",
    "    h[6] = st7.h\n",
    "    s[6] = st7.s\n",
    "    X[6] = st7.Q\n",
    "    v[6] = 1/st7.rho\n",
    "\n",
    "    P[7] = P[0]\n",
    "    st_isen8 = st(fld, {'P': P[7], 'S': s[6]})\n",
    "    h_isen8 = st_isen8.h\n",
    "    h[7] = (h_isen8 - h[6]) / η_pump + h[6]\n",
    "    st8 = st(fld, {'P': P[7], 'H': h[7]})\n",
    "    T[7] = st8.T\n",
    "    s[7] = st8.s\n",
    "    X[7] = st8.Q\n",
    "    v[7] = 1/st8.rho\n",
    "\n",
    "    st9 = st7\n",
    "    h[8] = st9.h\n",
    "    s[8] = st9.s\n",
    "    P[8] = st9.p\n",
    "    T[8] = st9.T\n",
    "    X[8] = st9.Q\n",
    "    v[8] = 1/st9.rho\n",
    "\n",
    "    P[9] = P[1]\n",
    "    st_isen10 = st(fld, {'P': P[9], 'S': s[8]})\n",
    "    h_isen10 = st_isen10.h\n",
    "    h[9] = (h_isen10 - h[8]) / η_pump + h[8]\n",
    "    st10 = st(fld, {'P': P[9], 'H': h[9]})\n",
    "    s[9] = st10.s\n",
    "    T[9] = st10.T\n",
    "    X[9] = st10.Q\n",
    "    v[9] = 1/st10.rho\n",
    "\n",
    "    X[10] = 1\n",
    "    P[10] = P[9]\n",
    "    st11 = st(fld, {'P': P[10], 'Q': X[10]})\n",
    "    h[10] = st11.h\n",
    "    s[10] = st11.s\n",
    "    T[10] = st11.T\n",
    "    v[10] = 1/st11.rho\n",
    "\n",
    "    X[11] = 0\n",
    "    P[11] = P[9]\n",
    "    st12 = st(fld, {'P':P[11], 'Q': X[11]})\n",
    "    h[11] = st12.h\n",
    "    s[11] = st12.s\n",
    "    T[11] = st12.T\n",
    "    v[11] = 1/st12.rho\n",
    "  \n",
    "    for i in range(0,n):\n",
    "        if Temperatura == 'k':\n",
    "            Ti[i] = round(T[i],2)\n",
    "        else:\n",
    "            Ti[i] = round(T[i]-273.15,2)\n",
    "            P[i] = round(P[i],2)\n",
    "            X[i] = round(X[i],2)\n",
    "            h[i] = round(h[i],2)\n",
    "            s[i] = round(s[i],4)\n",
    "            v[i] = round(v[i],6)\n",
    "        if X[i] == -1:\n",
    "            Xi[i] = '-'\n",
    "        else:\n",
    "            Xi[i] = X[i]\n",
    "\n",
    "    STT_T.append([Tnn,processo*100,Ti[0],Ti[1],Ti[2],Ti[3],Ti[4],Ti[5],Ti[6],Ti[7],Ti[8],Ti[9],Ti[10],Ti[11]])\n",
    "    STT_P.append([Pnn,processo*100,P[0],P[1],P[2],P[3],P[4],P[5],P[6],P[7],P[8],P[9],P[10],P[11]])\n",
    "    STT_X.append([Xnn,processo*100,Xi[0],Xi[1],Xi[2],Xi[3],Xi[4],Xi[5],Xi[6],Xi[7],Xi[8],Xi[9],Xi[10],Xi[11]])\n",
    "    STT_h.append([hnn,processo*100,h[0],h[1],h[2],h[3],h[4],h[5],h[6],h[7],h[8],h[9],h[10],h[11]])\n",
    "    STT_s.append([snn,processo*100,s[0],s[1],s[2],s[3],s[4],s[5],s[6],s[7],s[8],s[9],s[10],s[11]])\n",
    "    STT_v.append([vnn,processo*100,v[0],v[1],v[2],v[3],v[4],v[5],v[6],v[7],v[8],v[9],v[10],v[11]])\n",
    "\n",
    "    T_hout = round(T_hout, 2)    \n",
    "    T_hout_cond.append(T_hout)\n",
    "    \n",
    "'''# Adiciona linhas vazias entre as propriedades na tabela:\n",
    "STT_T.append([\"\",\"\",\"\",\"\",\"\",\"\",\"\",\"\",\"\",\"\",\"\",\"\",\"\",\"\"])\n",
    "STT_P.append([\"\",\"\",\"\",\"\",\"\",\"\",\"\",\"\",\"\",\"\",\"\",\"\",\"\",\"\"])\n",
    "STT_X.append([\"\",\"\",\"\",\"\",\"\",\"\",\"\",\"\",\"\",\"\",\"\",\"\",\"\",\"\"])\n",
    "STT_h.append([\"\",\"\",\"\",\"\",\"\",\"\",\"\",\"\",\"\",\"\",\"\",\"\",\"\",\"\"])\n",
    "STT_s.append([\"\",\"\",\"\",\"\",\"\",\"\",\"\",\"\",\"\",\"\",\"\",\"\",\"\",\"\"])\n",
    "STT_v.append([\"\",\"\",\"\",\"\",\"\",\"\",\"\",\"\",\"\",\"\",\"\",\"\",\"\",\"\"])\n",
    "'''\n",
    "# Incluir na tabela e gráfico:  \n",
    "np.reshape(variacao, (1,n-1))\n",
    "np.reshape(η_sys, (1,n-1))\n",
    "np.reshape(T_hout_cond, (1,n-1))\n",
    "np.reshape(W_liq, (1,n-1))\n",
    "\n",
    "for i in range(0, n):\n",
    "    T[i] = round(T[i],2)\n",
    "    P[i] = round(P[i],2)\n",
    "    X[i] = round(X[i],2)\n",
    "    h[i] = round(h[i],2)\n",
    "    s[i] = round(s[i],2)\n",
    "    v[i] = round(v[i],2)\n",
    "\n",
    "x = []\n",
    "y = []\n",
    "z = []\n",
    "w = []\n",
    "\n",
    "for i in range(0, quant+1):\n",
    "    x.append(variacao[i])\n",
    "    y.append(T_hout_cond[i])\n",
    "    z.append(η_sys[i])\n",
    "    w.append(W_liq[i])\n",
    "\n",
    "table2 = resultados.T\n",
    " \n",
    "resultados2 = np.zeros((n+4)*(quant + 1), dtype = float).reshape((n+4, quant + 1))\n",
    " \n",
    "for i in range(0, quant+1):\n",
    "    variacao[i] = i*10\n",
    "    resultados2[0, i] = resultados[0, i]\n",
    "    resultados2[1, i] = resultados[1, i]\n",
    "    resultados2[2:(n+1), i] = resultados[2:(n+1), i]\n",
    "    resultados2[n+2,i] = round(float(w[i]),2)\n",
    "    resultados2[n+3,i] = round(float(z[i]),4)\n",
    "table2 = resultados2.T\n",
    "\n",
    "st_depois = [st1, st2, st3, st4, st5, st6, st7, st8, st9, st10, st11, st12]"
   ]
  },
  {
   "cell_type": "markdown",
   "metadata": {
    "hide_input": false
   },
   "source": [
    "## **Temperaturas da fornalha**\n",
    "\n",
    "<img src=\"https://cdn.discordapp.com/attachments/748012097589215325/837145099887575041/unknown.png\" \n",
    "     width=\"600\" />"
   ]
  },
  {
   "cell_type": "code",
   "execution_count": 21,
   "metadata": {
    "cell_style": "center",
    "colab": {
     "base_uri": "https://localhost:8080/",
     "height": 367,
     "referenced_widgets": [
      "76bdd7db2ee042ce9850524d5296aca7",
      "e0309f417efe4c61b60f93f8098bad74",
      "e68021ba1d2d4a5d920c75f47bd3b239",
      "4c8d606711904032b0eb58a92e5c7b76",
      "ddb8d4ea3f0d491e8174c0f3374036dd",
      "6588046973684308a95e73e2fdc3a7f5",
      "e14ca00fb6b446aaa0b870e9ff92c6d2",
      "49649ad29c7a46d5a10d964be1acea47",
      "f961d464f0674884b62885763548c744",
      "ccabfe97edb7431690a5f2014422f416"
     ]
    },
    "hide_input": true,
    "id": "sxNjZMB1QLFc",
    "outputId": "8e3cff8b-3c37-40d6-e8d7-e0b920748001",
    "scrolled": true
   },
   "outputs": [
    {
     "data": {
      "application/vnd.jupyter.widget-view+json": {
       "model_id": "3ad9a9a9a7944fbbbdde7169bc3afb7e",
       "version_major": 2,
       "version_minor": 0
      },
      "text/plain": [
       "interactive(children=(IntSlider(value=30, description='ΔT13', min=30, step=10), IntSlider(value=0, description…"
      ]
     },
     "metadata": {},
     "output_type": "display_data"
    },
    {
     "data": {
      "text/plain": [
       "<function __main__.myfunction(ΔT13, ΔT17)>"
      ]
     },
     "execution_count": 21,
     "metadata": {},
     "output_type": "execute_result"
    }
   ],
   "source": [
    "# Balanço de energia da caldeira:\n",
    "\n",
    "m_air = AF*m_fuel\n",
    "m_gas = m_air + m_fuel\n",
    "m13 = m8\n",
    "m14 = m_fuel\n",
    "m15 = 0.1*m_air\n",
    "m16 = 0.9*m_air\n",
    "m17 = m16\n",
    "m18 = m_gas\n",
    "m19 = m18\n",
    "m20 = m19\n",
    "\n",
    "fld2 = 'Air'\n",
    "\n",
    "T_amb = 20 + 273.15 #K\n",
    "P_amb = 101.325 #kPa\n",
    "\n",
    "T15 = T_amb \n",
    "T16 = T_amb\n",
    "T8 = T[7]\n",
    "T20 = 200 + 273.15 #K\n",
    "P20 = P_amb\n",
    "P8 = P[7]\n",
    "\n",
    "def myfunction(ΔT13, ΔT17):\n",
    "\n",
    "    from CoolProp.CoolProp import State as st\n",
    "\n",
    "    T20 = 200 + 273.15 #K\n",
    "\n",
    "    #Economizador:\n",
    "    st13 = st(fld, {'P': P8, 'Q': 0})\n",
    "\n",
    "    T13 = st13.T - ΔT13   #chute\n",
    "\n",
    "    st13_2 = st(fld, {'P': P8, 'T': T13})\n",
    "    h13 = st13_2.h\n",
    "\n",
    "    q13 = m13*(h13-h8)\n",
    "\n",
    "    st20_1 = st('Water', {'P':P_amb, 'T':T20})\n",
    "    st20_2 = st('CO2', {'P':P_amb, 'T':T20})\n",
    "    st20_3 = st('Nitrogen', {'P':P_amb, 'T':T20})\n",
    "\n",
    "    cp_20 = 0.0997*st20_1.cp+0.1771*st20_2.cp+0.7232*st20_3.cp\n",
    "\n",
    "    #cachorrada\n",
    "    cp_19 = cp_20\n",
    "    cp_18 = cp_20\n",
    "\n",
    "    T17 = T16 + 200 + ΔT17  #chute\n",
    "\n",
    "    st16 = st(fld2, {'P':P_amb, 'T':T_amb})\n",
    "    st17 = st(fld2, {'P':P_amb, 'T':T17})\n",
    "    h16 = st16.h\n",
    "    h17 = st17.h\n",
    "\n",
    "    st17_1 = st('Water', {'P':P_amb, 'T':T17})\n",
    "    st17_2 = st('CO2', {'P':P_amb, 'T':T17})\n",
    "    st17_3 = st('Nitrogen', {'P':P_amb, 'T':T17})\n",
    "\n",
    "    cp_17 = 0.0997*st20_1.cp+0.1771*st20_2.cp+0.7232*st20_3.cp\n",
    "\n",
    "    T18, T19, T20  = var('T18, T19, T20')\n",
    "    EqTemp = [m19*cp_19*(T19-T_amb) + m8*h8 - h13*m13 - m20*cp_20*(T20-T_amb), m18*cp_18*(T18-T_amb) - m17*cp_17*(T17-T_amb) - m19*cp_19*(T19-T_amb), m_fuel*PCI + m17*cp_17*(T17-T_amb)  + h13*m13 - m1*h1 - m18*cp_18*(T18-T_amb)]\n",
    "    temp = linsolve(EqTemp, T18, T19, T20)\n",
    "    (T18, T19, T20) =  next(iter(temp))\n",
    "\n",
    "    Q_disp = m_fuel*PCI + m17*cp_17*(T17-T_amb)\n",
    "    Q_util = Q_disp - (m_gas*cp_18*(T18-T_amb))\n",
    "    η_forn = round(Q_util/Q_disp,4)\n",
    "\n",
    "    df = pd.DataFrame()\n",
    "    Valores = [T13,T17,T18,T19,T20,η_forn*100]\n",
    "    for i in range(0,5):\n",
    "        Valores[i] = round((Valores[i]-273.15),2)\n",
    "\n",
    "    data = {'Valores':Valores}\n",
    "    df = pd.DataFrame(data, index=['T13 [°C]','T17 [°C]','T18 [°C]','T19 [°C]','T20 [°C]','η fornalha [%]'])\n",
    "    df.style.hide_index()\n",
    "    return df\n",
    "\n",
    "slider_ΔT13 = wd.IntSlider(min=30, max=100, step=10)\n",
    "slider_ΔT17 = wd.IntSlider(min=-100, max=100, step=10)\n",
    "wd.interact(myfunction, ΔT13=slider_ΔT13, ΔT17=slider_ΔT17)"
   ]
  },
  {
   "cell_type": "markdown",
   "metadata": {
    "hide_input": true,
    "id": "fqN5c36LQZUQ"
   },
   "source": [
    "## **Tabela - Vazões mássicas**"
   ]
  },
  {
   "cell_type": "code",
   "execution_count": 22,
   "metadata": {
    "code_folding": [],
    "colab": {
     "base_uri": "https://localhost:8080/",
     "height": 951
    },
    "hide_input": true,
    "id": "mM-cqG1tGRBR",
    "outputId": "247852da-4796-41e6-b5ad-4a577ebcd3af",
    "scrolled": false
   },
   "outputs": [
    {
     "name": "stdout",
     "output_type": "stream",
     "text": [
      "A vazão mássica de combustível é de 1.74 kg/s\n",
      "A vazão mássica de ar é de 42.15 kg/s\n"
     ]
    }
   ],
   "source": [
    "# Tabela 2:\n",
    "\n",
    "percentagem = []\n",
    "\n",
    "for i in range(0, quant+1):\n",
    "    percentagem.append(str(int(resultados2[0,i])) + '%')\n",
    "    if Temperatura == 'k':\n",
    "        resultados2[n+1,i] = round(float(y[i]+273.15),2) #converter para K\n",
    "        y[i] = resultados2[n+1,i]\n",
    "    else:\n",
    "        resultados2[n+1,i] = round(float(y[i]),2)\n",
    "\n",
    "df2 = pd.DataFrame()\n",
    "tabela_ṁ = {\"ṁ1 [kg/s]\": resultados2[1,:], \"ṁ2 [kg/s]\": resultados2[2,:], \"ṁ3 [kg/s]\": resultados2[3,:], \"ṁ4 [kg/s]\": resultados2[4,:], \"ṁ5 [kg/s]\": resultados2[5,:], \"ṁ6 [kg/s]\": resultados2[6,:], \"ṁ7 [kg/s]\": resultados2[7,:], \"ṁ8 [kg/s]\": resultados2[8,:], \"ṁ9 [kg/s]\": resultados2[9,:], \"ṁ10 [kg/s]\": resultados2[10,:], \"ṁ11 [kg/s]\": resultados2[11,:], \"ṁ12 [kg/s]\": resultados2[12,:], \"T_hout [°C]\": resultados2[13,:], \"W_liq [kJ/s]\": resultados2[14,:], \"η_sistema\": resultados2[15,:]}\n",
    "df2 = pd.DataFrame(tabela_ṁ, index=percentagem)\n",
    "\n",
    "print('A vazão mássica de combustível é de %.2f kg/s' %m_fuel)\n",
    "print('A vazão mássica de ar é de %.2f kg/s' %m_air)"
   ]
  },
  {
   "cell_type": "markdown",
   "metadata": {
    "hide_input": false,
    "variables": {
     "df2": "<div>\n<style scoped>\n    .dataframe tbody tr th:only-of-type {\n        vertical-align: middle;\n    }\n\n    .dataframe tbody tr th {\n        vertical-align: top;\n    }\n\n    .dataframe thead th {\n        text-align: right;\n    }\n</style>\n<table border=\"1\" class=\"dataframe\">\n  <thead>\n    <tr style=\"text-align: right;\">\n      <th></th>\n      <th>ṁ1 [kg/s]</th>\n      <th>ṁ2 [kg/s]</th>\n      <th>ṁ3 [kg/s]</th>\n      <th>ṁ4 [kg/s]</th>\n      <th>ṁ5 [kg/s]</th>\n      <th>ṁ6 [kg/s]</th>\n      <th>ṁ7 [kg/s]</th>\n      <th>ṁ8 [kg/s]</th>\n      <th>ṁ9 [kg/s]</th>\n      <th>ṁ10 [kg/s]</th>\n      <th>ṁ11 [kg/s]</th>\n      <th>ṁ12 [kg/s]</th>\n      <th>T_hout [°C]</th>\n      <th>W_liq [kJ/s]</th>\n      <th>η_sistema</th>\n    </tr>\n  </thead>\n  <tbody>\n    <tr>\n      <th>0%</th>\n      <td>27.9</td>\n      <td>0.00</td>\n      <td>2.76</td>\n      <td>25.14</td>\n      <td>25.14</td>\n      <td>25.14</td>\n      <td>27.90</td>\n      <td>27.9</td>\n      <td>0.00</td>\n      <td>0.00</td>\n      <td>0.00</td>\n      <td>0.00</td>\n      <td>50.64</td>\n      <td>27967.11</td>\n      <td>0.2926</td>\n    </tr>\n    <tr>\n      <th>10%</th>\n      <td>27.9</td>\n      <td>0.65</td>\n      <td>2.62</td>\n      <td>24.63</td>\n      <td>24.63</td>\n      <td>24.63</td>\n      <td>27.94</td>\n      <td>27.9</td>\n      <td>0.04</td>\n      <td>0.04</td>\n      <td>0.69</td>\n      <td>0.69</td>\n      <td>49.99</td>\n      <td>27632.76</td>\n      <td>0.2891</td>\n    </tr>\n    <tr>\n      <th>20%</th>\n      <td>27.9</td>\n      <td>1.30</td>\n      <td>2.48</td>\n      <td>24.12</td>\n      <td>24.12</td>\n      <td>24.12</td>\n      <td>27.99</td>\n      <td>27.9</td>\n      <td>0.09</td>\n      <td>0.09</td>\n      <td>1.39</td>\n      <td>1.39</td>\n      <td>49.08</td>\n      <td>27298.04</td>\n      <td>0.2856</td>\n    </tr>\n    <tr>\n      <th>30%</th>\n      <td>27.9</td>\n      <td>1.95</td>\n      <td>2.34</td>\n      <td>23.62</td>\n      <td>23.62</td>\n      <td>23.62</td>\n      <td>28.03</td>\n      <td>27.9</td>\n      <td>0.13</td>\n      <td>0.13</td>\n      <td>2.08</td>\n      <td>2.08</td>\n      <td>47.97</td>\n      <td>26963.69</td>\n      <td>0.2821</td>\n    </tr>\n    <tr>\n      <th>40%</th>\n      <td>27.9</td>\n      <td>2.60</td>\n      <td>2.19</td>\n      <td>23.11</td>\n      <td>23.11</td>\n      <td>23.11</td>\n      <td>28.08</td>\n      <td>27.9</td>\n      <td>0.18</td>\n      <td>0.18</td>\n      <td>2.78</td>\n      <td>2.78</td>\n      <td>46.72</td>\n      <td>26628.97</td>\n      <td>0.2786</td>\n    </tr>\n    <tr>\n      <th>50%</th>\n      <td>27.9</td>\n      <td>3.25</td>\n      <td>2.05</td>\n      <td>22.60</td>\n      <td>22.60</td>\n      <td>22.60</td>\n      <td>28.12</td>\n      <td>27.9</td>\n      <td>0.22</td>\n      <td>0.22</td>\n      <td>3.47</td>\n      <td>3.47</td>\n      <td>45.40</td>\n      <td>26294.62</td>\n      <td>0.2751</td>\n    </tr>\n    <tr>\n      <th>60%</th>\n      <td>27.9</td>\n      <td>3.90</td>\n      <td>1.91</td>\n      <td>22.09</td>\n      <td>22.09</td>\n      <td>22.09</td>\n      <td>28.17</td>\n      <td>27.9</td>\n      <td>0.27</td>\n      <td>0.27</td>\n      <td>4.16</td>\n      <td>4.16</td>\n      <td>44.09</td>\n      <td>25959.90</td>\n      <td>0.2716</td>\n    </tr>\n    <tr>\n      <th>70%</th>\n      <td>27.9</td>\n      <td>4.55</td>\n      <td>1.77</td>\n      <td>21.59</td>\n      <td>21.59</td>\n      <td>21.59</td>\n      <td>28.21</td>\n      <td>27.9</td>\n      <td>0.31</td>\n      <td>0.31</td>\n      <td>4.86</td>\n      <td>4.86</td>\n      <td>42.85</td>\n      <td>25625.55</td>\n      <td>0.2681</td>\n    </tr>\n    <tr>\n      <th>80%</th>\n      <td>27.9</td>\n      <td>5.19</td>\n      <td>1.62</td>\n      <td>21.08</td>\n      <td>21.08</td>\n      <td>21.08</td>\n      <td>28.26</td>\n      <td>27.9</td>\n      <td>0.36</td>\n      <td>0.36</td>\n      <td>5.55</td>\n      <td>5.55</td>\n      <td>41.76</td>\n      <td>25290.83</td>\n      <td>0.2646</td>\n    </tr>\n    <tr>\n      <th>90%</th>\n      <td>27.9</td>\n      <td>5.84</td>\n      <td>1.48</td>\n      <td>20.57</td>\n      <td>20.57</td>\n      <td>20.57</td>\n      <td>28.30</td>\n      <td>27.9</td>\n      <td>0.40</td>\n      <td>0.40</td>\n      <td>6.25</td>\n      <td>6.25</td>\n      <td>40.86</td>\n      <td>24956.48</td>\n      <td>0.2611</td>\n    </tr>\n    <tr>\n      <th>100%</th>\n      <td>27.9</td>\n      <td>6.49</td>\n      <td>1.34</td>\n      <td>20.07</td>\n      <td>20.07</td>\n      <td>20.07</td>\n      <td>28.35</td>\n      <td>27.9</td>\n      <td>0.45</td>\n      <td>0.45</td>\n      <td>6.94</td>\n      <td>6.94</td>\n      <td>40.20</td>\n      <td>24621.76</td>\n      <td>0.2576</td>\n    </tr>\n  </tbody>\n</table>\n</div>"
    }
   },
   "source": [
    "{{df2}}"
   ]
  },
  {
   "cell_type": "code",
   "execution_count": 23,
   "metadata": {
    "hide_input": true
   },
   "outputs": [
    {
     "data": {
      "text/plain": [
       "<Figure size 1248x468 with 0 Axes>"
      ]
     },
     "metadata": {},
     "output_type": "display_data"
    },
    {
     "data": {
      "image/png": "[encoded data removed]",
      "text/plain": [
       "<Figure size 1248x468 with 2 Axes>"
      ]
     },
     "metadata": {
      "needs_background": "light"
     },
     "output_type": "display_data"
    }
   ],
   "source": [
    "# Gráficos:\n",
    "\n",
    "escala1 = 0.975\n",
    "plt.figure(dpi=100, figsize=[escala1*2*6.4, escala1*4.8])\n",
    "fig1 = plt.figure(dpi=100, figsize=[escala1*2*6.4, escala1*4.8])\n",
    "plt.subplot(1,2,1)\n",
    "plt.xlabel('Processo [%]', fontsize=12)\n",
    "\n",
    "if Temperatura == 'k':\n",
    "    plt.ylabel('Temperatura de saída do condensador [K]', fontsize=12)\n",
    "    plt.plot(x, y, color='r', marker = 'o', linestyle = 'solid')\n",
    "else:\n",
    "    plt.ylabel('Temperatura de saída do condensador [°C]', fontsize=12)\n",
    "    plt.plot(x, y, color='r', marker = 'o', linestyle = 'solid')\n",
    "    \n",
    "plt.grid()\n",
    "plt.subplot(1,2,2)\n",
    "plt.xlabel('Processo [%]', fontsize=12)\n",
    "plt.ylabel('$η_{sistema}$', fontsize=12)\n",
    "plt.plot(x, z, color='b', marker = 'o', linestyle = 'solid')\n",
    "plt.grid()\n",
    "plt.show()"
   ]
  },
  {
   "cell_type": "markdown",
   "metadata": {
    "hide_input": false,
    "id": "Sco6dUf5CmA9"
   },
   "source": [
    "## **Gráfico completo Ciclo Rankine**"
   ]
  },
  {
   "cell_type": "code",
   "execution_count": 24,
   "metadata": {
    "code_folding": [],
    "colab": {
     "base_uri": "https://localhost:8080/",
     "height": 811
    },
    "hide_input": true,
    "id": "QaM4WC2IVu7z",
    "outputId": "e6db259b-f048-44e2-9d2e-6e40c6276ad9",
    "scrolled": false
   },
   "outputs": [
    {
     "data": {
      "text/plain": [
       "<Figure size 960x720 with 0 Axes>"
      ]
     },
     "metadata": {},
     "output_type": "display_data"
    },
    {
     "data": {
      "image/png": "[encoded data removed]",
      "text/plain": [
       "<Figure size 960x720 with 2 Axes>"
      ]
     },
     "metadata": {
      "needs_background": "light"
     },
     "output_type": "display_data"
    }
   ],
   "source": [
    "# Gráfico do Ciclo Rankine:\n",
    "escala2 = 1\n",
    "plt.figure(dpi=150, figsize=[escala2*6.4, escala2*4.8])\n",
    "fig2 = plt.figure(dpi=150, figsize=[escala2*6.4, escala2*4.8])\n",
    "y1 = 273.15\n",
    "y2 = 850\n",
    "x1 = -0.5\n",
    "x2 = 10\n",
    "plt.ylim(y1,y2)\n",
    "plt.xlim(x1,x2)\n",
    "plt.title('Ciclo Rankine',fontsize=20)\n",
    "plt.xlabel('Entropia, s[kJ/kg$\\cdot$K]')\n",
    "plt.ylabel('Temperatura, T[K]')\n",
    "\n",
    "Tmin = ps('Tmin',fld )\n",
    "Tcrit = ps('Tcrit',fld)\n",
    "Pcrit = ps('Pcrit', fld)\n",
    "\n",
    "Larg_isolines = .25\n",
    "Larg_cycle = 1.5\n",
    "Larg_scatters = 15\n",
    "\n",
    "#Linhas de entalpia:\n",
    "T = np.linspace(Tmin,Tcrit,1000)\n",
    "Q = np.arange(0.1,1,0.1)\n",
    "for i in Q:\n",
    "    s = ps('S','T',T,'Q',i,'Water')/1000\n",
    "    plt.plot(s,T,'#6ca8fa',alpha=0.7,lw=Larg_isolines)\n",
    "\n",
    "#Domo:\n",
    "T = np.linspace(Tmin,Tcrit,1000)\n",
    "s = ps('S','T',T,'Q',0,fld)/1000\n",
    "plt.plot(s,T,'black',lw=2*Larg_isolines)\n",
    "\n",
    "T = np.linspace(Tcrit,Tmin,1000)\n",
    "s = ps('S','T',T,'Q',1,fld)/1000\n",
    "plt.plot(s,T,'black',lw=2*Larg_isolines)\n",
    "\n",
    "#Linhas de pressão constante:\n",
    "T = np.linspace(Tmin,1000,1000)\n",
    "P = [st_antes[0].p,st_antes[1].p,st_antes[2].p,st_antes[3].p,st_depois[3].p] #P1, P2, P3, P4 e P4*\n",
    "for i in P:\n",
    "    s = ps('S','T',T,'P',i*1000,'Water')/1000\n",
    "    plt.plot(s,T,'#cc00ff',alpha=.7,lw=Larg_isolines)\n",
    "\n",
    "#Ciclo:\n",
    "#(antes)\n",
    "T = np.linspace(st_antes[7].T,st_antes[0].T,1000)\n",
    "s = ps('S','P',st_antes[0].p * 1000,'T',T,'Water')/1000\n",
    "plt.plot(s,T,'r',lw=Larg_cycle)\n",
    "\n",
    "T = np.linspace(st_antes[9].T,st_antes[1].T,1000)\n",
    "s = ps('S','T',T,'P',st_antes[9].p*1000,'Water')/1000\n",
    "plt.plot(s,T,'r',lw=Larg_cycle)\n",
    "plt.plot([st_antes[3].s,st_antes[4].s],[st_antes[3].T,st_antes[4].T],'r',lw=Larg_cycle)\n",
    "\n",
    "plt.plot([st_antes[0].s,st_antes[1].s],[st_antes[0].T,st_antes[1].T],color='r',linestyle='dashed',lw=Larg_cycle)\n",
    "plt.plot([st_antes[1].s,st_antes[2].s],[st_antes[1].T,st_antes[2].T],color='r',linestyle='dashed',lw=Larg_cycle)\n",
    "\n",
    "s = np.linspace(st_antes[2].s,st_antes[6].s,1000)\n",
    "T = ps('T','S',s*1000,'P',st_antes[2].p*1000,'Water')\n",
    "plt.plot(s,T,'r',lw=Larg_cycle)\n",
    "\n",
    "T = np.linspace(st_antes[5].T,st_antes[6].T,1000)\n",
    "s = ps('S','P',st_antes[5].p*1000,'T',T,'Water')/1000\n",
    "plt.plot(s,T,'r',lw=Larg_cycle)\n",
    "\n",
    "s = np.linspace(st_antes[2].s,st_antes[3].s,1000)\n",
    "plt.plot([st_antes[3].s,st_antes[2].s],[st_antes[3].T,st_antes[2].T],color='r',linestyle='dashed',lw=Larg_cycle)\n",
    "\n",
    "#(depois)\n",
    "T = np.linspace(st_depois[7].T,st_depois[0].T,1000)\n",
    "s = ps('S','P',st_depois[0].p * 1000,'T',T,'Water')/1000\n",
    "plt.plot(s,T,'lime',lw=Larg_cycle)\n",
    "\n",
    "T = np.linspace(st_depois[9].T,st_depois[1].T,1000)\n",
    "s = ps('S','T',T,'P',st_depois[9].p*1000,'Water')/1000\n",
    "plt.plot(s,T,'lime',lw=Larg_cycle)\n",
    "plt.plot([st_depois[3].s,st_depois[4].s],[st_depois[3].T,st_depois[4].T],'lime',lw=Larg_cycle)\n",
    "\n",
    "plt.plot([st_depois[0].s,st_depois[1].s],[st_depois[0].T,st_depois[1].T],color='lime',linestyle='dashed',lw=Larg_cycle)\n",
    "plt.plot([st_depois[1].s,st_depois[2].s],[st_depois[1].T,st_depois[2].T],color='lime',linestyle='dashed',lw=Larg_cycle)\n",
    "\n",
    "s = np.linspace(st_depois[2].s,st_depois[6].s,1000)\n",
    "T = ps('T','S',s*1000,'P',st_depois[2].p*1000,'Water')\n",
    "plt.plot(s,T,'lime',lw=Larg_cycle)\n",
    "\n",
    "T = np.linspace(st_depois[5].T,st_depois[6].T,1000)\n",
    "s = ps('S','P',st_depois[5].p*1000,'T',T,'Water')/1000\n",
    "plt.plot(s,T,'lime',lw=Larg_cycle)\n",
    "\n",
    "s = np.linspace(st_depois[2].s,st_depois[3].s,1000)\n",
    "plt.plot([st_depois[3].s,st_depois[2].s],[st_depois[3].T,st_depois[2].T],color='lime',linestyle='dashed',lw=Larg_cycle)\n",
    "\n",
    "#Pontuar e nomear:\n",
    "for i in range(0, n):\n",
    "    plt.scatter(st_antes[i].s,st_antes[i].T,zorder=5,color='k',s=Larg_scatters)\n",
    "    plt.scatter(st_depois[i].s,st_depois[i].T,zorder=5,color='k',s=Larg_scatters)\n",
    "\n",
    "plt.text(st_antes[0].s+.1,st_antes[0].T,'1',ha='left')\n",
    "plt.text(st_antes[1].s+.1,st_antes[1].T,'2',ha='left')\n",
    "plt.text(st_antes[2].s+.1,st_antes[2].T,'3',ha='left')\n",
    "plt.text(st_antes[3].s+.1,st_antes[3].T,'4',ha='left')\n",
    "plt.text(st_antes[4].s-.1,st_antes[4].T,'5, 6',ha='right')\n",
    "plt.text(st_antes[6].s-.1,st_antes[6].T,'7, 8, 9, 10',ha='right')\n",
    "plt.text(st_antes[10].s-.1,st_antes[10].T,'11',va='bottom',ha='right')\n",
    "plt.text(st_antes[11].s-.1,st_antes[11].T+.1,'12',ha='right')\n",
    "plt.text(st_depois[3].s+.1,st_depois[3].T,'4*',va='top',ha='left')\n",
    "plt.text(st_depois[4].s-.1,st_depois[4].T,'5*, 6*',va='top',ha='right')\n",
    "\n",
    "#plt.grid(lw=Larg_isolines)\n",
    "plt.twinx()\n",
    "plt.ylim(y1-273.15,y2-273.15)\n",
    "plt.ylabel('Temperatura, T[°C]')\n",
    "#plt.grid(lw=Larg_isolines)\n",
    "plt.show()\n",
    "\n",
    "# Recobrar os estados anteriores ao gráfico:\n",
    "\n",
    "del T\n",
    "del P\n",
    "del s\n",
    "\n",
    "T = [] \n",
    "P = []\n",
    "s = []\n",
    "\n",
    "for i in range(0, n):\n",
    "    T.append(round(st_depois[i].T,2))\n",
    "    P.append(round(st_depois[i].p,2))\n",
    "    s.append(round(st_depois[i].s,2))"
   ]
  },
  {
   "cell_type": "markdown",
   "metadata": {
    "code_folding": [],
    "hide_input": false,
    "id": "L207JH1_CQdk"
   },
   "source": [
    "## **Tabela relatório completo Ciclo Rankine**"
   ]
  },
  {
   "cell_type": "code",
   "execution_count": 25,
   "metadata": {
    "cellView": "code",
    "cell_style": "center",
    "code_folding": [],
    "colab": {
     "base_uri": "https://localhost:8080/"
    },
    "hide_input": true,
    "id": "GY2tqM_TCH9V",
    "outputId": "8c02cc3f-24c3-4a25-95b7-7337b7e344f3",
    "scrolled": false
   },
   "outputs": [],
   "source": [
    "# Tabela 3:\n",
    "\n",
    "table3 = np.array(STT_T + STT_P + STT_X + STT_h + STT_s + STT_v)\n",
    "\n",
    "df3 = pd.DataFrame()\n",
    "pd.set_option('display.max_rows', None)\n",
    "tabela_geral = {\"Propriedade\": table3[:,0], \"%\": table3[:,1], \"Estado 1\": table3[:,2], \"Estado 2\": table3[:,3], \"Estado 3\": table3[:,4], \"Estado 4\": table3[:,5], \"Estado 5\": table3[:,6], \"Estado 6\": table3[:,7], \"Estado 7\": table3[:,8], \"Estado 8\": table3[:,9], \"Estado 9\": table3[:,10], \"Estado 10\": table3[:,11], \"Estado 11\": table3[:,12], \"Estado 12\": table3[:,13]}\n",
    "df3 = pd.DataFrame(tabela_geral)"
   ]
  },
  {
   "cell_type": "markdown",
   "metadata": {
    "hide_input": true,
    "variables": {
     "df3": "<div>\n<style scoped>\n    .dataframe tbody tr th:only-of-type {\n        vertical-align: middle;\n    }\n\n    .dataframe tbody tr th {\n        vertical-align: top;\n    }\n\n    .dataframe thead th {\n        text-align: right;\n    }\n</style>\n<table border=\"1\" class=\"dataframe\">\n  <thead>\n    <tr style=\"text-align: right;\">\n      <th></th>\n      <th>Propriedade</th>\n      <th>%</th>\n      <th>Estado 1</th>\n      <th>Estado 2</th>\n      <th>Estado 3</th>\n      <th>Estado 4</th>\n      <th>Estado 5</th>\n      <th>Estado 6</th>\n      <th>Estado 7</th>\n      <th>Estado 8</th>\n      <th>Estado 9</th>\n      <th>Estado 10</th>\n      <th>Estado 11</th>\n      <th>Estado 12</th>\n    </tr>\n  </thead>\n  <tbody>\n    <tr>\n      <th>0</th>\n      <td>Temperatura [°C]</td>\n      <td>0.0</td>\n      <td>485.0</td>\n      <td>243.27</td>\n      <td>127.41</td>\n      <td>50.64</td>\n      <td>50.64</td>\n      <td>50.66</td>\n      <td>110.0</td>\n      <td>110.75</td>\n      <td>110.0</td>\n      <td>110.08</td>\n      <td>175.35</td>\n      <td>175.35</td>\n    </tr>\n    <tr>\n      <th>1</th>\n      <td>Temperatura [°C]</td>\n      <td>10.0</td>\n      <td>485.0</td>\n      <td>243.27</td>\n      <td>127.41</td>\n      <td>49.99</td>\n      <td>49.99</td>\n      <td>50.01</td>\n      <td>110.0</td>\n      <td>110.75</td>\n      <td>110.0</td>\n      <td>110.08</td>\n      <td>175.35</td>\n      <td>175.35</td>\n    </tr>\n    <tr>\n      <th>2</th>\n      <td>Temperatura [°C]</td>\n      <td>20.0</td>\n      <td>485.0</td>\n      <td>243.27</td>\n      <td>127.41</td>\n      <td>49.08</td>\n      <td>49.08</td>\n      <td>49.1</td>\n      <td>110.0</td>\n      <td>110.75</td>\n      <td>110.0</td>\n      <td>110.08</td>\n      <td>175.35</td>\n      <td>175.35</td>\n    </tr>\n    <tr>\n      <th>3</th>\n      <td>Temperatura [°C]</td>\n      <td>30.0</td>\n      <td>485.0</td>\n      <td>243.27</td>\n      <td>127.41</td>\n      <td>47.97</td>\n      <td>47.97</td>\n      <td>47.99</td>\n      <td>110.0</td>\n      <td>110.75</td>\n      <td>110.0</td>\n      <td>110.08</td>\n      <td>175.35</td>\n      <td>175.35</td>\n    </tr>\n    <tr>\n      <th>4</th>\n      <td>Temperatura [°C]</td>\n      <td>40.0</td>\n      <td>485.0</td>\n      <td>243.27</td>\n      <td>127.41</td>\n      <td>46.72</td>\n      <td>46.72</td>\n      <td>46.74</td>\n      <td>110.0</td>\n      <td>110.75</td>\n      <td>110.0</td>\n      <td>110.08</td>\n      <td>175.35</td>\n      <td>175.35</td>\n    </tr>\n    <tr>\n      <th>5</th>\n      <td>Temperatura [°C]</td>\n      <td>50.0</td>\n      <td>485.0</td>\n      <td>243.27</td>\n      <td>127.41</td>\n      <td>45.4</td>\n      <td>45.4</td>\n      <td>45.42</td>\n      <td>110.0</td>\n      <td>110.75</td>\n      <td>110.0</td>\n      <td>110.08</td>\n      <td>175.35</td>\n      <td>175.35</td>\n    </tr>\n    <tr>\n      <th>6</th>\n      <td>Temperatura [°C]</td>\n      <td>60.0</td>\n      <td>485.0</td>\n      <td>243.27</td>\n      <td>127.41</td>\n      <td>44.09</td>\n      <td>44.09</td>\n      <td>44.11</td>\n      <td>110.0</td>\n      <td>110.75</td>\n      <td>110.0</td>\n      <td>110.08</td>\n      <td>175.35</td>\n      <td>175.35</td>\n    </tr>\n    <tr>\n      <th>7</th>\n      <td>Temperatura [°C]</td>\n      <td>70.0</td>\n      <td>485.0</td>\n      <td>243.27</td>\n      <td>127.41</td>\n      <td>42.85</td>\n      <td>42.85</td>\n      <td>42.87</td>\n      <td>110.0</td>\n      <td>110.75</td>\n      <td>110.0</td>\n      <td>110.08</td>\n      <td>175.35</td>\n      <td>175.35</td>\n    </tr>\n    <tr>\n      <th>8</th>\n      <td>Temperatura [°C]</td>\n      <td>80.0</td>\n      <td>485.0</td>\n      <td>243.27</td>\n      <td>127.41</td>\n      <td>41.76</td>\n      <td>41.76</td>\n      <td>41.78</td>\n      <td>110.0</td>\n      <td>110.75</td>\n      <td>110.0</td>\n      <td>110.08</td>\n      <td>175.35</td>\n      <td>175.35</td>\n    </tr>\n    <tr>\n      <th>9</th>\n      <td>Temperatura [°C]</td>\n      <td>90.0</td>\n      <td>485.0</td>\n      <td>243.27</td>\n      <td>127.41</td>\n      <td>40.86</td>\n      <td>40.86</td>\n      <td>40.88</td>\n      <td>110.0</td>\n      <td>110.75</td>\n      <td>110.0</td>\n      <td>110.08</td>\n      <td>175.35</td>\n      <td>175.35</td>\n    </tr>\n    <tr>\n      <th>10</th>\n      <td>Temperatura [°C]</td>\n      <td>100.0</td>\n      <td>485.0</td>\n      <td>243.27</td>\n      <td>127.41</td>\n      <td>40.2</td>\n      <td>40.2</td>\n      <td>40.21</td>\n      <td>110.0</td>\n      <td>110.75</td>\n      <td>110.0</td>\n      <td>110.08</td>\n      <td>175.35</td>\n      <td>175.35</td>\n    </tr>\n    <tr>\n      <th>11</th>\n      <td>Pressão [kPa]</td>\n      <td>0.0</td>\n      <td>6495.0</td>\n      <td>900.0</td>\n      <td>250.0</td>\n      <td>12.75</td>\n      <td>12.75</td>\n      <td>250.0</td>\n      <td>250.0</td>\n      <td>6495.0</td>\n      <td>250.0</td>\n      <td>900.0</td>\n      <td>900.0</td>\n      <td>900.0</td>\n    </tr>\n    <tr>\n      <th>12</th>\n      <td>Pressão [kPa]</td>\n      <td>10.0</td>\n      <td>6495.0</td>\n      <td>900.0</td>\n      <td>250.0</td>\n      <td>12.34</td>\n      <td>12.34</td>\n      <td>250.0</td>\n      <td>250.0</td>\n      <td>6495.0</td>\n      <td>250.0</td>\n      <td>900.0</td>\n      <td>900.0</td>\n      <td>900.0</td>\n    </tr>\n    <tr>\n      <th>13</th>\n      <td>Pressão [kPa]</td>\n      <td>20.0</td>\n      <td>6495.0</td>\n      <td>900.0</td>\n      <td>250.0</td>\n      <td>11.8</td>\n      <td>11.8</td>\n      <td>250.0</td>\n      <td>250.0</td>\n      <td>6495.0</td>\n      <td>250.0</td>\n      <td>900.0</td>\n      <td>900.0</td>\n      <td>900.0</td>\n    </tr>\n    <tr>\n      <th>14</th>\n      <td>Pressão [kPa]</td>\n      <td>30.0</td>\n      <td>6495.0</td>\n      <td>900.0</td>\n      <td>250.0</td>\n      <td>11.16</td>\n      <td>11.16</td>\n      <td>250.0</td>\n      <td>250.0</td>\n      <td>6495.0</td>\n      <td>250.0</td>\n      <td>900.0</td>\n      <td>900.0</td>\n      <td>900.0</td>\n    </tr>\n    <tr>\n      <th>15</th>\n      <td>Pressão [kPa]</td>\n      <td>40.0</td>\n      <td>6495.0</td>\n      <td>900.0</td>\n      <td>250.0</td>\n      <td>10.48</td>\n      <td>10.48</td>\n      <td>250.0</td>\n      <td>250.0</td>\n      <td>6495.0</td>\n      <td>250.0</td>\n      <td>900.0</td>\n      <td>900.0</td>\n      <td>900.0</td>\n    </tr>\n    <tr>\n      <th>16</th>\n      <td>Pressão [kPa]</td>\n      <td>50.0</td>\n      <td>6495.0</td>\n      <td>900.0</td>\n      <td>250.0</td>\n      <td>9.8</td>\n      <td>9.8</td>\n      <td>250.0</td>\n      <td>250.0</td>\n      <td>6495.0</td>\n      <td>250.0</td>\n      <td>900.0</td>\n      <td>900.0</td>\n      <td>900.0</td>\n    </tr>\n    <tr>\n      <th>17</th>\n      <td>Pressão [kPa]</td>\n      <td>60.0</td>\n      <td>6495.0</td>\n      <td>900.0</td>\n      <td>250.0</td>\n      <td>9.15</td>\n      <td>9.15</td>\n      <td>250.0</td>\n      <td>250.0</td>\n      <td>6495.0</td>\n      <td>250.0</td>\n      <td>900.0</td>\n      <td>900.0</td>\n      <td>900.0</td>\n    </tr>\n    <tr>\n      <th>18</th>\n      <td>Pressão [kPa]</td>\n      <td>70.0</td>\n      <td>6495.0</td>\n      <td>900.0</td>\n      <td>250.0</td>\n      <td>8.58</td>\n      <td>8.58</td>\n      <td>250.0</td>\n      <td>250.0</td>\n      <td>6495.0</td>\n      <td>250.0</td>\n      <td>900.0</td>\n      <td>900.0</td>\n      <td>900.0</td>\n    </tr>\n    <tr>\n      <th>19</th>\n      <td>Pressão [kPa]</td>\n      <td>80.0</td>\n      <td>6495.0</td>\n      <td>900.0</td>\n      <td>250.0</td>\n      <td>8.11</td>\n      <td>8.11</td>\n      <td>250.0</td>\n      <td>250.0</td>\n      <td>6495.0</td>\n      <td>250.0</td>\n      <td>900.0</td>\n      <td>900.0</td>\n      <td>900.0</td>\n    </tr>\n    <tr>\n      <th>20</th>\n      <td>Pressão [kPa]</td>\n      <td>90.0</td>\n      <td>6495.0</td>\n      <td>900.0</td>\n      <td>250.0</td>\n      <td>7.73</td>\n      <td>7.73</td>\n      <td>250.0</td>\n      <td>250.0</td>\n      <td>6495.0</td>\n      <td>250.0</td>\n      <td>900.0</td>\n      <td>900.0</td>\n      <td>900.0</td>\n    </tr>\n    <tr>\n      <th>21</th>\n      <td>Pressão [kPa]</td>\n      <td>100.0</td>\n      <td>6495.0</td>\n      <td>900.0</td>\n      <td>250.0</td>\n      <td>7.46</td>\n      <td>7.46</td>\n      <td>250.0</td>\n      <td>250.0</td>\n      <td>6495.0</td>\n      <td>250.0</td>\n      <td>900.0</td>\n      <td>900.0</td>\n      <td>900.0</td>\n    </tr>\n    <tr>\n      <th>22</th>\n      <td>Título</td>\n      <td>0.0</td>\n      <td>-</td>\n      <td>-</td>\n      <td>1.0</td>\n      <td>0.89</td>\n      <td>0.0</td>\n      <td>-</td>\n      <td>-</td>\n      <td>-</td>\n      <td>-</td>\n      <td>-</td>\n      <td>1.0</td>\n      <td>0.0</td>\n    </tr>\n    <tr>\n      <th>23</th>\n      <td>Título</td>\n      <td>10.0</td>\n      <td>-</td>\n      <td>-</td>\n      <td>1.0</td>\n      <td>0.89</td>\n      <td>0.0</td>\n      <td>-</td>\n      <td>-</td>\n      <td>-</td>\n      <td>-</td>\n      <td>-</td>\n      <td>1.0</td>\n      <td>0.0</td>\n    </tr>\n    <tr>\n      <th>24</th>\n      <td>Título</td>\n      <td>20.0</td>\n      <td>-</td>\n      <td>-</td>\n      <td>1.0</td>\n      <td>0.89</td>\n      <td>0.0</td>\n      <td>-</td>\n      <td>-</td>\n      <td>-</td>\n      <td>-</td>\n      <td>-</td>\n      <td>1.0</td>\n      <td>0.0</td>\n    </tr>\n    <tr>\n      <th>25</th>\n      <td>Título</td>\n      <td>30.0</td>\n      <td>-</td>\n      <td>-</td>\n      <td>1.0</td>\n      <td>0.89</td>\n      <td>0.0</td>\n      <td>-</td>\n      <td>-</td>\n      <td>-</td>\n      <td>-</td>\n      <td>-</td>\n      <td>1.0</td>\n      <td>0.0</td>\n    </tr>\n    <tr>\n      <th>26</th>\n      <td>Título</td>\n      <td>40.0</td>\n      <td>-</td>\n      <td>-</td>\n      <td>1.0</td>\n      <td>0.88</td>\n      <td>0.0</td>\n      <td>-</td>\n      <td>-</td>\n      <td>-</td>\n      <td>-</td>\n      <td>-</td>\n      <td>1.0</td>\n      <td>0.0</td>\n    </tr>\n    <tr>\n      <th>27</th>\n      <td>Título</td>\n      <td>50.0</td>\n      <td>-</td>\n      <td>-</td>\n      <td>1.0</td>\n      <td>0.88</td>\n      <td>0.0</td>\n      <td>-</td>\n      <td>-</td>\n      <td>-</td>\n      <td>-</td>\n      <td>-</td>\n      <td>1.0</td>\n      <td>0.0</td>\n    </tr>\n    <tr>\n      <th>28</th>\n      <td>Título</td>\n      <td>60.0</td>\n      <td>-</td>\n      <td>-</td>\n      <td>1.0</td>\n      <td>0.88</td>\n      <td>0.0</td>\n      <td>-</td>\n      <td>-</td>\n      <td>-</td>\n      <td>-</td>\n      <td>-</td>\n      <td>1.0</td>\n      <td>0.0</td>\n    </tr>\n    <tr>\n      <th>29</th>\n      <td>Título</td>\n      <td>70.0</td>\n      <td>-</td>\n      <td>-</td>\n      <td>1.0</td>\n      <td>0.88</td>\n      <td>0.0</td>\n      <td>-</td>\n      <td>-</td>\n      <td>-</td>\n      <td>-</td>\n      <td>-</td>\n      <td>1.0</td>\n      <td>0.0</td>\n    </tr>\n    <tr>\n      <th>30</th>\n      <td>Título</td>\n      <td>80.0</td>\n      <td>-</td>\n      <td>-</td>\n      <td>1.0</td>\n      <td>0.88</td>\n      <td>0.0</td>\n      <td>-</td>\n      <td>-</td>\n      <td>-</td>\n      <td>-</td>\n      <td>-</td>\n      <td>1.0</td>\n      <td>0.0</td>\n    </tr>\n    <tr>\n      <th>31</th>\n      <td>Título</td>\n      <td>90.0</td>\n      <td>-</td>\n      <td>-</td>\n      <td>1.0</td>\n      <td>0.88</td>\n      <td>0.0</td>\n      <td>-</td>\n      <td>-</td>\n      <td>-</td>\n      <td>-</td>\n      <td>-</td>\n      <td>1.0</td>\n      <td>0.0</td>\n    </tr>\n    <tr>\n      <th>32</th>\n      <td>Título</td>\n      <td>100.0</td>\n      <td>-</td>\n      <td>-</td>\n      <td>1.0</td>\n      <td>0.88</td>\n      <td>0.0</td>\n      <td>-</td>\n      <td>-</td>\n      <td>-</td>\n      <td>-</td>\n      <td>-</td>\n      <td>1.0</td>\n      <td>0.0</td>\n    </tr>\n    <tr>\n      <th>33</th>\n      <td>Entalpia [kJ/kg]</td>\n      <td>0.0</td>\n      <td>3381.2</td>\n      <td>2932.08</td>\n      <td>2714.68</td>\n      <td>2331.17</td>\n      <td>212.02</td>\n      <td>212.3</td>\n      <td>461.49</td>\n      <td>469.21</td>\n      <td>461.49</td>\n      <td>462.3</td>\n      <td>2773.03</td>\n      <td>742.56</td>\n    </tr>\n    <tr>\n      <th>34</th>\n      <td>Entalpia [kJ/kg]</td>\n      <td>10.0</td>\n      <td>3381.2</td>\n      <td>2932.08</td>\n      <td>2714.68</td>\n      <td>2327.66</td>\n      <td>209.29</td>\n      <td>209.58</td>\n      <td>461.49</td>\n      <td>469.21</td>\n      <td>461.49</td>\n      <td>462.3</td>\n      <td>2773.03</td>\n      <td>742.56</td>\n    </tr>\n    <tr>\n      <th>35</th>\n      <td>Entalpia [kJ/kg]</td>\n      <td>20.0</td>\n      <td>3381.2</td>\n      <td>2932.08</td>\n      <td>2714.68</td>\n      <td>2322.76</td>\n      <td>205.5</td>\n      <td>205.79</td>\n      <td>461.49</td>\n      <td>469.21</td>\n      <td>461.49</td>\n      <td>462.3</td>\n      <td>2773.03</td>\n      <td>742.56</td>\n    </tr>\n    <tr>\n      <th>36</th>\n      <td>Entalpia [kJ/kg]</td>\n      <td>30.0</td>\n      <td>3381.2</td>\n      <td>2932.08</td>\n      <td>2714.68</td>\n      <td>2316.76</td>\n      <td>200.86</td>\n      <td>201.14</td>\n      <td>461.49</td>\n      <td>469.21</td>\n      <td>461.49</td>\n      <td>462.3</td>\n      <td>2773.03</td>\n      <td>742.56</td>\n    </tr>\n    <tr>\n      <th>37</th>\n      <td>Entalpia [kJ/kg]</td>\n      <td>40.0</td>\n      <td>3381.2</td>\n      <td>2932.08</td>\n      <td>2714.68</td>\n      <td>2309.98</td>\n      <td>195.63</td>\n      <td>195.92</td>\n      <td>461.49</td>\n      <td>469.21</td>\n      <td>461.49</td>\n      <td>462.3</td>\n      <td>2773.03</td>\n      <td>742.56</td>\n    </tr>\n    <tr>\n      <th>38</th>\n      <td>Entalpia [kJ/kg]</td>\n      <td>50.0</td>\n      <td>3381.2</td>\n      <td>2932.08</td>\n      <td>2714.68</td>\n      <td>2302.81</td>\n      <td>190.12</td>\n      <td>190.41</td>\n      <td>461.49</td>\n      <td>469.21</td>\n      <td>461.49</td>\n      <td>462.3</td>\n      <td>2773.03</td>\n      <td>742.56</td>\n    </tr>\n    <tr>\n      <th>39</th>\n      <td>Entalpia [kJ/kg]</td>\n      <td>60.0</td>\n      <td>3381.2</td>\n      <td>2932.08</td>\n      <td>2714.68</td>\n      <td>2295.66</td>\n      <td>184.63</td>\n      <td>184.92</td>\n      <td>461.49</td>\n      <td>469.21</td>\n      <td>461.49</td>\n      <td>462.3</td>\n      <td>2773.03</td>\n      <td>742.56</td>\n    </tr>\n    <tr>\n      <th>40</th>\n      <td>Entalpia [kJ/kg]</td>\n      <td>70.0</td>\n      <td>3381.2</td>\n      <td>2932.08</td>\n      <td>2714.68</td>\n      <td>2288.9</td>\n      <td>179.46</td>\n      <td>179.75</td>\n      <td>461.49</td>\n      <td>469.21</td>\n      <td>461.49</td>\n      <td>462.3</td>\n      <td>2773.03</td>\n      <td>742.56</td>\n    </tr>\n    <tr>\n      <th>41</th>\n      <td>Entalpia [kJ/kg]</td>\n      <td>80.0</td>\n      <td>3381.2</td>\n      <td>2932.08</td>\n      <td>2714.68</td>\n      <td>2282.9</td>\n      <td>174.88</td>\n      <td>175.17</td>\n      <td>461.49</td>\n      <td>469.21</td>\n      <td>461.49</td>\n      <td>462.3</td>\n      <td>2773.03</td>\n      <td>742.56</td>\n    </tr>\n    <tr>\n      <th>42</th>\n      <td>Entalpia [kJ/kg]</td>\n      <td>90.0</td>\n      <td>3381.2</td>\n      <td>2932.08</td>\n      <td>2714.68</td>\n      <td>2277.97</td>\n      <td>171.13</td>\n      <td>171.42</td>\n      <td>461.49</td>\n      <td>469.21</td>\n      <td>461.49</td>\n      <td>462.3</td>\n      <td>2773.03</td>\n      <td>742.56</td>\n    </tr>\n    <tr>\n      <th>43</th>\n      <td>Entalpia [kJ/kg]</td>\n      <td>100.0</td>\n      <td>3381.2</td>\n      <td>2932.08</td>\n      <td>2714.68</td>\n      <td>2274.32</td>\n      <td>168.36</td>\n      <td>168.64</td>\n      <td>461.49</td>\n      <td>469.21</td>\n      <td>461.49</td>\n      <td>462.3</td>\n      <td>2773.03</td>\n      <td>742.56</td>\n    </tr>\n    <tr>\n      <th>44</th>\n      <td>Entropia [kJ/kg*K]</td>\n      <td>0.0</td>\n      <td>6.7932</td>\n      <td>6.9522</td>\n      <td>7.0479</td>\n      <td>7.2569</td>\n      <td>0.7121</td>\n      <td>0.7122</td>\n      <td>1.4187</td>\n      <td>1.4218</td>\n      <td>1.4187</td>\n      <td>1.4191</td>\n      <td>6.6213</td>\n      <td>2.094</td>\n    </tr>\n    <tr>\n      <th>45</th>\n      <td>Entropia [kJ/kg*K]</td>\n      <td>10.0</td>\n      <td>6.7932</td>\n      <td>6.9522</td>\n      <td>7.0479</td>\n      <td>7.2593</td>\n      <td>0.7037</td>\n      <td>0.7038</td>\n      <td>1.4187</td>\n      <td>1.4218</td>\n      <td>1.4187</td>\n      <td>1.4191</td>\n      <td>6.6213</td>\n      <td>2.094</td>\n    </tr>\n    <tr>\n      <th>46</th>\n      <td>Entropia [kJ/kg*K]</td>\n      <td>20.0</td>\n      <td>6.7932</td>\n      <td>6.9522</td>\n      <td>7.0479</td>\n      <td>7.2625</td>\n      <td>0.6919</td>\n      <td>0.692</td>\n      <td>1.4187</td>\n      <td>1.4218</td>\n      <td>1.4187</td>\n      <td>1.4191</td>\n      <td>6.6213</td>\n      <td>2.094</td>\n    </tr>\n    <tr>\n      <th>47</th>\n      <td>Entropia [kJ/kg*K]</td>\n      <td>30.0</td>\n      <td>6.7932</td>\n      <td>6.9522</td>\n      <td>7.0479</td>\n      <td>7.2666</td>\n      <td>0.6775</td>\n      <td>0.6776</td>\n      <td>1.4187</td>\n      <td>1.4218</td>\n      <td>1.4187</td>\n      <td>1.4191</td>\n      <td>6.6213</td>\n      <td>2.094</td>\n    </tr>\n    <tr>\n      <th>48</th>\n      <td>Entropia [kJ/kg*K]</td>\n      <td>40.0</td>\n      <td>6.7932</td>\n      <td>6.9522</td>\n      <td>7.0479</td>\n      <td>7.2712</td>\n      <td>0.6612</td>\n      <td>0.6613</td>\n      <td>1.4187</td>\n      <td>1.4218</td>\n      <td>1.4187</td>\n      <td>1.4191</td>\n      <td>6.6213</td>\n      <td>2.094</td>\n    </tr>\n    <tr>\n      <th>49</th>\n      <td>Entropia [kJ/kg*K]</td>\n      <td>50.0</td>\n      <td>6.7932</td>\n      <td>6.9522</td>\n      <td>7.0479</td>\n      <td>7.2761</td>\n      <td>0.6439</td>\n      <td>0.644</td>\n      <td>1.4187</td>\n      <td>1.4218</td>\n      <td>1.4187</td>\n      <td>1.4191</td>\n      <td>6.6213</td>\n      <td>2.094</td>\n    </tr>\n    <tr>\n      <th>50</th>\n      <td>Entropia [kJ/kg*K]</td>\n      <td>60.0</td>\n      <td>6.7932</td>\n      <td>6.9522</td>\n      <td>7.0479</td>\n      <td>7.281</td>\n      <td>0.6266</td>\n      <td>0.6268</td>\n      <td>1.4187</td>\n      <td>1.4218</td>\n      <td>1.4187</td>\n      <td>1.4191</td>\n      <td>6.6213</td>\n      <td>2.094</td>\n    </tr>\n    <tr>\n      <th>51</th>\n      <td>Entropia [kJ/kg*K]</td>\n      <td>70.0</td>\n      <td>6.7932</td>\n      <td>6.9522</td>\n      <td>7.0479</td>\n      <td>7.2857</td>\n      <td>0.6103</td>\n      <td>0.6104</td>\n      <td>1.4187</td>\n      <td>1.4218</td>\n      <td>1.4187</td>\n      <td>1.4191</td>\n      <td>6.6213</td>\n      <td>2.094</td>\n    </tr>\n    <tr>\n      <th>52</th>\n      <td>Entropia [kJ/kg*K]</td>\n      <td>80.0</td>\n      <td>6.7932</td>\n      <td>6.9522</td>\n      <td>7.0479</td>\n      <td>7.2899</td>\n      <td>0.5958</td>\n      <td>0.5959</td>\n      <td>1.4187</td>\n      <td>1.4218</td>\n      <td>1.4187</td>\n      <td>1.4191</td>\n      <td>6.6213</td>\n      <td>2.094</td>\n    </tr>\n    <tr>\n      <th>53</th>\n      <td>Entropia [kJ/kg*K]</td>\n      <td>90.0</td>\n      <td>6.7932</td>\n      <td>6.9522</td>\n      <td>7.0479</td>\n      <td>7.2933</td>\n      <td>0.5839</td>\n      <td>0.584</td>\n      <td>1.4187</td>\n      <td>1.4218</td>\n      <td>1.4187</td>\n      <td>1.4191</td>\n      <td>6.6213</td>\n      <td>2.094</td>\n    </tr>\n    <tr>\n      <th>54</th>\n      <td>Entropia [kJ/kg*K]</td>\n      <td>100.0</td>\n      <td>6.7932</td>\n      <td>6.9522</td>\n      <td>7.0479</td>\n      <td>7.2959</td>\n      <td>0.575</td>\n      <td>0.5752</td>\n      <td>1.4187</td>\n      <td>1.4218</td>\n      <td>1.4187</td>\n      <td>1.4191</td>\n      <td>6.6213</td>\n      <td>2.094</td>\n    </tr>\n    <tr>\n      <th>55</th>\n      <td>Volume específico [m³/kg]</td>\n      <td>0.0</td>\n      <td>0.050883</td>\n      <td>0.255802</td>\n      <td>0.718065</td>\n      <td>10.393083</td>\n      <td>0.001012</td>\n      <td>0.001012</td>\n      <td>0.001052</td>\n      <td>0.001049</td>\n      <td>0.001052</td>\n      <td>0.001051</td>\n      <td>0.214887</td>\n      <td>0.001121</td>\n    </tr>\n    <tr>\n      <th>56</th>\n      <td>Volume específico [m³/kg]</td>\n      <td>10.0</td>\n      <td>0.050883</td>\n      <td>0.255802</td>\n      <td>0.718065</td>\n      <td>10.701908</td>\n      <td>0.001012</td>\n      <td>0.001012</td>\n      <td>0.001052</td>\n      <td>0.001049</td>\n      <td>0.001052</td>\n      <td>0.001051</td>\n      <td>0.214887</td>\n      <td>0.001121</td>\n    </tr>\n    <tr>\n      <th>57</th>\n      <td>Volume específico [m³/kg]</td>\n      <td>20.0</td>\n      <td>0.050883</td>\n      <td>0.255802</td>\n      <td>0.718065</td>\n      <td>11.149738</td>\n      <td>0.001012</td>\n      <td>0.001012</td>\n      <td>0.001052</td>\n      <td>0.001049</td>\n      <td>0.001052</td>\n      <td>0.001051</td>\n      <td>0.214887</td>\n      <td>0.001121</td>\n    </tr>\n    <tr>\n      <th>58</th>\n      <td>Volume específico [m³/kg]</td>\n      <td>30.0</td>\n      <td>0.050883</td>\n      <td>0.255802</td>\n      <td>0.718065</td>\n      <td>11.728218</td>\n      <td>0.001011</td>\n      <td>0.001011</td>\n      <td>0.001052</td>\n      <td>0.001049</td>\n      <td>0.001052</td>\n      <td>0.001051</td>\n      <td>0.214887</td>\n      <td>0.001121</td>\n    </tr>\n    <tr>\n      <th>59</th>\n      <td>Volume específico [m³/kg]</td>\n      <td>40.0</td>\n      <td>0.050883</td>\n      <td>0.255802</td>\n      <td>0.718065</td>\n      <td>12.421819</td>\n      <td>0.001011</td>\n      <td>0.001011</td>\n      <td>0.001052</td>\n      <td>0.001049</td>\n      <td>0.001052</td>\n      <td>0.001051</td>\n      <td>0.214887</td>\n      <td>0.001121</td>\n    </tr>\n    <tr>\n      <th>60</th>\n      <td>Volume específico [m³/kg]</td>\n      <td>50.0</td>\n      <td>0.050883</td>\n      <td>0.255802</td>\n      <td>0.718065</td>\n      <td>13.205697</td>\n      <td>0.00101</td>\n      <td>0.00101</td>\n      <td>0.001052</td>\n      <td>0.001049</td>\n      <td>0.001052</td>\n      <td>0.001051</td>\n      <td>0.214887</td>\n      <td>0.001121</td>\n    </tr>\n    <tr>\n      <th>61</th>\n      <td>Volume específico [m³/kg]</td>\n      <td>60.0</td>\n      <td>0.050883</td>\n      <td>0.255802</td>\n      <td>0.718065</td>\n      <td>14.04418</td>\n      <td>0.00101</td>\n      <td>0.001009</td>\n      <td>0.001052</td>\n      <td>0.001049</td>\n      <td>0.001052</td>\n      <td>0.001051</td>\n      <td>0.214887</td>\n      <td>0.001121</td>\n    </tr>\n    <tr>\n      <th>62</th>\n      <td>Volume específico [m³/kg]</td>\n      <td>70.0</td>\n      <td>0.050883</td>\n      <td>0.255802</td>\n      <td>0.718065</td>\n      <td>14.890664</td>\n      <td>0.001009</td>\n      <td>0.001009</td>\n      <td>0.001052</td>\n      <td>0.001049</td>\n      <td>0.001052</td>\n      <td>0.001051</td>\n      <td>0.214887</td>\n      <td>0.001121</td>\n    </tr>\n    <tr>\n      <th>63</th>\n      <td>Volume específico [m³/kg]</td>\n      <td>80.0</td>\n      <td>0.050883</td>\n      <td>0.255802</td>\n      <td>0.718065</td>\n      <td>15.689764</td>\n      <td>0.001009</td>\n      <td>0.001008</td>\n      <td>0.001052</td>\n      <td>0.001049</td>\n      <td>0.001052</td>\n      <td>0.001051</td>\n      <td>0.214887</td>\n      <td>0.001121</td>\n    </tr>\n    <tr>\n      <th>64</th>\n      <td>Volume específico [m³/kg]</td>\n      <td>90.0</td>\n      <td>0.050883</td>\n      <td>0.255802</td>\n      <td>0.718065</td>\n      <td>16.382671</td>\n      <td>0.001008</td>\n      <td>0.001008</td>\n      <td>0.001052</td>\n      <td>0.001049</td>\n      <td>0.001052</td>\n      <td>0.001051</td>\n      <td>0.214887</td>\n      <td>0.001121</td>\n    </tr>\n    <tr>\n      <th>65</th>\n      <td>Volume específico [m³/kg]</td>\n      <td>100.0</td>\n      <td>0.050883</td>\n      <td>0.255802</td>\n      <td>0.718065</td>\n      <td>16.91719</td>\n      <td>0.001008</td>\n      <td>0.001008</td>\n      <td>0.001052</td>\n      <td>0.001049</td>\n      <td>0.001052</td>\n      <td>0.001051</td>\n      <td>0.214887</td>\n      <td>0.001121</td>\n    </tr>\n  </tbody>\n</table>\n</div>"
    }
   },
   "source": [
    "{{df3}}"
   ]
  },
  {
   "cell_type": "markdown",
   "metadata": {},
   "source": [
    "## **Salvar dados e mídias**"
   ]
  },
  {
   "cell_type": "code",
   "execution_count": 26,
   "metadata": {
    "hide_input": true
   },
   "outputs": [
    {
     "name": "stdout",
     "output_type": "stream",
     "text": [
      "Salvar imagens dos gráficos? (S ou N) N\n",
      "Salvar tabelas em Excel? (S ou N) N\n",
      "\u001b[92m\u001b[1m\n",
      "Programa executado com sucesso!\n"
     ]
    }
   ],
   "source": [
    "# Salvar tabelas em excel:\n",
    "\n",
    "resp = 0\n",
    "while resp != 's' or resp != 'S' or resp != 'n' or resp != 'N':\n",
    "    resp = input('Salvar imagens dos gráficos? (S ou N) ')\n",
    "    if resp == 's' or resp == 'S' or resp == 'n' or resp == 'N':\n",
    "        break\n",
    "        \n",
    "if resp == 's' or resp == 'S':\n",
    "    print('Aguarde...\\n')\n",
    "    fig1.savefig('Gráficos de temperatura e eficência do conddensador.png', dpi = 500)\n",
    "    fig2.savefig('Diagrama T-s.png', dpi = 500)\n",
    "del resp\n",
    "\n",
    "resp = 0\n",
    "while resp != 's' or resp != 'S' or resp != 'n' or resp != 'N':\n",
    "    resp = input('Salvar tabelas em Excel? (S ou N) ')\n",
    "    if resp == 's' or resp == 'S' or resp == 'n' or resp == 'N':\n",
    "        break\n",
    "\n",
    "if resp == 's' or resp == 'S':\n",
    "    print('Aguarde...\\n')\n",
    "    with pd.ExcelWriter('Tabelas.xlsx') as writer:  \n",
    "        df1.to_excel(writer, sheet_name='Tabela 1')\n",
    "        df2.to_excel(writer, sheet_name='Tabela 2')\n",
    "        df3.to_excel(writer, sheet_name='Tabela 3', index=None)\n",
    "del resp\n",
    "\n",
    "class color:\n",
    "    PURPLE = '\\033[95m'\n",
    "    CYAN = '\\033[96m'\n",
    "    DARKCYAN = '\\033[36m'\n",
    "    BLUE = '\\033[94m'\n",
    "    GREEN = '\\033[92m'\n",
    "    YELLOW = '\\033[93m'\n",
    "    RED = '\\033[91m'\n",
    "    BOLD = '\\033[1m'\n",
    "    UNDERLINE = '\\033[4m'\n",
    "    END = '\\033[0m'\n",
    "\n",
    "print(color.GREEN + color.BOLD + '\\nPrograma executado com sucesso!')"
   ]
  }
 ],
 "metadata": {
  "colab": {
   "collapsed_sections": [
    "ooclRVh5xral"
   ],
   "name": "Cópia de Modelagem_GDV Tentativa Go.ipynb",
   "provenance": []
  },
  "hide_input": false,
  "kernelspec": {
   "display_name": "Python 3",
   "language": "python",
   "name": "python3"
  },
  "language_info": {
   "codemirror_mode": {
    "name": "ipython",
    "version": 3
   },
   "file_extension": ".py",
   "mimetype": "text/x-python",
   "name": "python",
   "nbconvert_exporter": "python",
   "pygments_lexer": "ipython3",
   "version": "3.8.5"
  },
  "latex_envs": {
   "LaTeX_envs_menu_present": true,
   "autoclose": false,
   "autocomplete": true,
   "bibliofile": "biblio.bib",
   "cite_by": "apalike",
   "current_citInitial": 1,
   "eqLabelWithNumbers": true,
   "eqNumInitial": 1,
   "hotkeys": {
    "equation": "Ctrl-E",
    "itemize": "Ctrl-I"
   },
   "labels_anchors": false,
   "latex_user_defs": false,
   "report_style_numbering": false,
   "user_envs_cfg": false
  },
  "toc": {
   "base_numbering": 1,
   "nav_menu": {},
   "number_sections": true,
   "sideBar": true,
   "skip_h1_title": false,
   "title_cell": "Table of Contents",
   "title_sidebar": "Contents",
   "toc_cell": false,
   "toc_position": {},
   "toc_section_display": true,
   "toc_window_display": false
  },
  "varInspector": {
   "cols": {
    "lenName": 16,
    "lenType": 16,
    "lenVar": 40
   },
   "kernels_config": {
    "python": {
     "delete_cmd_postfix": "",
     "delete_cmd_prefix": "del ",
     "library": "var_list.py",
     "varRefreshCmd": "print(var_dic_list())"
    },
    "r": {
     "delete_cmd_postfix": ") ",
     "delete_cmd_prefix": "rm(",
     "library": "var_list.r",
     "varRefreshCmd": "cat(var_dic_list()) "
    }
   },
   "position": {
    "height": "805px",
    "left": "1502px",
    "right": "20px",
    "top": "120px",
    "width": "359px"
   },
   "types_to_exclude": [
    "module",
    "function",
    "builtin_function_or_method",
    "instance",
    "_Feature"
   ],
   "window_display": false
  },
  "widgets": {
   "application/vnd.jupyter.widget-state+json": {
    "49649ad29c7a46d5a10d964be1acea47": {
     "model_module": "@jupyter-widgets/controls",
     "model_name": "SliderStyleModel",
     "state": {
      "_model_module": "@jupyter-widgets/controls",
      "_model_module_version": "1.5.0",
      "_model_name": "SliderStyleModel",
      "_view_count": null,
      "_view_module": "@jupyter-widgets/base",
      "_view_module_version": "1.2.0",
      "_view_name": "StyleView",
      "description_width": "",
      "handle_color": null
     }
    },
    "4c8d606711904032b0eb58a92e5c7b76": {
     "model_module": "@jupyter-widgets/controls",
     "model_name": "IntSliderModel",
     "state": {
      "_dom_classes": [],
      "_model_module": "@jupyter-widgets/controls",
      "_model_module_version": "1.5.0",
      "_model_name": "IntSliderModel",
      "_view_count": null,
      "_view_module": "@jupyter-widgets/controls",
      "_view_module_version": "1.5.0",
      "_view_name": "IntSliderView",
      "continuous_update": true,
      "description": "ΔT17",
      "description_tooltip": null,
      "disabled": false,
      "layout": "IPY_MODEL_f961d464f0674884b62885763548c744",
      "max": 100,
      "min": -100,
      "orientation": "horizontal",
      "readout": true,
      "readout_format": "d",
      "step": 10,
      "style": "IPY_MODEL_49649ad29c7a46d5a10d964be1acea47",
      "value": 0
     }
    },
    "6588046973684308a95e73e2fdc3a7f5": {
     "model_module": "@jupyter-widgets/controls",
     "model_name": "SliderStyleModel",
     "state": {
      "_model_module": "@jupyter-widgets/controls",
      "_model_module_version": "1.5.0",
      "_model_name": "SliderStyleModel",
      "_view_count": null,
      "_view_module": "@jupyter-widgets/base",
      "_view_module_version": "1.2.0",
      "_view_name": "StyleView",
      "description_width": "",
      "handle_color": null
     }
    },
    "76bdd7db2ee042ce9850524d5296aca7": {
     "model_module": "@jupyter-widgets/controls",
     "model_name": "VBoxModel",
     "state": {
      "_dom_classes": [
       "widget-interact"
      ],
      "_model_module": "@jupyter-widgets/controls",
      "_model_module_version": "1.5.0",
      "_model_name": "VBoxModel",
      "_view_count": null,
      "_view_module": "@jupyter-widgets/controls",
      "_view_module_version": "1.5.0",
      "_view_name": "VBoxView",
      "box_style": "",
      "children": [
       "IPY_MODEL_e68021ba1d2d4a5d920c75f47bd3b239",
       "IPY_MODEL_4c8d606711904032b0eb58a92e5c7b76",
       "IPY_MODEL_ddb8d4ea3f0d491e8174c0f3374036dd"
      ],
      "layout": "IPY_MODEL_e0309f417efe4c61b60f93f8098bad74"
     }
    },
    "ccabfe97edb7431690a5f2014422f416": {
     "model_module": "@jupyter-widgets/base",
     "model_name": "LayoutModel",
     "state": {
      "_model_module": "@jupyter-widgets/base",
      "_model_module_version": "1.2.0",
      "_model_name": "LayoutModel",
      "_view_count": null,
      "_view_module": "@jupyter-widgets/base",
      "_view_module_version": "1.2.0",
      "_view_name": "LayoutView",
      "align_content": null,
      "align_items": null,
      "align_self": null,
      "border": null,
      "bottom": null,
      "display": null,
      "flex": null,
      "flex_flow": null,
      "grid_area": null,
      "grid_auto_columns": null,
      "grid_auto_flow": null,
      "grid_auto_rows": null,
      "grid_column": null,
      "grid_gap": null,
      "grid_row": null,
      "grid_template_areas": null,
      "grid_template_columns": null,
      "grid_template_rows": null,
      "height": null,
      "justify_content": null,
      "justify_items": null,
      "left": null,
      "margin": null,
      "max_height": null,
      "max_width": null,
      "min_height": null,
      "min_width": null,
      "object_fit": null,
      "object_position": null,
      "order": null,
      "overflow": null,
      "overflow_x": null,
      "overflow_y": null,
      "padding": null,
      "right": null,
      "top": null,
      "visibility": null,
      "width": null
     }
    },
    "ddb8d4ea3f0d491e8174c0f3374036dd": {
     "model_module": "@jupyter-widgets/output",
     "model_name": "OutputModel",
     "state": {
      "_dom_classes": [],
      "_model_module": "@jupyter-widgets/output",
      "_model_module_version": "1.0.0",
      "_model_name": "OutputModel",
      "_view_count": null,
      "_view_module": "@jupyter-widgets/output",
      "_view_module_version": "1.0.0",
      "_view_name": "OutputView",
      "layout": "IPY_MODEL_ccabfe97edb7431690a5f2014422f416",
      "msg_id": "",
      "outputs": [
       {
        "metadata": {
         "tags": []
        },
        "output_type": "stream",
        "stream": "stdout",
        "text": "\n\n"
       },
       {
        "metadata": {
         "tags": []
        },
        "output_type": "display_data",
        "text/html": "<div>\n<style scoped>\n    .dataframe tbody tr th:only-of-type {\n        vertical-align: middle;\n    }\n\n    .dataframe tbody tr th {\n        vertical-align: top;\n    }\n\n    .dataframe thead th {\n        text-align: right;\n    }\n</style>\n<table border=\"1\" class=\"dataframe\">\n  <thead>\n    <tr style=\"text-align: right;\">\n      <th></th>\n      <th>Valores</th>\n    </tr>\n  </thead>\n  <tbody>\n    <tr>\n      <th>T13 [°C]</th>\n      <td>250.81</td>\n    </tr>\n    <tr>\n      <th>T17 [°C]</th>\n      <td>220</td>\n    </tr>\n    <tr>\n      <th>T18 [°C]</th>\n      <td>1124.13</td>\n    </tr>\n    <tr>\n      <th>T19 [°C]</th>\n      <td>954.63</td>\n    </tr>\n    <tr>\n      <th>T20 [°C]</th>\n      <td>443.42</td>\n    </tr>\n    <tr>\n      <th>η fornalha [%]</th>\n      <td>63.10</td>\n    </tr>\n  </tbody>\n</table>\n</div>",
        "text/plain": "                Valores\nT13 [°C]         250.81\nT17 [°C]            220\nT18 [°C]        1124.13\nT19 [°C]         954.63\nT20 [°C]         443.42\nη fornalha [%]    63.10"
       }
      ]
     }
    },
    "e0309f417efe4c61b60f93f8098bad74": {
     "model_module": "@jupyter-widgets/base",
     "model_name": "LayoutModel",
     "state": {
      "_model_module": "@jupyter-widgets/base",
      "_model_module_version": "1.2.0",
      "_model_name": "LayoutModel",
      "_view_count": null,
      "_view_module": "@jupyter-widgets/base",
      "_view_module_version": "1.2.0",
      "_view_name": "LayoutView",
      "align_content": null,
      "align_items": null,
      "align_self": null,
      "border": null,
      "bottom": null,
      "display": null,
      "flex": null,
      "flex_flow": null,
      "grid_area": null,
      "grid_auto_columns": null,
      "grid_auto_flow": null,
      "grid_auto_rows": null,
      "grid_column": null,
      "grid_gap": null,
      "grid_row": null,
      "grid_template_areas": null,
      "grid_template_columns": null,
      "grid_template_rows": null,
      "height": null,
      "justify_content": null,
      "justify_items": null,
      "left": null,
      "margin": null,
      "max_height": null,
      "max_width": null,
      "min_height": null,
      "min_width": null,
      "object_fit": null,
      "object_position": null,
      "order": null,
      "overflow": null,
      "overflow_x": null,
      "overflow_y": null,
      "padding": null,
      "right": null,
      "top": null,
      "visibility": null,
      "width": null
     }
    },
    "e14ca00fb6b446aaa0b870e9ff92c6d2": {
     "model_module": "@jupyter-widgets/base",
     "model_name": "LayoutModel",
     "state": {
      "_model_module": "@jupyter-widgets/base",
      "_model_module_version": "1.2.0",
      "_model_name": "LayoutModel",
      "_view_count": null,
      "_view_module": "@jupyter-widgets/base",
      "_view_module_version": "1.2.0",
      "_view_name": "LayoutView",
      "align_content": null,
      "align_items": null,
      "align_self": null,
      "border": null,
      "bottom": null,
      "display": null,
      "flex": null,
      "flex_flow": null,
      "grid_area": null,
      "grid_auto_columns": null,
      "grid_auto_flow": null,
      "grid_auto_rows": null,
      "grid_column": null,
      "grid_gap": null,
      "grid_row": null,
      "grid_template_areas": null,
      "grid_template_columns": null,
      "grid_template_rows": null,
      "height": null,
      "justify_content": null,
      "justify_items": null,
      "left": null,
      "margin": null,
      "max_height": null,
      "max_width": null,
      "min_height": null,
      "min_width": null,
      "object_fit": null,
      "object_position": null,
      "order": null,
      "overflow": null,
      "overflow_x": null,
      "overflow_y": null,
      "padding": null,
      "right": null,
      "top": null,
      "visibility": null,
      "width": null
     }
    },
    "e68021ba1d2d4a5d920c75f47bd3b239": {
     "model_module": "@jupyter-widgets/controls",
     "model_name": "IntSliderModel",
     "state": {
      "_dom_classes": [],
      "_model_module": "@jupyter-widgets/controls",
      "_model_module_version": "1.5.0",
      "_model_name": "IntSliderModel",
      "_view_count": null,
      "_view_module": "@jupyter-widgets/controls",
      "_view_module_version": "1.5.0",
      "_view_name": "IntSliderView",
      "continuous_update": true,
      "description": "ΔT13",
      "description_tooltip": null,
      "disabled": false,
      "layout": "IPY_MODEL_e14ca00fb6b446aaa0b870e9ff92c6d2",
      "max": 100,
      "min": 30,
      "orientation": "horizontal",
      "readout": true,
      "readout_format": "d",
      "step": 10,
      "style": "IPY_MODEL_6588046973684308a95e73e2fdc3a7f5",
      "value": 30
     }
    },
    "f961d464f0674884b62885763548c744": {
     "model_module": "@jupyter-widgets/base",
     "model_name": "LayoutModel",
     "state": {
      "_model_module": "@jupyter-widgets/base",
      "_model_module_version": "1.2.0",
      "_model_name": "LayoutModel",
      "_view_count": null,
      "_view_module": "@jupyter-widgets/base",
      "_view_module_version": "1.2.0",
      "_view_name": "LayoutView",
      "align_content": null,
      "align_items": null,
      "align_self": null,
      "border": null,
      "bottom": null,
      "display": null,
      "flex": null,
      "flex_flow": null,
      "grid_area": null,
      "grid_auto_columns": null,
      "grid_auto_flow": null,
      "grid_auto_rows": null,
      "grid_column": null,
      "grid_gap": null,
      "grid_row": null,
      "grid_template_areas": null,
      "grid_template_columns": null,
      "grid_template_rows": null,
      "height": null,
      "justify_content": null,
      "justify_items": null,
      "left": null,
      "margin": null,
      "max_height": null,
      "max_width": null,
      "min_height": null,
      "min_width": null,
      "object_fit": null,
      "object_position": null,
      "order": null,
      "overflow": null,
      "overflow_x": null,
      "overflow_y": null,
      "padding": null,
      "right": null,
      "top": null,
      "visibility": null,
      "width": null
     }
    }
   }
  }
 },
 "nbformat": 4,
 "nbformat_minor": 1
}
